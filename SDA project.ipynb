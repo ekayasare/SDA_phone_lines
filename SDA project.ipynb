{
 "cells": [
  {
   "cell_type": "markdown",
   "metadata": {},
   "source": [
    "<div style=\"border:solid green 2px; padding: 20px\"> <h1 style=\"color:green; margin-bottom:20px\">Reviewer's comment v1</h1>\n",
    "\n",
    "Hello Ekay!\n",
    "\n",
    "I'm happy to review your project today.  🙌\n",
    "\n",
    "You can find my comments under the heading **«Review»**. I will categorize my comments in green, blue or red boxes like this:\n",
    "\n",
    "<div class=\"alert alert-success\">\n",
    "    <b>Success:</b> if everything is done successfully\n",
    "</div>\n",
    "<div class=\"alert alert-warning\">\n",
    "    <b>Remarks:</b> if I can give some recommendations or ways to improve the project\n",
    "</div>\n",
    "<div class=\"alert alert-danger\">\n",
    "    <b>Needs fixing:</b> if the block requires some corrections. Work can't be accepted with the red comments\n",
    "</div>\n",
    "\n",
    "Please don't remove my comments :) If you have any questions don't hesitate to respond to my comments in a different section. \n",
    "<div class=\"alert alert-info\"> <b>Student comments: </div>    \n"
   ]
  },
  {
   "cell_type": "markdown",
   "metadata": {},
   "source": [
    "<div style=\"border:solid green 2px; padding: 20px\">\n",
    "<b>Reviewer's comment v1</b>\n",
    "    \n",
    "<b>Overall Feedback</b> \n",
    "    \n",
    "    \n",
    "Hello Ekay,\n",
    "\n",
    "You’ve submitted another project—great work! Your commitment to pushing through the challenges of this program is admirable.\n",
    "\n",
    "After reviewing your submission, I’ve returned it with some feedback to help you make the necessary improvements. \n",
    "    \n",
    "You’ll find specific feedback in the notebook in the ‘Comments’ (`Reviewer's comment v1`) sections.\n",
    "    \n",
    "**What Was Great:**\n",
    "\n",
    "- You demonstrated a thorough approach to data loading, preparation, and cleaning, ensuring the data was in optimal shape for analysis.\n",
    "    \n",
    "**Areas to Improve:**\n",
    "\n",
    "- Check bugs in the code, so the rest of the project could be checked. \n",
    "   \n",
    "Keep in mind that revisions are a normal and valuable part of the learning process. Use this feedback to refine your work and resubmit when you’re ready. I know you’re capable of great things, and I’m here to support you every step of the way. Keep going—you’re doing a great job! 🏄\n",
    "    \n",
    "And of course, if you have any questions along the way, remember that you can always reach out to your tutor for clarification.\n",
    "</div>"
   ]
  },
  {
   "cell_type": "markdown",
   "metadata": {},
   "source": [
    "<div style=\"border:solid green 2px; padding: 20px\">\n",
    "<b>Reviewer's comment v2:</b>\n",
    "    \n",
    "<b>Overall Feedback</b> \n",
    "\n",
    "Thank you for making changes to your project! Could you please take a look at additional comments: title - `Reviewer's comment v2:`?\n",
    "    \n",
    "And of course, if you have any questions along the way, remember that you can always reach out to your tutor for any clarification.\n",
    "\n",
    "I will wait for you to send me a new version of the project :)\n",
    "</div>"
   ]
  },
  {
   "cell_type": "markdown",
   "metadata": {},
   "source": [
    "<div style=\"border:solid green 2px; padding: 20px\">\n",
    "<b>Reviewer's comment v3:</b>\n",
    "    \n",
    "<b>Overall Feedback</b> \n",
    "    \n",
    "I appreciate the effort you have put into revising your project.  There are no issues left, so your project has been accepted. I wish you engaging projects in the upcoming sprints! ☘️\n",
    "    \n",
    "PS: As a final note, I can recommend cool lectures on stat analysis here: https://www.youtube.com/playlist?list=PL2SOU6wwxB0uwwH80KTQ6ht66KWxbzTIo  \n",
    "    \n",
    "Another great self-paced course that covers basic concepts in probability and statistics - Probability and Statistics by Stanford Online or you could check this one [An Introduction to Statistical Learning with Applications in R](https://www.r-bloggers.com/2014/09/in-depth-introduction-to-machine-learning-in-15-hours-of-expert-videos/) 🙌\n",
    "\n",
    "</div>"
   ]
  },
  {
   "cell_type": "markdown",
   "metadata": {},
   "source": [
    "# Which one is a better plan?\n",
    "\n",
    "You work as an analyst for the telecom operator Megaline. The company offers its clients two prepaid plans, Surf and Ultimate. The commercial department wants to know which of the plans brings in more revenue in order to adjust the advertising budget.\n",
    "\n",
    "You are going to carry out a preliminary analysis of the plans based on a relatively small client selection. You'll have the data on 500 Megaline clients: who the clients are, where they're from, which plan they use, and the number of calls they made and text messages they sent in 2018. Your job is to analyze the clients' behavior and determine which prepaid plan brings in more revenue."
   ]
  },
  {
   "cell_type": "markdown",
   "metadata": {},
   "source": [
    "[We've provided you with some commentary to guide your thinking as you complete this project. However, make sure to remove all the bracketed comments before submitting your project.]\n",
    "\n",
    "[Before you dive into analyzing your data, explain for yourself the purpose of the project and actions you plan to take.]\n",
    "\n",
    "[Please bear in mind that studying, amending, and analyzing data is an iterative process. It is normal to return to previous steps and correct/expand them to allow for further steps.]"
   ]
  },
  {
   "cell_type": "markdown",
   "metadata": {},
   "source": [
    "### Project Objective and Plan\n",
    "\n",
    "The goal of this project is to determine which of the two prepaid plans offered by Megaline—**Surf** or **Ultimate**—brings in more revenue. By analyzing the behavior of 500 clients from 2018, the objective is to guide the company in making informed decisions about their advertising budget allocation for each plan.\n",
    "\n",
    "### Project Outline:\n",
    "\n",
    "#### 1. **Data Exploration and Cleaning**\n",
    "   - **Objective**: Ensure the dataset is complete and accurate for analysis.\n",
    "   - **Actions**:\n",
    "     - Load the datasets (`megaline_calls.csv`, `megaline_messages.csv`, `megaline_internet.csv`, `megaline_plans.csv`, `megaline_users.csv`).\n",
    "     - Convert data to the appropriate types (e.g., dates as `datetime`, numeric values as `int` or `float`).\n",
    "     - Identify and correct errors, such as missing values (e.g., missing churn dates), duplicates, or incorrectly formatted data.\n",
    "     - Validate that all users are accounted for across the various tables (calls, messages, internet) for accurate analysis.\n",
    "\n",
    "#### 2. **Feature Engineering**\n",
    "   - **Objective**: Create key metrics for each user to facilitate analysis.\n",
    "   - **Actions**:\n",
    "     - Calculate the **number of calls made**, **minutes used**, **text messages sent**, and **internet data used** per month for each user.\n",
    "     - Calculate **monthly revenue** for each user by:\n",
    "       - Subtracting the free package limits (calls, messages, data).\n",
    "       - Charging for excess usage based on the plan's rate (e.g., per minute, per text, per GB of data).\n",
    "       - Adding the fixed monthly fee of each plan.\n",
    "     - Group data by users and months to track overall usage and spending.\n",
    "\n",
    "#### 3. **Customer Behavior Analysis**\n",
    "   - **Objective**: Understand usage patterns for each plan.\n",
    "   - **Actions**:\n",
    "     - Analyze the distribution of calls, texts, and internet data usage for each plan.\n",
    "     - Calculate key statistics (mean, variance, and standard deviation) for each metric.\n",
    "     - Visualize the distributions using histograms to identify trends in how customers are using the plans.\n",
    "\n",
    "#### 4. **Revenue Comparison**\n",
    "   - **Objective**: Determine which plan generates more revenue on average.\n",
    "   - **Actions**:\n",
    "     - Compare the **average monthly revenue** for Surf vs. Ultimate plan users.\n",
    "     - Assess whether revenue variability is higher for one plan over the other.\n",
    "\n",
    "#### 5. **Hypothesis Testing**\n",
    "   - **Objective**: Validate whether differences in revenue are statistically significant.\n",
    "   - **Actions**:\n",
    "     - **Test 1**: Compare the average revenue between Surf and Ultimate plan users.\n",
    "       - Null Hypothesis (H₀): The average revenue from Surf and Ultimate users is the same.\n",
    "       - Alternative Hypothesis (H₁): The average revenue from Surf and Ultimate users is different.\n",
    "     - **Test 2**: Compare the average revenue between the NY-NJ region and other regions.\n",
    "       - Null Hypothesis (H₀): The average revenue from users in the NY-NJ region is the same as that from users in other regions.\n",
    "       - Alternative Hypothesis (H₁): The average revenue from users in the NY-NJ region is different from that of other regions.\n",
    "     - Determine the **alpha** level and conduct the appropriate statistical tests (e.g., t-test) to assess these hypotheses.\n",
    "\n",
    "#### 6. **Conclusion and Recommendations**\n",
    "   - **Objective**: Provide insights to Megaline based on analysis.\n",
    "   - **Actions**:\n",
    "     - Summarize findings: Which plan brings in more revenue and which customer behaviors drive this difference?\n",
    "     - Offer actionable recommendations for marketing strategy, such as shifting the advertising budget toward the more profitable plan or optimizing plan features based on user behavior.\n",
    "\n",
    "---\n",
    "\n",
    "This structure should guide us through the project and help answer the question of which plan—Surf or Ultimate—generates more revenue. Does this plan look good, or would you like to adjust anything before we proceed with the next steps?"
   ]
  },
  {
   "cell_type": "markdown",
   "metadata": {},
   "source": [
    "<div class=\"alert alert-block alert-success\">\n",
    "<b>Reviewer's comment v1</b>\n",
    " \n",
    "Great job keeping the additional information about the project goal! Additionally, you could add a short description of the tasks you plan to perform and the available data. This information could be helpful for the notebook reader.\n",
    "\n"
   ]
  },
  {
   "cell_type": "markdown",
   "metadata": {},
   "source": [
    "## Initialization"
   ]
  },
  {
   "cell_type": "markdown",
   "metadata": {},
   "source": []
  },
  {
   "cell_type": "code",
   "execution_count": 1,
   "metadata": {},
   "outputs": [],
   "source": [
    "# Loading all the libraries\n",
    "# Import necessary libraries\n",
    "import pandas as pd\n",
    "import numpy as np\n",
    "import matplotlib.pyplot as plt\n",
    "import scipy.stats as stats\n",
    "import math"
   ]
  },
  {
   "cell_type": "markdown",
   "metadata": {},
   "source": [
    "## Load data"
   ]
  },
  {
   "cell_type": "markdown",
   "metadata": {},
   "source": []
  },
  {
   "cell_type": "code",
   "execution_count": 2,
   "metadata": {},
   "outputs": [],
   "source": [
    "# Load the data files into different DataFrames\n",
    "calls_df = pd.read_csv('/datasets/megaline_calls.csv')\n",
    "internet_df = pd.read_csv('/datasets/megaline_internet.csv')\n",
    "messages_df = pd.read_csv('/datasets/megaline_messages.csv')\n",
    "plans_df = pd.read_csv('/datasets/megaline_plans.csv')\n",
    "users_df = pd.read_csv('/datasets/megaline_users.csv')\n"
   ]
  },
  {
   "cell_type": "markdown",
   "metadata": {},
   "source": [
    "## Prepare the data"
   ]
  },
  {
   "cell_type": "code",
   "execution_count": 3,
   "metadata": {},
   "outputs": [
    {
     "name": "stdout",
     "output_type": "stream",
     "text": [
      "<class 'pandas.core.frame.DataFrame'>\n",
      "RangeIndex: 137735 entries, 0 to 137734\n",
      "Data columns (total 4 columns):\n",
      " #   Column     Non-Null Count   Dtype  \n",
      "---  ------     --------------   -----  \n",
      " 0   id         137735 non-null  object \n",
      " 1   user_id    137735 non-null  int64  \n",
      " 2   call_date  137735 non-null  object \n",
      " 3   duration   137735 non-null  float64\n",
      "dtypes: float64(1), int64(1), object(2)\n",
      "memory usage: 4.2+ MB\n",
      "<class 'pandas.core.frame.DataFrame'>\n",
      "RangeIndex: 104825 entries, 0 to 104824\n",
      "Data columns (total 4 columns):\n",
      " #   Column        Non-Null Count   Dtype  \n",
      "---  ------        --------------   -----  \n",
      " 0   id            104825 non-null  object \n",
      " 1   user_id       104825 non-null  int64  \n",
      " 2   session_date  104825 non-null  object \n",
      " 3   mb_used       104825 non-null  float64\n",
      "dtypes: float64(1), int64(1), object(2)\n",
      "memory usage: 3.2+ MB\n",
      "<class 'pandas.core.frame.DataFrame'>\n",
      "RangeIndex: 76051 entries, 0 to 76050\n",
      "Data columns (total 3 columns):\n",
      " #   Column        Non-Null Count  Dtype \n",
      "---  ------        --------------  ----- \n",
      " 0   id            76051 non-null  object\n",
      " 1   user_id       76051 non-null  int64 \n",
      " 2   message_date  76051 non-null  object\n",
      "dtypes: int64(1), object(2)\n",
      "memory usage: 1.7+ MB\n",
      "<class 'pandas.core.frame.DataFrame'>\n",
      "RangeIndex: 2 entries, 0 to 1\n",
      "Data columns (total 8 columns):\n",
      " #   Column                 Non-Null Count  Dtype  \n",
      "---  ------                 --------------  -----  \n",
      " 0   messages_included      2 non-null      int64  \n",
      " 1   mb_per_month_included  2 non-null      int64  \n",
      " 2   minutes_included       2 non-null      int64  \n",
      " 3   usd_monthly_pay        2 non-null      int64  \n",
      " 4   usd_per_gb             2 non-null      int64  \n",
      " 5   usd_per_message        2 non-null      float64\n",
      " 6   usd_per_minute         2 non-null      float64\n",
      " 7   plan_name              2 non-null      object \n",
      "dtypes: float64(2), int64(5), object(1)\n",
      "memory usage: 256.0+ bytes\n",
      "<class 'pandas.core.frame.DataFrame'>\n",
      "RangeIndex: 500 entries, 0 to 499\n",
      "Data columns (total 8 columns):\n",
      " #   Column      Non-Null Count  Dtype \n",
      "---  ------      --------------  ----- \n",
      " 0   user_id     500 non-null    int64 \n",
      " 1   first_name  500 non-null    object\n",
      " 2   last_name   500 non-null    object\n",
      " 3   age         500 non-null    int64 \n",
      " 4   city        500 non-null    object\n",
      " 5   reg_date    500 non-null    object\n",
      " 6   plan        500 non-null    object\n",
      " 7   churn_date  34 non-null     object\n",
      "dtypes: int64(2), object(6)\n",
      "memory usage: 31.4+ KB\n",
      "id           0\n",
      "user_id      0\n",
      "call_date    0\n",
      "duration     0\n",
      "dtype: int64\n",
      "id              0\n",
      "user_id         0\n",
      "session_date    0\n",
      "mb_used         0\n",
      "dtype: int64\n",
      "id              0\n",
      "user_id         0\n",
      "message_date    0\n",
      "dtype: int64\n",
      "messages_included        0\n",
      "mb_per_month_included    0\n",
      "minutes_included         0\n",
      "usd_monthly_pay          0\n",
      "usd_per_gb               0\n",
      "usd_per_message          0\n",
      "usd_per_minute           0\n",
      "plan_name                0\n",
      "dtype: int64\n",
      "user_id         0\n",
      "first_name      0\n",
      "last_name       0\n",
      "age             0\n",
      "city            0\n",
      "reg_date        0\n",
      "plan            0\n",
      "churn_date    466\n",
      "dtype: int64\n"
     ]
    }
   ],
   "source": [
    "calls_df.info()\n",
    "internet_df.info()\n",
    "messages_df.info()\n",
    "plans_df.info()\n",
    "users_df.info()\n",
    "\n",
    "# check for missing values\n",
    "print(calls_df.isnull().sum())\n",
    "print(internet_df.isnull().sum())\n",
    "print(messages_df.isnull().sum())\n",
    "print(plans_df.isnull().sum())\n",
    "print(users_df.isnull().sum())"
   ]
  },
  {
   "cell_type": "markdown",
   "metadata": {},
   "source": [
    "[The data for this project is split into several tables. Explore each one to get an initial understanding of the data. Do necessary corrections to each table if necessary.]"
   ]
  },
  {
   "cell_type": "markdown",
   "metadata": {},
   "source": [
    "## Plans"
   ]
  },
  {
   "cell_type": "code",
   "execution_count": 4,
   "metadata": {},
   "outputs": [
    {
     "name": "stdout",
     "output_type": "stream",
     "text": [
      "<class 'pandas.core.frame.DataFrame'>\n",
      "RangeIndex: 2 entries, 0 to 1\n",
      "Data columns (total 8 columns):\n",
      " #   Column                 Non-Null Count  Dtype  \n",
      "---  ------                 --------------  -----  \n",
      " 0   messages_included      2 non-null      int64  \n",
      " 1   mb_per_month_included  2 non-null      int64  \n",
      " 2   minutes_included       2 non-null      int64  \n",
      " 3   usd_monthly_pay        2 non-null      int64  \n",
      " 4   usd_per_gb             2 non-null      int64  \n",
      " 5   usd_per_message        2 non-null      float64\n",
      " 6   usd_per_minute         2 non-null      float64\n",
      " 7   plan_name              2 non-null      object \n",
      "dtypes: float64(2), int64(5), object(1)\n",
      "memory usage: 256.0+ bytes\n"
     ]
    }
   ],
   "source": [
    "# Print the general/summary information about the plans' DataFrame\n",
    "plans_df.info()"
   ]
  },
  {
   "cell_type": "code",
   "execution_count": 5,
   "metadata": {},
   "outputs": [
    {
     "data": {
      "text/html": [
       "<div>\n",
       "<style scoped>\n",
       "    .dataframe tbody tr th:only-of-type {\n",
       "        vertical-align: middle;\n",
       "    }\n",
       "\n",
       "    .dataframe tbody tr th {\n",
       "        vertical-align: top;\n",
       "    }\n",
       "\n",
       "    .dataframe thead th {\n",
       "        text-align: right;\n",
       "    }\n",
       "</style>\n",
       "<table border=\"1\" class=\"dataframe\">\n",
       "  <thead>\n",
       "    <tr style=\"text-align: right;\">\n",
       "      <th></th>\n",
       "      <th>messages_included</th>\n",
       "      <th>mb_per_month_included</th>\n",
       "      <th>minutes_included</th>\n",
       "      <th>usd_monthly_pay</th>\n",
       "      <th>usd_per_gb</th>\n",
       "      <th>usd_per_message</th>\n",
       "      <th>usd_per_minute</th>\n",
       "      <th>plan_name</th>\n",
       "    </tr>\n",
       "  </thead>\n",
       "  <tbody>\n",
       "    <tr>\n",
       "      <th>0</th>\n",
       "      <td>50</td>\n",
       "      <td>15360</td>\n",
       "      <td>500</td>\n",
       "      <td>20</td>\n",
       "      <td>10</td>\n",
       "      <td>0.03</td>\n",
       "      <td>0.03</td>\n",
       "      <td>surf</td>\n",
       "    </tr>\n",
       "    <tr>\n",
       "      <th>1</th>\n",
       "      <td>1000</td>\n",
       "      <td>30720</td>\n",
       "      <td>3000</td>\n",
       "      <td>70</td>\n",
       "      <td>7</td>\n",
       "      <td>0.01</td>\n",
       "      <td>0.01</td>\n",
       "      <td>ultimate</td>\n",
       "    </tr>\n",
       "  </tbody>\n",
       "</table>\n",
       "</div>"
      ],
      "text/plain": [
       "   messages_included  mb_per_month_included  minutes_included  \\\n",
       "0                 50                  15360               500   \n",
       "1               1000                  30720              3000   \n",
       "\n",
       "   usd_monthly_pay  usd_per_gb  usd_per_message  usd_per_minute plan_name  \n",
       "0               20          10             0.03            0.03      surf  \n",
       "1               70           7             0.01            0.01  ultimate  "
      ]
     },
     "metadata": {},
     "output_type": "display_data"
    }
   ],
   "source": [
    "# Print a sample of data for plans\n",
    "display(plans_df.head())"
   ]
  },
  {
   "cell_type": "markdown",
   "metadata": {},
   "source": [
    "[Describe what you see and notice in the general information and the printed data sample for the above price of data. Are there any issues (inappropriate data types, missing data etc) that may need further investigation and changes? How that can be fixed?]"
   ]
  },
  {
   "cell_type": "markdown",
   "metadata": {},
   "source": [
    " ### Observations:\n",
    "\n",
    "1. The `plans` DataFrame contains information on the prepaid plans offered by Megaline, including:\n",
    "   - Plan names\n",
    "   - Monthly charges (in USD)\n",
    "   - Included monthly minutes, texts, and data\n",
    "   - Additional charges for exceeding limits\n",
    "\n",
    "2. **Potential Issues**:\n",
    "   - **Data types**: Verify that the numerical columns (e.g., `usd_monthly_fee`, `minutes_included`, etc.) are of appropriate types (`int` or `float`).\n",
    "   - **Missing data**: Check if there are any null values, which could indicate missing information that needs to be addressed.\n",
    "   \n",
    "3. **Corrections**:\n",
    "   - If data types are incorrect, convert them using the `astype()` function.\n",
    "   - If missing data is found, decide whether to impute or drop rows depending on the importance of the missing values."
   ]
  },
  {
   "cell_type": "code",
   "execution_count": 6,
   "metadata": {},
   "outputs": [
    {
     "data": {
      "text/plain": [
       "messages_included          int64\n",
       "mb_per_month_included      int64\n",
       "minutes_included           int64\n",
       "usd_monthly_pay            int64\n",
       "usd_per_gb                 int64\n",
       "usd_per_message          float64\n",
       "usd_per_minute           float64\n",
       "plan_name                 object\n",
       "dtype: object"
      ]
     },
     "execution_count": 6,
     "metadata": {},
     "output_type": "execute_result"
    }
   ],
   "source": [
    "plans_df.dtypes"
   ]
  },
  {
   "cell_type": "markdown",
   "metadata": {},
   "source": [
    "## Fix data"
   ]
  },
  {
   "cell_type": "markdown",
   "metadata": {},
   "source": [
    "[Fix obvious issues with the data given the initial observations.]"
   ]
  },
  {
   "cell_type": "code",
   "execution_count": 7,
   "metadata": {},
   "outputs": [
    {
     "name": "stdout",
     "output_type": "stream",
     "text": [
      "messages_included        0\n",
      "mb_per_month_included    0\n",
      "minutes_included         0\n",
      "usd_monthly_pay          0\n",
      "usd_per_gb               0\n",
      "usd_per_message          0\n",
      "usd_per_minute           0\n",
      "plan_name                0\n",
      "dtype: int64\n"
     ]
    }
   ],
   "source": [
    "# Check for missing values\n",
    "print(plans_df.isnull().sum())"
   ]
  },
  {
   "cell_type": "markdown",
   "metadata": {
    "scrolled": false
   },
   "source": [
    "There are currently no issues with the plans DataFrame"
   ]
  },
  {
   "cell_type": "markdown",
   "metadata": {},
   "source": [
    "## Enrich data"
   ]
  },
  {
   "cell_type": "markdown",
   "metadata": {},
   "source": [
    "[Add additional factors to the data if you believe they might be useful.]\n"
   ]
  },
  {
   "cell_type": "code",
   "execution_count": null,
   "metadata": {},
   "outputs": [],
   "source": []
  },
  {
   "cell_type": "markdown",
   "metadata": {},
   "source": []
  },
  {
   "cell_type": "code",
   "execution_count": null,
   "metadata": {},
   "outputs": [],
   "source": []
  },
  {
   "cell_type": "markdown",
   "metadata": {},
   "source": [
    "## Users"
   ]
  },
  {
   "cell_type": "code",
   "execution_count": 8,
   "metadata": {},
   "outputs": [
    {
     "name": "stdout",
     "output_type": "stream",
     "text": [
      "<class 'pandas.core.frame.DataFrame'>\n",
      "RangeIndex: 500 entries, 0 to 499\n",
      "Data columns (total 8 columns):\n",
      " #   Column      Non-Null Count  Dtype \n",
      "---  ------      --------------  ----- \n",
      " 0   user_id     500 non-null    int64 \n",
      " 1   first_name  500 non-null    object\n",
      " 2   last_name   500 non-null    object\n",
      " 3   age         500 non-null    int64 \n",
      " 4   city        500 non-null    object\n",
      " 5   reg_date    500 non-null    object\n",
      " 6   plan        500 non-null    object\n",
      " 7   churn_date  34 non-null     object\n",
      "dtypes: int64(2), object(6)\n",
      "memory usage: 31.4+ KB\n"
     ]
    }
   ],
   "source": [
    "# Print the general/summary information about the users' DataFrame\n",
    "users_df.info()"
   ]
  },
  {
   "cell_type": "code",
   "execution_count": 9,
   "metadata": {},
   "outputs": [
    {
     "data": {
      "text/html": [
       "<div>\n",
       "<style scoped>\n",
       "    .dataframe tbody tr th:only-of-type {\n",
       "        vertical-align: middle;\n",
       "    }\n",
       "\n",
       "    .dataframe tbody tr th {\n",
       "        vertical-align: top;\n",
       "    }\n",
       "\n",
       "    .dataframe thead th {\n",
       "        text-align: right;\n",
       "    }\n",
       "</style>\n",
       "<table border=\"1\" class=\"dataframe\">\n",
       "  <thead>\n",
       "    <tr style=\"text-align: right;\">\n",
       "      <th></th>\n",
       "      <th>user_id</th>\n",
       "      <th>first_name</th>\n",
       "      <th>last_name</th>\n",
       "      <th>age</th>\n",
       "      <th>city</th>\n",
       "      <th>reg_date</th>\n",
       "      <th>plan</th>\n",
       "      <th>churn_date</th>\n",
       "    </tr>\n",
       "  </thead>\n",
       "  <tbody>\n",
       "    <tr>\n",
       "      <th>0</th>\n",
       "      <td>1000</td>\n",
       "      <td>Anamaria</td>\n",
       "      <td>Bauer</td>\n",
       "      <td>45</td>\n",
       "      <td>Atlanta-Sandy Springs-Roswell, GA MSA</td>\n",
       "      <td>2018-12-24</td>\n",
       "      <td>ultimate</td>\n",
       "      <td>NaN</td>\n",
       "    </tr>\n",
       "    <tr>\n",
       "      <th>1</th>\n",
       "      <td>1001</td>\n",
       "      <td>Mickey</td>\n",
       "      <td>Wilkerson</td>\n",
       "      <td>28</td>\n",
       "      <td>Seattle-Tacoma-Bellevue, WA MSA</td>\n",
       "      <td>2018-08-13</td>\n",
       "      <td>surf</td>\n",
       "      <td>NaN</td>\n",
       "    </tr>\n",
       "    <tr>\n",
       "      <th>2</th>\n",
       "      <td>1002</td>\n",
       "      <td>Carlee</td>\n",
       "      <td>Hoffman</td>\n",
       "      <td>36</td>\n",
       "      <td>Las Vegas-Henderson-Paradise, NV MSA</td>\n",
       "      <td>2018-10-21</td>\n",
       "      <td>surf</td>\n",
       "      <td>NaN</td>\n",
       "    </tr>\n",
       "    <tr>\n",
       "      <th>3</th>\n",
       "      <td>1003</td>\n",
       "      <td>Reynaldo</td>\n",
       "      <td>Jenkins</td>\n",
       "      <td>52</td>\n",
       "      <td>Tulsa, OK MSA</td>\n",
       "      <td>2018-01-28</td>\n",
       "      <td>surf</td>\n",
       "      <td>NaN</td>\n",
       "    </tr>\n",
       "    <tr>\n",
       "      <th>4</th>\n",
       "      <td>1004</td>\n",
       "      <td>Leonila</td>\n",
       "      <td>Thompson</td>\n",
       "      <td>40</td>\n",
       "      <td>Seattle-Tacoma-Bellevue, WA MSA</td>\n",
       "      <td>2018-05-23</td>\n",
       "      <td>surf</td>\n",
       "      <td>NaN</td>\n",
       "    </tr>\n",
       "  </tbody>\n",
       "</table>\n",
       "</div>"
      ],
      "text/plain": [
       "   user_id first_name  last_name  age                                   city  \\\n",
       "0     1000   Anamaria      Bauer   45  Atlanta-Sandy Springs-Roswell, GA MSA   \n",
       "1     1001     Mickey  Wilkerson   28        Seattle-Tacoma-Bellevue, WA MSA   \n",
       "2     1002     Carlee    Hoffman   36   Las Vegas-Henderson-Paradise, NV MSA   \n",
       "3     1003   Reynaldo    Jenkins   52                          Tulsa, OK MSA   \n",
       "4     1004    Leonila   Thompson   40        Seattle-Tacoma-Bellevue, WA MSA   \n",
       "\n",
       "     reg_date      plan churn_date  \n",
       "0  2018-12-24  ultimate        NaN  \n",
       "1  2018-08-13      surf        NaN  \n",
       "2  2018-10-21      surf        NaN  \n",
       "3  2018-01-28      surf        NaN  \n",
       "4  2018-05-23      surf        NaN  "
      ]
     },
     "execution_count": 9,
     "metadata": {},
     "output_type": "execute_result"
    }
   ],
   "source": [
    "# Print a sample of data for users\n",
    "\n",
    "users_df.head()"
   ]
  },
  {
   "cell_type": "markdown",
   "metadata": {},
   "source": [
    "[Describe what you see and notice in the general information and the printed data sample for the above price of data. Are there any issues (inappropriate data types, missing data etc) that may need further investigation and changes? How that can be fixed?]"
   ]
  },
  {
   "cell_type": "markdown",
   "metadata": {},
   "source": [
    " "
   ]
  },
  {
   "cell_type": "markdown",
   "metadata": {},
   "source": [
    "### Fix Data"
   ]
  },
  {
   "cell_type": "markdown",
   "metadata": {},
   "source": [
    "[Fix obvious issues with the data given the initial observations.]"
   ]
  },
  {
   "cell_type": "code",
   "execution_count": 10,
   "metadata": {},
   "outputs": [
    {
     "name": "stdout",
     "output_type": "stream",
     "text": [
      "<class 'pandas.core.frame.DataFrame'>\n",
      "RangeIndex: 500 entries, 0 to 499\n",
      "Data columns (total 8 columns):\n",
      " #   Column      Non-Null Count  Dtype \n",
      "---  ------      --------------  ----- \n",
      " 0   user_id     500 non-null    int64 \n",
      " 1   first_name  500 non-null    object\n",
      " 2   last_name   500 non-null    object\n",
      " 3   age         500 non-null    int64 \n",
      " 4   city        500 non-null    object\n",
      " 5   reg_date    500 non-null    object\n",
      " 6   plan        500 non-null    object\n",
      " 7   churn_date  34 non-null     object\n",
      "dtypes: int64(2), object(6)\n",
      "memory usage: 31.4+ KB\n"
     ]
    }
   ],
   "source": [
    "# Check for missing values\n",
    "users_df.isnull().sum()\n",
    "\n",
    "users_df.info()"
   ]
  },
  {
   "cell_type": "markdown",
   "metadata": {},
   "source": [
    "### Enrich Data"
   ]
  },
  {
   "cell_type": "markdown",
   "metadata": {},
   "source": [
    "[Add additional factors to the data if you believe they might be useful.]"
   ]
  },
  {
   "cell_type": "code",
   "execution_count": 11,
   "metadata": {},
   "outputs": [
    {
     "data": {
      "text/html": [
       "<div>\n",
       "<style scoped>\n",
       "    .dataframe tbody tr th:only-of-type {\n",
       "        vertical-align: middle;\n",
       "    }\n",
       "\n",
       "    .dataframe tbody tr th {\n",
       "        vertical-align: top;\n",
       "    }\n",
       "\n",
       "    .dataframe thead th {\n",
       "        text-align: right;\n",
       "    }\n",
       "</style>\n",
       "<table border=\"1\" class=\"dataframe\">\n",
       "  <thead>\n",
       "    <tr style=\"text-align: right;\">\n",
       "      <th></th>\n",
       "      <th>user_id</th>\n",
       "      <th>first_name</th>\n",
       "      <th>last_name</th>\n",
       "      <th>age</th>\n",
       "      <th>city</th>\n",
       "      <th>reg_date</th>\n",
       "      <th>plan</th>\n",
       "      <th>churn_date</th>\n",
       "      <th>tenure_months</th>\n",
       "      <th>is_churned</th>\n",
       "    </tr>\n",
       "  </thead>\n",
       "  <tbody>\n",
       "    <tr>\n",
       "      <th>0</th>\n",
       "      <td>1000</td>\n",
       "      <td>Anamaria</td>\n",
       "      <td>Bauer</td>\n",
       "      <td>45</td>\n",
       "      <td>Atlanta-Sandy Springs-Roswell, GA MSA</td>\n",
       "      <td>2018-12-24</td>\n",
       "      <td>ultimate</td>\n",
       "      <td>NaT</td>\n",
       "      <td>70</td>\n",
       "      <td>0</td>\n",
       "    </tr>\n",
       "    <tr>\n",
       "      <th>1</th>\n",
       "      <td>1001</td>\n",
       "      <td>Mickey</td>\n",
       "      <td>Wilkerson</td>\n",
       "      <td>28</td>\n",
       "      <td>Seattle-Tacoma-Bellevue, WA MSA</td>\n",
       "      <td>2018-08-13</td>\n",
       "      <td>surf</td>\n",
       "      <td>NaT</td>\n",
       "      <td>75</td>\n",
       "      <td>0</td>\n",
       "    </tr>\n",
       "    <tr>\n",
       "      <th>2</th>\n",
       "      <td>1002</td>\n",
       "      <td>Carlee</td>\n",
       "      <td>Hoffman</td>\n",
       "      <td>36</td>\n",
       "      <td>Las Vegas-Henderson-Paradise, NV MSA</td>\n",
       "      <td>2018-10-21</td>\n",
       "      <td>surf</td>\n",
       "      <td>NaT</td>\n",
       "      <td>72</td>\n",
       "      <td>0</td>\n",
       "    </tr>\n",
       "    <tr>\n",
       "      <th>3</th>\n",
       "      <td>1003</td>\n",
       "      <td>Reynaldo</td>\n",
       "      <td>Jenkins</td>\n",
       "      <td>52</td>\n",
       "      <td>Tulsa, OK MSA</td>\n",
       "      <td>2018-01-28</td>\n",
       "      <td>surf</td>\n",
       "      <td>NaT</td>\n",
       "      <td>81</td>\n",
       "      <td>0</td>\n",
       "    </tr>\n",
       "    <tr>\n",
       "      <th>4</th>\n",
       "      <td>1004</td>\n",
       "      <td>Leonila</td>\n",
       "      <td>Thompson</td>\n",
       "      <td>40</td>\n",
       "      <td>Seattle-Tacoma-Bellevue, WA MSA</td>\n",
       "      <td>2018-05-23</td>\n",
       "      <td>surf</td>\n",
       "      <td>NaT</td>\n",
       "      <td>77</td>\n",
       "      <td>0</td>\n",
       "    </tr>\n",
       "  </tbody>\n",
       "</table>\n",
       "</div>"
      ],
      "text/plain": [
       "   user_id first_name  last_name  age                                   city  \\\n",
       "0     1000   Anamaria      Bauer   45  Atlanta-Sandy Springs-Roswell, GA MSA   \n",
       "1     1001     Mickey  Wilkerson   28        Seattle-Tacoma-Bellevue, WA MSA   \n",
       "2     1002     Carlee    Hoffman   36   Las Vegas-Henderson-Paradise, NV MSA   \n",
       "3     1003   Reynaldo    Jenkins   52                          Tulsa, OK MSA   \n",
       "4     1004    Leonila   Thompson   40        Seattle-Tacoma-Bellevue, WA MSA   \n",
       "\n",
       "    reg_date      plan churn_date  tenure_months  is_churned  \n",
       "0 2018-12-24  ultimate        NaT             70           0  \n",
       "1 2018-08-13      surf        NaT             75           0  \n",
       "2 2018-10-21      surf        NaT             72           0  \n",
       "3 2018-01-28      surf        NaT             81           0  \n",
       "4 2018-05-23      surf        NaT             77           0  "
      ]
     },
     "execution_count": 11,
     "metadata": {},
     "output_type": "execute_result"
    }
   ],
   "source": [
    "# Convert reg_date and churn_date to datetime\n",
    "# Let pandas infer the datetime for registration and churn dates\n",
    "users_df['reg_date'] = pd.to_datetime(users_df['reg_date'], errors= 'coerce')\n",
    "users_df['churn_date'] = pd.to_datetime(users_df['churn_date'], errors= 'coerce')\n",
    "\n",
    "# Calculate tenure in months\n",
    "today = pd.to_datetime('today')\n",
    "users_df['tenure_months'] = (today - users_df['reg_date']) // pd.Timedelta(days=30)\n",
    "\n",
    "# Create a churn indicator\n",
    "users_df['is_churned'] = users_df['churn_date'].notnull().astype(int)  # 1 if churned, 0 otherwise\n",
    "\n",
    "users_df.head()"
   ]
  },
  {
   "cell_type": "markdown",
   "metadata": {},
   "source": [
    "<div class=\"alert alert-block alert-danger\">\n",
    "<b>Reviewer's comment v1</b>\n",
    " \n",
    "The error indicates that there are date strings in the reg_date column that do not match the format '%d.%m.%Y' you specified. At least some dates are in the format '%Y-%m-%d' (e.g., '2018-11-27'), which is causing the mismatch.\n",
    "    \n",
    "To handle this, you can remove the format parameter so that pd.to_datetime automatically infers the format. Alternatively, if you know that all dates are either in '%d.%m.%Y' or '%Y-%m-%d', you can attempt a conversion for both formats. Here’s how to let pd.to_datetime infer the format:\n",
    "\n",
    "```\n",
    "# Let pandas infer the datetime format\n",
    "users_df['reg_date'] = pd.to_datetime(users_df['reg_date'], errors='coerce')\n",
    "users_df['churn_date'] = pd.to_datetime(users_df['churn_date'], errors='coerce')\n",
    "```"
   ]
  },
  {
   "cell_type": "markdown",
   "metadata": {},
   "source": [
    " **Tenure in Months**: Calculated the number of months each user has been registered with Megaline by determining the difference between the current date and the registration date.\n",
    "\n",
    "2. **Churn Indicator**: Created a binary flag indicating whether a user has churned (1 for churned, 0 for active) based on the `churn_date`.\n",
    "\n",
    "These enhancements provide additional insights into user behavior and tenure, which will be useful for further analysis."
   ]
  },
  {
   "cell_type": "markdown",
   "metadata": {},
   "source": [
    "## Calls"
   ]
  },
  {
   "cell_type": "code",
   "execution_count": 12,
   "metadata": {},
   "outputs": [
    {
     "name": "stdout",
     "output_type": "stream",
     "text": [
      "<class 'pandas.core.frame.DataFrame'>\n",
      "RangeIndex: 137735 entries, 0 to 137734\n",
      "Data columns (total 4 columns):\n",
      " #   Column     Non-Null Count   Dtype  \n",
      "---  ------     --------------   -----  \n",
      " 0   id         137735 non-null  object \n",
      " 1   user_id    137735 non-null  int64  \n",
      " 2   call_date  137735 non-null  object \n",
      " 3   duration   137735 non-null  float64\n",
      "dtypes: float64(1), int64(1), object(2)\n",
      "memory usage: 4.2+ MB\n"
     ]
    }
   ],
   "source": [
    "# Print the general/summary information about the calls' DataFrame\n",
    "calls_df.info()"
   ]
  },
  {
   "cell_type": "code",
   "execution_count": 13,
   "metadata": {},
   "outputs": [
    {
     "data": {
      "text/html": [
       "<div>\n",
       "<style scoped>\n",
       "    .dataframe tbody tr th:only-of-type {\n",
       "        vertical-align: middle;\n",
       "    }\n",
       "\n",
       "    .dataframe tbody tr th {\n",
       "        vertical-align: top;\n",
       "    }\n",
       "\n",
       "    .dataframe thead th {\n",
       "        text-align: right;\n",
       "    }\n",
       "</style>\n",
       "<table border=\"1\" class=\"dataframe\">\n",
       "  <thead>\n",
       "    <tr style=\"text-align: right;\">\n",
       "      <th></th>\n",
       "      <th>id</th>\n",
       "      <th>user_id</th>\n",
       "      <th>call_date</th>\n",
       "      <th>duration</th>\n",
       "    </tr>\n",
       "  </thead>\n",
       "  <tbody>\n",
       "    <tr>\n",
       "      <th>0</th>\n",
       "      <td>1000_93</td>\n",
       "      <td>1000</td>\n",
       "      <td>2018-12-27</td>\n",
       "      <td>8.52</td>\n",
       "    </tr>\n",
       "    <tr>\n",
       "      <th>1</th>\n",
       "      <td>1000_145</td>\n",
       "      <td>1000</td>\n",
       "      <td>2018-12-27</td>\n",
       "      <td>13.66</td>\n",
       "    </tr>\n",
       "    <tr>\n",
       "      <th>2</th>\n",
       "      <td>1000_247</td>\n",
       "      <td>1000</td>\n",
       "      <td>2018-12-27</td>\n",
       "      <td>14.48</td>\n",
       "    </tr>\n",
       "    <tr>\n",
       "      <th>3</th>\n",
       "      <td>1000_309</td>\n",
       "      <td>1000</td>\n",
       "      <td>2018-12-28</td>\n",
       "      <td>5.76</td>\n",
       "    </tr>\n",
       "    <tr>\n",
       "      <th>4</th>\n",
       "      <td>1000_380</td>\n",
       "      <td>1000</td>\n",
       "      <td>2018-12-30</td>\n",
       "      <td>4.22</td>\n",
       "    </tr>\n",
       "  </tbody>\n",
       "</table>\n",
       "</div>"
      ],
      "text/plain": [
       "         id  user_id   call_date  duration\n",
       "0   1000_93     1000  2018-12-27      8.52\n",
       "1  1000_145     1000  2018-12-27     13.66\n",
       "2  1000_247     1000  2018-12-27     14.48\n",
       "3  1000_309     1000  2018-12-28      5.76\n",
       "4  1000_380     1000  2018-12-30      4.22"
      ]
     },
     "execution_count": 13,
     "metadata": {},
     "output_type": "execute_result"
    }
   ],
   "source": [
    "# Print a sample of data for calls\n",
    "calls_df.head()"
   ]
  },
  {
   "cell_type": "markdown",
   "metadata": {},
   "source": [
    "[Describe what you see and notice in the general information and the printed data sample for the above price of data. Are there any issues (inappropriate data types, missing data etc) that may need further investigation and changes? How that can be fixed?]\n",
    "\n",
    "We changed the call_date format"
   ]
  },
  {
   "cell_type": "markdown",
   "metadata": {},
   "source": [
    " "
   ]
  },
  {
   "cell_type": "markdown",
   "metadata": {},
   "source": [
    "### Fix data"
   ]
  },
  {
   "cell_type": "markdown",
   "metadata": {},
   "source": [
    "[Fix obvious issues with the data given the initial observations.]"
   ]
  },
  {
   "cell_type": "code",
   "execution_count": 14,
   "metadata": {},
   "outputs": [
    {
     "name": "stdout",
     "output_type": "stream",
     "text": [
      "<class 'pandas.core.frame.DataFrame'>\n",
      "RangeIndex: 137735 entries, 0 to 137734\n",
      "Data columns (total 4 columns):\n",
      " #   Column     Non-Null Count   Dtype         \n",
      "---  ------     --------------   -----         \n",
      " 0   id         137735 non-null  object        \n",
      " 1   user_id    137735 non-null  int64         \n",
      " 2   call_date  137735 non-null  datetime64[ns]\n",
      " 3   duration   137735 non-null  float64       \n",
      "dtypes: datetime64[ns](1), float64(1), int64(1), object(1)\n",
      "memory usage: 4.2+ MB\n"
     ]
    }
   ],
   "source": [
    "calls_df['call_date'] = pd.to_datetime(calls_df['call_date'], format='%Y-%m-%d')\n",
    "calls_df['call_date'].dt.to_period('M')\n",
    "\n",
    "#verify corrections\n",
    "calls_df.info()"
   ]
  },
  {
   "cell_type": "markdown",
   "metadata": {},
   "source": [
    "### Enrich data"
   ]
  },
  {
   "cell_type": "markdown",
   "metadata": {},
   "source": [
    "[Add additional factors to the data if you believe they might be useful.]"
   ]
  },
  {
   "cell_type": "code",
   "execution_count": 15,
   "metadata": {},
   "outputs": [
    {
     "data": {
      "text/html": [
       "<div>\n",
       "<style scoped>\n",
       "    .dataframe tbody tr th:only-of-type {\n",
       "        vertical-align: middle;\n",
       "    }\n",
       "\n",
       "    .dataframe tbody tr th {\n",
       "        vertical-align: top;\n",
       "    }\n",
       "\n",
       "    .dataframe thead th {\n",
       "        text-align: right;\n",
       "    }\n",
       "</style>\n",
       "<table border=\"1\" class=\"dataframe\">\n",
       "  <thead>\n",
       "    <tr style=\"text-align: right;\">\n",
       "      <th></th>\n",
       "      <th>id</th>\n",
       "      <th>user_id</th>\n",
       "      <th>call_date</th>\n",
       "      <th>duration</th>\n",
       "      <th>rounded_duration</th>\n",
       "      <th>month</th>\n",
       "      <th>total_calls</th>\n",
       "    </tr>\n",
       "  </thead>\n",
       "  <tbody>\n",
       "    <tr>\n",
       "      <th>0</th>\n",
       "      <td>1000_93</td>\n",
       "      <td>1000</td>\n",
       "      <td>2018-12-27</td>\n",
       "      <td>8.52</td>\n",
       "      <td>9.0</td>\n",
       "      <td>12</td>\n",
       "      <td>16</td>\n",
       "    </tr>\n",
       "    <tr>\n",
       "      <th>1</th>\n",
       "      <td>1000_145</td>\n",
       "      <td>1000</td>\n",
       "      <td>2018-12-27</td>\n",
       "      <td>13.66</td>\n",
       "      <td>14.0</td>\n",
       "      <td>12</td>\n",
       "      <td>16</td>\n",
       "    </tr>\n",
       "    <tr>\n",
       "      <th>2</th>\n",
       "      <td>1000_247</td>\n",
       "      <td>1000</td>\n",
       "      <td>2018-12-27</td>\n",
       "      <td>14.48</td>\n",
       "      <td>15.0</td>\n",
       "      <td>12</td>\n",
       "      <td>16</td>\n",
       "    </tr>\n",
       "    <tr>\n",
       "      <th>3</th>\n",
       "      <td>1000_309</td>\n",
       "      <td>1000</td>\n",
       "      <td>2018-12-28</td>\n",
       "      <td>5.76</td>\n",
       "      <td>6.0</td>\n",
       "      <td>12</td>\n",
       "      <td>16</td>\n",
       "    </tr>\n",
       "    <tr>\n",
       "      <th>4</th>\n",
       "      <td>1000_380</td>\n",
       "      <td>1000</td>\n",
       "      <td>2018-12-30</td>\n",
       "      <td>4.22</td>\n",
       "      <td>5.0</td>\n",
       "      <td>12</td>\n",
       "      <td>16</td>\n",
       "    </tr>\n",
       "  </tbody>\n",
       "</table>\n",
       "</div>"
      ],
      "text/plain": [
       "         id  user_id  call_date  duration  rounded_duration  month  \\\n",
       "0   1000_93     1000 2018-12-27      8.52               9.0     12   \n",
       "1  1000_145     1000 2018-12-27     13.66              14.0     12   \n",
       "2  1000_247     1000 2018-12-27     14.48              15.0     12   \n",
       "3  1000_309     1000 2018-12-28      5.76               6.0     12   \n",
       "4  1000_380     1000 2018-12-30      4.22               5.0     12   \n",
       "\n",
       "   total_calls  \n",
       "0           16  \n",
       "1           16  \n",
       "2           16  \n",
       "3           16  \n",
       "4           16  "
      ]
     },
     "execution_count": 15,
     "metadata": {},
     "output_type": "execute_result"
    }
   ],
   "source": [
    "# Convert call_date to datetime\n",
    "calls_df['call_date'] = pd.to_datetime(calls_df['call_date'], format='%Y-&m-&d')\n",
    "# Add a column for rounded duration (rounding up to the nearest minute)\n",
    "calls_df['rounded_duration'] = np.ceil(calls_df['duration'])\n",
    "\n",
    "# Add a column for the month extracted from call_date\n",
    "calls_df['month'] = calls_df['call_date'].dt.month\n",
    "\n",
    "# Add a column for total calls per user\n",
    "calls_count = calls_df.groupby('user_id')['id'].count().reset_index(name='total_calls')\n",
    "calls_df = calls_df.merge(calls_count, on='user_id', how='left')\n",
    "\n",
    "calls_df.head()"
   ]
  },
  {
   "cell_type": "markdown",
   "metadata": {},
   "source": [
    "<div class=\"alert alert-block alert-warning\">\n",
    "<b>Reviewer's comment v1</b>\n",
    " \n",
    "Ok, great job! Good that you did not forget about data rounding. Also, great choice of `np.ceil ()` function.\n",
    "\n",
    "This function by the way also works without apply which makes code shorter and faster.\n",
    "\n",
    "```\n",
    "calls['duration'] = np.ceil(calls['duration'])\n",
    "```"
   ]
  },
  {
   "cell_type": "markdown",
   "metadata": {},
   "source": [
    "rounded_duration: This column will reflect the rounded-up call duration for billing purposes.\n",
    "\n",
    "month: This will help track and analyze monthly call trends.\n",
    "\n",
    "total_calls: This will provide insight into user activity by showing how many calls each user has made."
   ]
  },
  {
   "cell_type": "markdown",
   "metadata": {},
   "source": [
    "## Messages"
   ]
  },
  {
   "cell_type": "code",
   "execution_count": 16,
   "metadata": {
    "scrolled": true
   },
   "outputs": [
    {
     "name": "stdout",
     "output_type": "stream",
     "text": [
      "<class 'pandas.core.frame.DataFrame'>\n",
      "RangeIndex: 76051 entries, 0 to 76050\n",
      "Data columns (total 3 columns):\n",
      " #   Column        Non-Null Count  Dtype \n",
      "---  ------        --------------  ----- \n",
      " 0   id            76051 non-null  object\n",
      " 1   user_id       76051 non-null  int64 \n",
      " 2   message_date  76051 non-null  object\n",
      "dtypes: int64(1), object(2)\n",
      "memory usage: 1.7+ MB\n"
     ]
    }
   ],
   "source": [
    "# Print the general/summary information about the messages' DataFrame\n",
    "messages_df.info()"
   ]
  },
  {
   "cell_type": "code",
   "execution_count": 17,
   "metadata": {},
   "outputs": [
    {
     "data": {
      "text/html": [
       "<div>\n",
       "<style scoped>\n",
       "    .dataframe tbody tr th:only-of-type {\n",
       "        vertical-align: middle;\n",
       "    }\n",
       "\n",
       "    .dataframe tbody tr th {\n",
       "        vertical-align: top;\n",
       "    }\n",
       "\n",
       "    .dataframe thead th {\n",
       "        text-align: right;\n",
       "    }\n",
       "</style>\n",
       "<table border=\"1\" class=\"dataframe\">\n",
       "  <thead>\n",
       "    <tr style=\"text-align: right;\">\n",
       "      <th></th>\n",
       "      <th>id</th>\n",
       "      <th>user_id</th>\n",
       "      <th>message_date</th>\n",
       "    </tr>\n",
       "  </thead>\n",
       "  <tbody>\n",
       "    <tr>\n",
       "      <th>0</th>\n",
       "      <td>1000_125</td>\n",
       "      <td>1000</td>\n",
       "      <td>2018-12-27</td>\n",
       "    </tr>\n",
       "    <tr>\n",
       "      <th>1</th>\n",
       "      <td>1000_160</td>\n",
       "      <td>1000</td>\n",
       "      <td>2018-12-31</td>\n",
       "    </tr>\n",
       "    <tr>\n",
       "      <th>2</th>\n",
       "      <td>1000_223</td>\n",
       "      <td>1000</td>\n",
       "      <td>2018-12-31</td>\n",
       "    </tr>\n",
       "    <tr>\n",
       "      <th>3</th>\n",
       "      <td>1000_251</td>\n",
       "      <td>1000</td>\n",
       "      <td>2018-12-27</td>\n",
       "    </tr>\n",
       "    <tr>\n",
       "      <th>4</th>\n",
       "      <td>1000_255</td>\n",
       "      <td>1000</td>\n",
       "      <td>2018-12-26</td>\n",
       "    </tr>\n",
       "  </tbody>\n",
       "</table>\n",
       "</div>"
      ],
      "text/plain": [
       "         id  user_id message_date\n",
       "0  1000_125     1000   2018-12-27\n",
       "1  1000_160     1000   2018-12-31\n",
       "2  1000_223     1000   2018-12-31\n",
       "3  1000_251     1000   2018-12-27\n",
       "4  1000_255     1000   2018-12-26"
      ]
     },
     "execution_count": 17,
     "metadata": {},
     "output_type": "execute_result"
    }
   ],
   "source": [
    "# Print a sample of data for messages\n",
    "messages_df.head()"
   ]
  },
  {
   "cell_type": "markdown",
   "metadata": {},
   "source": [
    "[Describe what you see and notice in the general information and the printed data sample for the above price of data. Are there any issues (inappropriate data types, missing data etc) that may need further investigation and changes? How that can be fixed?]\n"
   ]
  },
  {
   "cell_type": "markdown",
   "metadata": {},
   "source": [
    " "
   ]
  },
  {
   "cell_type": "markdown",
   "metadata": {},
   "source": [
    "### Fix data"
   ]
  },
  {
   "cell_type": "markdown",
   "metadata": {},
   "source": [
    "[Fix obvious issues with the data given the initial observations.]"
   ]
  },
  {
   "cell_type": "code",
   "execution_count": 18,
   "metadata": {},
   "outputs": [
    {
     "name": "stdout",
     "output_type": "stream",
     "text": [
      "<class 'pandas.core.frame.DataFrame'>\n",
      "RangeIndex: 76051 entries, 0 to 76050\n",
      "Data columns (total 4 columns):\n",
      " #   Column        Non-Null Count  Dtype         \n",
      "---  ------        --------------  -----         \n",
      " 0   id            76051 non-null  object        \n",
      " 1   user_id       76051 non-null  int64         \n",
      " 2   message_date  76051 non-null  datetime64[ns]\n",
      " 3   month         76051 non-null  period[M]     \n",
      "dtypes: datetime64[ns](1), int64(1), object(1), period[M](1)\n",
      "memory usage: 2.3+ MB\n"
     ]
    }
   ],
   "source": [
    "#  Convert 'message_date' to datetime format\n",
    "messages_df['message_date'] = pd.to_datetime(messages_df['message_date'], errors='coerce')\n",
    "\n",
    "# Add a column for the month extracted from 'message_date'\n",
    "messages_df['month'] = messages_df['message_date'].dt.to_period('M')\n",
    "\n",
    "#verify corrections\n",
    "messages_df.info()"
   ]
  },
  {
   "cell_type": "markdown",
   "metadata": {},
   "source": [
    "<div class=\"alert alert-block alert-danger\">\n",
    "<b>Reviewer's comment v1</b>\n",
    " \n",
    "\n",
    "The error message indicates that the .dt accessor is being used on a column that is not in a datetime format. To resolve this issue, you should ensure that the message_date column is converted to a datetime format before attempting to use .dt.month.\n",
    "    \n",
    "```\n",
    "# Convert the 'message_date' column to datetime format\n",
    "messages_df['message_date'] = pd.to_datetime(messages_df['message_date'], errors='coerce')\n",
    "```\n",
    "    \n",
    "Could you please address issues in your notebook first? It's crucial that the notebook is fully executable from start to finish before it undergoes a code review. This ensures that anyone reviewing your work can run each cell in sequence without encountering errors, which can significantly impact the review process.\n",
    "\n",
    "Ensuring your notebook's full executability involves running all cells before submission: Before submitting your notebook, please use the `Kernel -> Run All` feature to execute all cells in sequence. This helps to catch any errors or issues that might not be immediately obvious. "
   ]
  },
  {
   "cell_type": "markdown",
   "metadata": {},
   "source": [
    "<div class=\"alert alert-block alert-warning\">\n",
    "<b>Reviewer's comment v1</b>\n",
    " \n",
    "Everything is correct here, but it is always helpful to double-check whether we indeed have data within one year/time period. If not, then selecting and aggregating data by the month number will cause an issue. It is safer to use datetime64[M], which provides a complete date.\n",
    "\n",
    "Additionally, you could achieve the same using the following code: \n",
    "    \n",
    "```    \n",
    "calls['call_date'].dt.to_period('M')\n",
    "```"
   ]
  },
  {
   "cell_type": "markdown",
   "metadata": {},
   "source": [
    "### Enrich data"
   ]
  },
  {
   "cell_type": "markdown",
   "metadata": {},
   "source": [
    "[Add additional factors to the data if you believe they might be useful.]"
   ]
  },
  {
   "cell_type": "code",
   "execution_count": 19,
   "metadata": {},
   "outputs": [
    {
     "data": {
      "text/html": [
       "<div>\n",
       "<style scoped>\n",
       "    .dataframe tbody tr th:only-of-type {\n",
       "        vertical-align: middle;\n",
       "    }\n",
       "\n",
       "    .dataframe tbody tr th {\n",
       "        vertical-align: top;\n",
       "    }\n",
       "\n",
       "    .dataframe thead th {\n",
       "        text-align: right;\n",
       "    }\n",
       "</style>\n",
       "<table border=\"1\" class=\"dataframe\">\n",
       "  <thead>\n",
       "    <tr style=\"text-align: right;\">\n",
       "      <th></th>\n",
       "      <th>id</th>\n",
       "      <th>user_id</th>\n",
       "      <th>message_date</th>\n",
       "      <th>month</th>\n",
       "    </tr>\n",
       "  </thead>\n",
       "  <tbody>\n",
       "    <tr>\n",
       "      <th>0</th>\n",
       "      <td>1000_125</td>\n",
       "      <td>1000</td>\n",
       "      <td>2018-12-27</td>\n",
       "      <td>2018-12</td>\n",
       "    </tr>\n",
       "    <tr>\n",
       "      <th>1</th>\n",
       "      <td>1000_160</td>\n",
       "      <td>1000</td>\n",
       "      <td>2018-12-31</td>\n",
       "      <td>2018-12</td>\n",
       "    </tr>\n",
       "    <tr>\n",
       "      <th>2</th>\n",
       "      <td>1000_223</td>\n",
       "      <td>1000</td>\n",
       "      <td>2018-12-31</td>\n",
       "      <td>2018-12</td>\n",
       "    </tr>\n",
       "    <tr>\n",
       "      <th>3</th>\n",
       "      <td>1000_251</td>\n",
       "      <td>1000</td>\n",
       "      <td>2018-12-27</td>\n",
       "      <td>2018-12</td>\n",
       "    </tr>\n",
       "    <tr>\n",
       "      <th>4</th>\n",
       "      <td>1000_255</td>\n",
       "      <td>1000</td>\n",
       "      <td>2018-12-26</td>\n",
       "      <td>2018-12</td>\n",
       "    </tr>\n",
       "  </tbody>\n",
       "</table>\n",
       "</div>"
      ],
      "text/plain": [
       "         id  user_id message_date    month\n",
       "0  1000_125     1000   2018-12-27  2018-12\n",
       "1  1000_160     1000   2018-12-31  2018-12\n",
       "2  1000_223     1000   2018-12-31  2018-12\n",
       "3  1000_251     1000   2018-12-27  2018-12\n",
       "4  1000_255     1000   2018-12-26  2018-12"
      ]
     },
     "execution_count": 19,
     "metadata": {},
     "output_type": "execute_result"
    }
   ],
   "source": [
    "# Optionally, count the number of messages sent by each user per month\n",
    "messages_count = messages_df.groupby(['user_id', 'month']).size().reset_index(name='total_messages')\n",
    "messages_df.head()"
   ]
  },
  {
   "cell_type": "markdown",
   "metadata": {},
   "source": [
    "Summary of Enhancements:\n",
    "\n",
    "month: Extract the month from the session_date.\n",
    "\n",
    "total_mb_used: Calculate the total data used by each user per month for later analysis."
   ]
  },
  {
   "cell_type": "markdown",
   "metadata": {},
   "source": [
    "## Internet"
   ]
  },
  {
   "cell_type": "code",
   "execution_count": 20,
   "metadata": {},
   "outputs": [
    {
     "name": "stdout",
     "output_type": "stream",
     "text": [
      "<class 'pandas.core.frame.DataFrame'>\n",
      "RangeIndex: 104825 entries, 0 to 104824\n",
      "Data columns (total 4 columns):\n",
      " #   Column        Non-Null Count   Dtype  \n",
      "---  ------        --------------   -----  \n",
      " 0   id            104825 non-null  object \n",
      " 1   user_id       104825 non-null  int64  \n",
      " 2   session_date  104825 non-null  object \n",
      " 3   mb_used       104825 non-null  float64\n",
      "dtypes: float64(1), int64(1), object(2)\n",
      "memory usage: 3.2+ MB\n"
     ]
    }
   ],
   "source": [
    "# Print the general/summary information about the internet DataFrame\n",
    "internet_df.info()"
   ]
  },
  {
   "cell_type": "code",
   "execution_count": 21,
   "metadata": {},
   "outputs": [
    {
     "data": {
      "text/html": [
       "<div>\n",
       "<style scoped>\n",
       "    .dataframe tbody tr th:only-of-type {\n",
       "        vertical-align: middle;\n",
       "    }\n",
       "\n",
       "    .dataframe tbody tr th {\n",
       "        vertical-align: top;\n",
       "    }\n",
       "\n",
       "    .dataframe thead th {\n",
       "        text-align: right;\n",
       "    }\n",
       "</style>\n",
       "<table border=\"1\" class=\"dataframe\">\n",
       "  <thead>\n",
       "    <tr style=\"text-align: right;\">\n",
       "      <th></th>\n",
       "      <th>id</th>\n",
       "      <th>user_id</th>\n",
       "      <th>session_date</th>\n",
       "      <th>mb_used</th>\n",
       "    </tr>\n",
       "  </thead>\n",
       "  <tbody>\n",
       "    <tr>\n",
       "      <th>0</th>\n",
       "      <td>1000_13</td>\n",
       "      <td>1000</td>\n",
       "      <td>2018-12-29</td>\n",
       "      <td>89.86</td>\n",
       "    </tr>\n",
       "    <tr>\n",
       "      <th>1</th>\n",
       "      <td>1000_204</td>\n",
       "      <td>1000</td>\n",
       "      <td>2018-12-31</td>\n",
       "      <td>0.00</td>\n",
       "    </tr>\n",
       "    <tr>\n",
       "      <th>2</th>\n",
       "      <td>1000_379</td>\n",
       "      <td>1000</td>\n",
       "      <td>2018-12-28</td>\n",
       "      <td>660.40</td>\n",
       "    </tr>\n",
       "    <tr>\n",
       "      <th>3</th>\n",
       "      <td>1000_413</td>\n",
       "      <td>1000</td>\n",
       "      <td>2018-12-26</td>\n",
       "      <td>270.99</td>\n",
       "    </tr>\n",
       "    <tr>\n",
       "      <th>4</th>\n",
       "      <td>1000_442</td>\n",
       "      <td>1000</td>\n",
       "      <td>2018-12-27</td>\n",
       "      <td>880.22</td>\n",
       "    </tr>\n",
       "  </tbody>\n",
       "</table>\n",
       "</div>"
      ],
      "text/plain": [
       "         id  user_id session_date  mb_used\n",
       "0   1000_13     1000   2018-12-29    89.86\n",
       "1  1000_204     1000   2018-12-31     0.00\n",
       "2  1000_379     1000   2018-12-28   660.40\n",
       "3  1000_413     1000   2018-12-26   270.99\n",
       "4  1000_442     1000   2018-12-27   880.22"
      ]
     },
     "execution_count": 21,
     "metadata": {},
     "output_type": "execute_result"
    }
   ],
   "source": [
    "# Print a sample of data for the internet traffic\n",
    "\n",
    "internet_df.head()"
   ]
  },
  {
   "cell_type": "markdown",
   "metadata": {},
   "source": [
    "[Describe what you see and notice in the general information and the printed data sample for the above price of data. Are there any issues (inappropriate data types, missing data etc) that may need further investigation and changes? How that can be fixed?]\n",
    "\n",
    "There are no issues to be fixed. All columns appears to be in their right data types"
   ]
  },
  {
   "cell_type": "markdown",
   "metadata": {},
   "source": [
    " "
   ]
  },
  {
   "cell_type": "markdown",
   "metadata": {},
   "source": [
    "### Fix data"
   ]
  },
  {
   "cell_type": "markdown",
   "metadata": {},
   "source": [
    "[Fix obvious issues with the data given the initial observations.]"
   ]
  },
  {
   "cell_type": "code",
   "execution_count": 22,
   "metadata": {},
   "outputs": [
    {
     "name": "stdout",
     "output_type": "stream",
     "text": [
      "<class 'pandas.core.frame.DataFrame'>\n",
      "RangeIndex: 104825 entries, 0 to 104824\n",
      "Data columns (total 5 columns):\n",
      " #   Column        Non-Null Count   Dtype         \n",
      "---  ------        --------------   -----         \n",
      " 0   id            104825 non-null  object        \n",
      " 1   user_id       104825 non-null  int64         \n",
      " 2   session_date  104825 non-null  datetime64[ns]\n",
      " 3   mb_used       104825 non-null  float64       \n",
      " 4   month         104825 non-null  int64         \n",
      "dtypes: datetime64[ns](1), float64(1), int64(2), object(1)\n",
      "memory usage: 4.0+ MB\n"
     ]
    }
   ],
   "source": [
    "# Convert 'session_date' to datetime format\n",
    "internet_df['session_date'] = pd.to_datetime(internet_df['session_date'], errors='coerce')\n",
    "\n",
    "# Add a column for the month extracted from session_date\n",
    "internet_df['month'] = internet_df['session_date'].dt.month\n",
    "\n",
    "#verify errors\n",
    "internet_df.info()"
   ]
  },
  {
   "cell_type": "markdown",
   "metadata": {},
   "source": [
    "### Enrich data"
   ]
  },
  {
   "cell_type": "markdown",
   "metadata": {},
   "source": [
    "[Add additional factors to the data if you believe they might be useful.]"
   ]
  },
  {
   "cell_type": "code",
   "execution_count": 23,
   "metadata": {},
   "outputs": [
    {
     "data": {
      "text/html": [
       "<div>\n",
       "<style scoped>\n",
       "    .dataframe tbody tr th:only-of-type {\n",
       "        vertical-align: middle;\n",
       "    }\n",
       "\n",
       "    .dataframe tbody tr th {\n",
       "        vertical-align: top;\n",
       "    }\n",
       "\n",
       "    .dataframe thead th {\n",
       "        text-align: right;\n",
       "    }\n",
       "</style>\n",
       "<table border=\"1\" class=\"dataframe\">\n",
       "  <thead>\n",
       "    <tr style=\"text-align: right;\">\n",
       "      <th></th>\n",
       "      <th>id</th>\n",
       "      <th>user_id</th>\n",
       "      <th>session_date</th>\n",
       "      <th>mb_used</th>\n",
       "      <th>month</th>\n",
       "    </tr>\n",
       "  </thead>\n",
       "  <tbody>\n",
       "    <tr>\n",
       "      <th>0</th>\n",
       "      <td>1000_13</td>\n",
       "      <td>1000</td>\n",
       "      <td>2018-12-29</td>\n",
       "      <td>89.86</td>\n",
       "      <td>12</td>\n",
       "    </tr>\n",
       "    <tr>\n",
       "      <th>1</th>\n",
       "      <td>1000_204</td>\n",
       "      <td>1000</td>\n",
       "      <td>2018-12-31</td>\n",
       "      <td>0.00</td>\n",
       "      <td>12</td>\n",
       "    </tr>\n",
       "    <tr>\n",
       "      <th>2</th>\n",
       "      <td>1000_379</td>\n",
       "      <td>1000</td>\n",
       "      <td>2018-12-28</td>\n",
       "      <td>660.40</td>\n",
       "      <td>12</td>\n",
       "    </tr>\n",
       "    <tr>\n",
       "      <th>3</th>\n",
       "      <td>1000_413</td>\n",
       "      <td>1000</td>\n",
       "      <td>2018-12-26</td>\n",
       "      <td>270.99</td>\n",
       "      <td>12</td>\n",
       "    </tr>\n",
       "    <tr>\n",
       "      <th>4</th>\n",
       "      <td>1000_442</td>\n",
       "      <td>1000</td>\n",
       "      <td>2018-12-27</td>\n",
       "      <td>880.22</td>\n",
       "      <td>12</td>\n",
       "    </tr>\n",
       "  </tbody>\n",
       "</table>\n",
       "</div>"
      ],
      "text/plain": [
       "         id  user_id session_date  mb_used  month\n",
       "0   1000_13     1000   2018-12-29    89.86     12\n",
       "1  1000_204     1000   2018-12-31     0.00     12\n",
       "2  1000_379     1000   2018-12-28   660.40     12\n",
       "3  1000_413     1000   2018-12-26   270.99     12\n",
       "4  1000_442     1000   2018-12-27   880.22     12"
      ]
     },
     "execution_count": 23,
     "metadata": {},
     "output_type": "execute_result"
    }
   ],
   "source": [
    "# Optionally, calculate the total data used by each user per month\n",
    "internet_usage = internet_df.groupby(['user_id', 'month'])['mb_used'].sum().reset_index(name='total_mb_used')\n",
    "internet_df.head()"
   ]
  },
  {
   "cell_type": "markdown",
   "metadata": {},
   "source": [
    "## Study plan conditions"
   ]
  },
  {
   "cell_type": "markdown",
   "metadata": {},
   "source": [
    "[It is critical to understand how the plans work, how users are charged based on their plan subscription. So, we suggest printing out the plan information to view their conditions once again.]"
   ]
  },
  {
   "cell_type": "code",
   "execution_count": 24,
   "metadata": {},
   "outputs": [
    {
     "data": {
      "text/html": [
       "<div>\n",
       "<style scoped>\n",
       "    .dataframe tbody tr th:only-of-type {\n",
       "        vertical-align: middle;\n",
       "    }\n",
       "\n",
       "    .dataframe tbody tr th {\n",
       "        vertical-align: top;\n",
       "    }\n",
       "\n",
       "    .dataframe thead th {\n",
       "        text-align: right;\n",
       "    }\n",
       "</style>\n",
       "<table border=\"1\" class=\"dataframe\">\n",
       "  <thead>\n",
       "    <tr style=\"text-align: right;\">\n",
       "      <th></th>\n",
       "      <th>messages_included</th>\n",
       "      <th>mb_per_month_included</th>\n",
       "      <th>minutes_included</th>\n",
       "      <th>usd_monthly_pay</th>\n",
       "      <th>usd_per_gb</th>\n",
       "      <th>usd_per_message</th>\n",
       "      <th>usd_per_minute</th>\n",
       "      <th>plan_name</th>\n",
       "    </tr>\n",
       "  </thead>\n",
       "  <tbody>\n",
       "    <tr>\n",
       "      <th>0</th>\n",
       "      <td>50</td>\n",
       "      <td>15360</td>\n",
       "      <td>500</td>\n",
       "      <td>20</td>\n",
       "      <td>10</td>\n",
       "      <td>0.03</td>\n",
       "      <td>0.03</td>\n",
       "      <td>surf</td>\n",
       "    </tr>\n",
       "    <tr>\n",
       "      <th>1</th>\n",
       "      <td>1000</td>\n",
       "      <td>30720</td>\n",
       "      <td>3000</td>\n",
       "      <td>70</td>\n",
       "      <td>7</td>\n",
       "      <td>0.01</td>\n",
       "      <td>0.01</td>\n",
       "      <td>ultimate</td>\n",
       "    </tr>\n",
       "  </tbody>\n",
       "</table>\n",
       "</div>"
      ],
      "text/plain": [
       "   messages_included  mb_per_month_included  minutes_included  \\\n",
       "0                 50                  15360               500   \n",
       "1               1000                  30720              3000   \n",
       "\n",
       "   usd_monthly_pay  usd_per_gb  usd_per_message  usd_per_minute plan_name  \n",
       "0               20          10             0.03            0.03      surf  \n",
       "1               70           7             0.01            0.01  ultimate  "
      ]
     },
     "execution_count": 24,
     "metadata": {},
     "output_type": "execute_result"
    }
   ],
   "source": [
    "# Print out the plan conditions and make sure they are clear for you\n",
    "\n",
    "plans_df"
   ]
  },
  {
   "cell_type": "markdown",
   "metadata": {},
   "source": [
    "<div class=\"alert alert-success\">\n",
    "<b>Reviewer's comment v2:</b>\n",
    "    \n",
    "Everything is correct here. "
   ]
  },
  {
   "cell_type": "markdown",
   "metadata": {},
   "source": [
    "## Aggregate data per user\n",
    "\n",
    "[Now, as the data is clean, aggregate data per user per period in order to have just one record per user per period. It should ease the further analysis a lot.]"
   ]
  },
  {
   "cell_type": "code",
   "execution_count": 25,
   "metadata": {},
   "outputs": [
    {
     "data": {
      "text/html": [
       "<div>\n",
       "<style scoped>\n",
       "    .dataframe tbody tr th:only-of-type {\n",
       "        vertical-align: middle;\n",
       "    }\n",
       "\n",
       "    .dataframe tbody tr th {\n",
       "        vertical-align: top;\n",
       "    }\n",
       "\n",
       "    .dataframe thead th {\n",
       "        text-align: right;\n",
       "    }\n",
       "</style>\n",
       "<table border=\"1\" class=\"dataframe\">\n",
       "  <thead>\n",
       "    <tr style=\"text-align: right;\">\n",
       "      <th></th>\n",
       "      <th></th>\n",
       "      <th>calls_made</th>\n",
       "      <th>minutes_used</th>\n",
       "    </tr>\n",
       "    <tr>\n",
       "      <th>user_id</th>\n",
       "      <th>month</th>\n",
       "      <th></th>\n",
       "      <th></th>\n",
       "    </tr>\n",
       "  </thead>\n",
       "  <tbody>\n",
       "    <tr>\n",
       "      <th>1000</th>\n",
       "      <th>12</th>\n",
       "      <td>16</td>\n",
       "      <td>124.0</td>\n",
       "    </tr>\n",
       "    <tr>\n",
       "      <th rowspan=\"4\" valign=\"top\">1001</th>\n",
       "      <th>8</th>\n",
       "      <td>27</td>\n",
       "      <td>182.0</td>\n",
       "    </tr>\n",
       "    <tr>\n",
       "      <th>9</th>\n",
       "      <td>49</td>\n",
       "      <td>315.0</td>\n",
       "    </tr>\n",
       "    <tr>\n",
       "      <th>10</th>\n",
       "      <td>65</td>\n",
       "      <td>393.0</td>\n",
       "    </tr>\n",
       "    <tr>\n",
       "      <th>11</th>\n",
       "      <td>64</td>\n",
       "      <td>426.0</td>\n",
       "    </tr>\n",
       "  </tbody>\n",
       "</table>\n",
       "</div>"
      ],
      "text/plain": [
       "               calls_made  minutes_used\n",
       "user_id month                          \n",
       "1000    12             16         124.0\n",
       "1001    8              27         182.0\n",
       "        9              49         315.0\n",
       "        10             65         393.0\n",
       "        11             64         426.0"
      ]
     },
     "execution_count": 25,
     "metadata": {},
     "output_type": "execute_result"
    }
   ],
   "source": [
    "# Calculate the number of calls made by each user per month. Save the result.\n",
    "# Calculate the amount of minutes spent by each user per month. Save the result.\n",
    "# Grouping by user_id and month to calculate the total minutes\n",
    "calls_df['month'] = calls_df['call_date'].dt.month\n",
    "\n",
    "# Grouping by user_id and month to count the number of calls\n",
    "calls_per_month = calls_df.groupby(['user_id', 'month']).agg({\n",
    "    'id': 'count',              # Count how many calls the user made\n",
    "    'rounded_duration': 'sum'   # Add up the minutes the user spent on calls (rounded)\n",
    "})\n",
    "\n",
    "# Renaming the column to indicate it's about call count\n",
    "calls_per_month.rename(columns={'id': 'calls_made', 'rounded_duration': 'minutes_used'}, inplace=True)\n",
    "\n",
    "# Displaying the result\n",
    "calls_per_month.head()\n"
   ]
  },
  {
   "cell_type": "markdown",
   "metadata": {},
   "source": [
    "<div class=\"alert alert-danger\" role=\"alert\">\n",
    "<b>Reviewer's comment v2:</b>\n",
    "\n",
    "Here a `rounded_duration` column should be used instead of `duration`. "
   ]
  },
  {
   "cell_type": "markdown",
   "metadata": {},
   "source": [
    "<div class=\"alert alert-success\">\n",
    "<b>Reviewer's comment v3:</b>\n",
    "\n",
    "👏"
   ]
  },
  {
   "cell_type": "markdown",
   "metadata": {},
   "source": [
    "<div class=\"alert alert-warning\" role=\"alert\">\n",
    "<b>Reviewer's comment v2:</b>\n",
    "    \n",
    "In pivot_table or groupby it is possible to pass multiple arguments, so here, you can create an aggregated table in one go like this:\n",
    "\n",
    "\n",
    "```\n",
    "# Group by and aggregate\n",
    "result = calls_df.groupby(['user_id', 'month']).agg({'duration': ['count', 'sum']}).reset_index()\n",
    "\n",
    "# Flatten the MultiIndex in columns\n",
    "result.columns = ['_'.join(col).strip() if type(col) is tuple else col for col in result.columns.values]\n",
    "result\n",
    "```"
   ]
  },
  {
   "cell_type": "code",
   "execution_count": 26,
   "metadata": {},
   "outputs": [
    {
     "data": {
      "text/html": [
       "<div>\n",
       "<style scoped>\n",
       "    .dataframe tbody tr th:only-of-type {\n",
       "        vertical-align: middle;\n",
       "    }\n",
       "\n",
       "    .dataframe tbody tr th {\n",
       "        vertical-align: top;\n",
       "    }\n",
       "\n",
       "    .dataframe thead th {\n",
       "        text-align: right;\n",
       "    }\n",
       "</style>\n",
       "<table border=\"1\" class=\"dataframe\">\n",
       "  <thead>\n",
       "    <tr style=\"text-align: right;\">\n",
       "      <th></th>\n",
       "      <th></th>\n",
       "      <th>messages_sent</th>\n",
       "    </tr>\n",
       "    <tr>\n",
       "      <th>user_id</th>\n",
       "      <th>month</th>\n",
       "      <th></th>\n",
       "    </tr>\n",
       "  </thead>\n",
       "  <tbody>\n",
       "    <tr>\n",
       "      <th>1000</th>\n",
       "      <th>12</th>\n",
       "      <td>11</td>\n",
       "    </tr>\n",
       "    <tr>\n",
       "      <th rowspan=\"4\" valign=\"top\">1001</th>\n",
       "      <th>8</th>\n",
       "      <td>30</td>\n",
       "    </tr>\n",
       "    <tr>\n",
       "      <th>9</th>\n",
       "      <td>44</td>\n",
       "    </tr>\n",
       "    <tr>\n",
       "      <th>10</th>\n",
       "      <td>53</td>\n",
       "    </tr>\n",
       "    <tr>\n",
       "      <th>11</th>\n",
       "      <td>36</td>\n",
       "    </tr>\n",
       "  </tbody>\n",
       "</table>\n",
       "</div>"
      ],
      "text/plain": [
       "               messages_sent\n",
       "user_id month               \n",
       "1000    12                11\n",
       "1001    8                 30\n",
       "        9                 44\n",
       "        10                53\n",
       "        11                36"
      ]
     },
     "execution_count": 26,
     "metadata": {},
     "output_type": "execute_result"
    }
   ],
   "source": [
    "# Calculate the number of messages sent by each user per month. Save the result.\n",
    "# Adding a column to extract the month from the message_date\n",
    "messages_df['month'] = messages_df['message_date'].dt.month\n",
    "\n",
    "# Grouping by user_id and month to count the number of messages\n",
    "messages_per_month = messages_df.groupby(['user_id', 'month']).agg({'id':'count'})\n",
    "\n",
    "# Renaming the column for clarity\n",
    "messages_per_month.rename(columns={'id': 'messages_sent'}, inplace=True)\n",
    "\n",
    "# Displaying the result\n",
    "messages_per_month.head()"
   ]
  },
  {
   "cell_type": "code",
   "execution_count": 27,
   "metadata": {},
   "outputs": [
    {
     "data": {
      "text/html": [
       "<div>\n",
       "<style scoped>\n",
       "    .dataframe tbody tr th:only-of-type {\n",
       "        vertical-align: middle;\n",
       "    }\n",
       "\n",
       "    .dataframe tbody tr th {\n",
       "        vertical-align: top;\n",
       "    }\n",
       "\n",
       "    .dataframe thead th {\n",
       "        text-align: right;\n",
       "    }\n",
       "</style>\n",
       "<table border=\"1\" class=\"dataframe\">\n",
       "  <thead>\n",
       "    <tr style=\"text-align: right;\">\n",
       "      <th></th>\n",
       "      <th></th>\n",
       "      <th>data_used_mb</th>\n",
       "    </tr>\n",
       "    <tr>\n",
       "      <th>user_id</th>\n",
       "      <th>month</th>\n",
       "      <th></th>\n",
       "    </tr>\n",
       "  </thead>\n",
       "  <tbody>\n",
       "    <tr>\n",
       "      <th>1000</th>\n",
       "      <th>12</th>\n",
       "      <td>1901.47</td>\n",
       "    </tr>\n",
       "    <tr>\n",
       "      <th rowspan=\"4\" valign=\"top\">1001</th>\n",
       "      <th>8</th>\n",
       "      <td>6919.15</td>\n",
       "    </tr>\n",
       "    <tr>\n",
       "      <th>9</th>\n",
       "      <td>13314.82</td>\n",
       "    </tr>\n",
       "    <tr>\n",
       "      <th>10</th>\n",
       "      <td>22330.49</td>\n",
       "    </tr>\n",
       "    <tr>\n",
       "      <th>11</th>\n",
       "      <td>18504.30</td>\n",
       "    </tr>\n",
       "  </tbody>\n",
       "</table>\n",
       "</div>"
      ],
      "text/plain": [
       "               data_used_mb\n",
       "user_id month              \n",
       "1000    12          1901.47\n",
       "1001    8           6919.15\n",
       "        9          13314.82\n",
       "        10         22330.49\n",
       "        11         18504.30"
      ]
     },
     "execution_count": 27,
     "metadata": {},
     "output_type": "execute_result"
    }
   ],
   "source": [
    "# Calculate the volume of internet traffic used by each user per month. Save the result.\n",
    "\n",
    "# Adding a column to extract the month from the session_date\n",
    "internet_df['month'] = internet_df['session_date'].dt.month\n",
    "\n",
    "# Grouping by user_id and month to calculate the total internet data used\n",
    "internet_per_month = internet_df.groupby(['user_id', 'month']).agg({'mb_used':'sum'})\n",
    "\n",
    "# Renaming the column for clarity\n",
    "internet_per_month.rename(columns={'mb_used': 'data_used_mb'}, inplace=True)\n",
    "\n",
    "# Displaying the result\n",
    "internet_per_month.head()"
   ]
  },
  {
   "cell_type": "markdown",
   "metadata": {},
   "source": [
    "[Put the aggregate data together into one DataFrame so that one record in it would represent what an unique user consumed in a given month.]"
   ]
  },
  {
   "cell_type": "code",
   "execution_count": 28,
   "metadata": {},
   "outputs": [
    {
     "data": {
      "text/html": [
       "<div>\n",
       "<style scoped>\n",
       "    .dataframe tbody tr th:only-of-type {\n",
       "        vertical-align: middle;\n",
       "    }\n",
       "\n",
       "    .dataframe tbody tr th {\n",
       "        vertical-align: top;\n",
       "    }\n",
       "\n",
       "    .dataframe thead th {\n",
       "        text-align: right;\n",
       "    }\n",
       "</style>\n",
       "<table border=\"1\" class=\"dataframe\">\n",
       "  <thead>\n",
       "    <tr style=\"text-align: right;\">\n",
       "      <th></th>\n",
       "      <th>user_id</th>\n",
       "      <th>month</th>\n",
       "      <th>calls_made</th>\n",
       "      <th>minutes_used</th>\n",
       "      <th>messages_sent</th>\n",
       "      <th>data_used_mb</th>\n",
       "    </tr>\n",
       "  </thead>\n",
       "  <tbody>\n",
       "    <tr>\n",
       "      <th>0</th>\n",
       "      <td>1000</td>\n",
       "      <td>12</td>\n",
       "      <td>16.0</td>\n",
       "      <td>124.0</td>\n",
       "      <td>11.0</td>\n",
       "      <td>1901.47</td>\n",
       "    </tr>\n",
       "    <tr>\n",
       "      <th>1</th>\n",
       "      <td>1001</td>\n",
       "      <td>8</td>\n",
       "      <td>27.0</td>\n",
       "      <td>182.0</td>\n",
       "      <td>30.0</td>\n",
       "      <td>6919.15</td>\n",
       "    </tr>\n",
       "    <tr>\n",
       "      <th>2</th>\n",
       "      <td>1001</td>\n",
       "      <td>9</td>\n",
       "      <td>49.0</td>\n",
       "      <td>315.0</td>\n",
       "      <td>44.0</td>\n",
       "      <td>13314.82</td>\n",
       "    </tr>\n",
       "    <tr>\n",
       "      <th>3</th>\n",
       "      <td>1001</td>\n",
       "      <td>10</td>\n",
       "      <td>65.0</td>\n",
       "      <td>393.0</td>\n",
       "      <td>53.0</td>\n",
       "      <td>22330.49</td>\n",
       "    </tr>\n",
       "    <tr>\n",
       "      <th>4</th>\n",
       "      <td>1001</td>\n",
       "      <td>11</td>\n",
       "      <td>64.0</td>\n",
       "      <td>426.0</td>\n",
       "      <td>36.0</td>\n",
       "      <td>18504.30</td>\n",
       "    </tr>\n",
       "    <tr>\n",
       "      <th>...</th>\n",
       "      <td>...</td>\n",
       "      <td>...</td>\n",
       "      <td>...</td>\n",
       "      <td>...</td>\n",
       "      <td>...</td>\n",
       "      <td>...</td>\n",
       "    </tr>\n",
       "    <tr>\n",
       "      <th>2288</th>\n",
       "      <td>1498</td>\n",
       "      <td>12</td>\n",
       "      <td>39.0</td>\n",
       "      <td>339.0</td>\n",
       "      <td>0.0</td>\n",
       "      <td>23137.69</td>\n",
       "    </tr>\n",
       "    <tr>\n",
       "      <th>2289</th>\n",
       "      <td>1499</td>\n",
       "      <td>9</td>\n",
       "      <td>41.0</td>\n",
       "      <td>346.0</td>\n",
       "      <td>0.0</td>\n",
       "      <td>12984.76</td>\n",
       "    </tr>\n",
       "    <tr>\n",
       "      <th>2290</th>\n",
       "      <td>1499</td>\n",
       "      <td>10</td>\n",
       "      <td>53.0</td>\n",
       "      <td>385.0</td>\n",
       "      <td>0.0</td>\n",
       "      <td>19492.43</td>\n",
       "    </tr>\n",
       "    <tr>\n",
       "      <th>2291</th>\n",
       "      <td>1499</td>\n",
       "      <td>11</td>\n",
       "      <td>45.0</td>\n",
       "      <td>308.0</td>\n",
       "      <td>0.0</td>\n",
       "      <td>16813.83</td>\n",
       "    </tr>\n",
       "    <tr>\n",
       "      <th>2292</th>\n",
       "      <td>1499</td>\n",
       "      <td>12</td>\n",
       "      <td>65.0</td>\n",
       "      <td>496.0</td>\n",
       "      <td>0.0</td>\n",
       "      <td>22059.21</td>\n",
       "    </tr>\n",
       "  </tbody>\n",
       "</table>\n",
       "<p>2293 rows × 6 columns</p>\n",
       "</div>"
      ],
      "text/plain": [
       "      user_id  month  calls_made  minutes_used  messages_sent  data_used_mb\n",
       "0        1000     12        16.0         124.0           11.0       1901.47\n",
       "1        1001      8        27.0         182.0           30.0       6919.15\n",
       "2        1001      9        49.0         315.0           44.0      13314.82\n",
       "3        1001     10        65.0         393.0           53.0      22330.49\n",
       "4        1001     11        64.0         426.0           36.0      18504.30\n",
       "...       ...    ...         ...           ...            ...           ...\n",
       "2288     1498     12        39.0         339.0            0.0      23137.69\n",
       "2289     1499      9        41.0         346.0            0.0      12984.76\n",
       "2290     1499     10        53.0         385.0            0.0      19492.43\n",
       "2291     1499     11        45.0         308.0            0.0      16813.83\n",
       "2292     1499     12        65.0         496.0            0.0      22059.21\n",
       "\n",
       "[2293 rows x 6 columns]"
      ]
     },
     "execution_count": 28,
     "metadata": {},
     "output_type": "execute_result"
    }
   ],
   "source": [
    "# Merge the data for calls, minutes, messages, internet based on user_id and month\n",
    "\n",
    "# # Merging the calls and minutes data\n",
    "# calls_minutes = calls_per_month.merge(minutes_per_month, on=['user_id', 'month'], how='outer')\n",
    "# calls_per_month\n",
    "\n",
    "# # Merging messages data\n",
    "# calls_minutes_messages = calls_minutes.merge(messages_per_month, on=['user_id', 'month'], how='outer')\n",
    "\n",
    "\n",
    "# # Merging internet usage data\n",
    "# aggregated_data = calls_minutes_messages.merge(internet_per_month, on=['user_id', 'month'], how='outer')\n",
    "\n",
    "# Use pd.concat to merge all three dataframes\n",
    "aggregated_data = pd.concat([calls_per_month, messages_per_month, internet_per_month], axis=1)\n",
    "\n",
    "# Fill missing values\n",
    "aggregated_data.fillna(0, inplace=True)\n",
    "aggregated_data.reset_index(inplace=True)\n",
    "\n",
    "# Displaying the result\n",
    "aggregated_data\n",
    "\n"
   ]
  },
  {
   "cell_type": "markdown",
   "metadata": {},
   "source": [
    "<div class=\"alert alert-success\">\n",
    "<b>Reviewer's comment v2:</b>\n",
    "\n",
    "Great! `how='outer'` is a great choice here to prevent data loss. "
   ]
  },
  {
   "cell_type": "code",
   "execution_count": 29,
   "metadata": {},
   "outputs": [
    {
     "data": {
      "text/html": [
       "<div>\n",
       "<style scoped>\n",
       "    .dataframe tbody tr th:only-of-type {\n",
       "        vertical-align: middle;\n",
       "    }\n",
       "\n",
       "    .dataframe tbody tr th {\n",
       "        vertical-align: top;\n",
       "    }\n",
       "\n",
       "    .dataframe thead th {\n",
       "        text-align: right;\n",
       "    }\n",
       "</style>\n",
       "<table border=\"1\" class=\"dataframe\">\n",
       "  <thead>\n",
       "    <tr style=\"text-align: right;\">\n",
       "      <th></th>\n",
       "      <th>user_id</th>\n",
       "      <th>month</th>\n",
       "      <th>calls_made</th>\n",
       "      <th>minutes_used</th>\n",
       "      <th>messages_sent</th>\n",
       "      <th>data_used_mb</th>\n",
       "      <th>first_name</th>\n",
       "      <th>last_name</th>\n",
       "      <th>age</th>\n",
       "      <th>city</th>\n",
       "      <th>...</th>\n",
       "      <th>tenure_months</th>\n",
       "      <th>is_churned</th>\n",
       "      <th>messages_included</th>\n",
       "      <th>mb_per_month_included</th>\n",
       "      <th>minutes_included</th>\n",
       "      <th>usd_monthly_pay</th>\n",
       "      <th>usd_per_gb</th>\n",
       "      <th>usd_per_message</th>\n",
       "      <th>usd_per_minute</th>\n",
       "      <th>plan_name</th>\n",
       "    </tr>\n",
       "  </thead>\n",
       "  <tbody>\n",
       "    <tr>\n",
       "      <th>0</th>\n",
       "      <td>1000</td>\n",
       "      <td>12</td>\n",
       "      <td>16.0</td>\n",
       "      <td>124.0</td>\n",
       "      <td>11.0</td>\n",
       "      <td>1901.47</td>\n",
       "      <td>Anamaria</td>\n",
       "      <td>Bauer</td>\n",
       "      <td>45</td>\n",
       "      <td>Atlanta-Sandy Springs-Roswell, GA MSA</td>\n",
       "      <td>...</td>\n",
       "      <td>70</td>\n",
       "      <td>0</td>\n",
       "      <td>1000</td>\n",
       "      <td>30720</td>\n",
       "      <td>3000</td>\n",
       "      <td>70</td>\n",
       "      <td>7</td>\n",
       "      <td>0.01</td>\n",
       "      <td>0.01</td>\n",
       "      <td>ultimate</td>\n",
       "    </tr>\n",
       "    <tr>\n",
       "      <th>1</th>\n",
       "      <td>1006</td>\n",
       "      <td>11</td>\n",
       "      <td>2.0</td>\n",
       "      <td>10.0</td>\n",
       "      <td>15.0</td>\n",
       "      <td>2068.37</td>\n",
       "      <td>Jesusa</td>\n",
       "      <td>Bradford</td>\n",
       "      <td>73</td>\n",
       "      <td>San Francisco-Oakland-Berkeley, CA MSA</td>\n",
       "      <td>...</td>\n",
       "      <td>71</td>\n",
       "      <td>1</td>\n",
       "      <td>1000</td>\n",
       "      <td>30720</td>\n",
       "      <td>3000</td>\n",
       "      <td>70</td>\n",
       "      <td>7</td>\n",
       "      <td>0.01</td>\n",
       "      <td>0.01</td>\n",
       "      <td>ultimate</td>\n",
       "    </tr>\n",
       "    <tr>\n",
       "      <th>2</th>\n",
       "      <td>1006</td>\n",
       "      <td>12</td>\n",
       "      <td>9.0</td>\n",
       "      <td>59.0</td>\n",
       "      <td>139.0</td>\n",
       "      <td>32118.82</td>\n",
       "      <td>Jesusa</td>\n",
       "      <td>Bradford</td>\n",
       "      <td>73</td>\n",
       "      <td>San Francisco-Oakland-Berkeley, CA MSA</td>\n",
       "      <td>...</td>\n",
       "      <td>71</td>\n",
       "      <td>1</td>\n",
       "      <td>1000</td>\n",
       "      <td>30720</td>\n",
       "      <td>3000</td>\n",
       "      <td>70</td>\n",
       "      <td>7</td>\n",
       "      <td>0.01</td>\n",
       "      <td>0.01</td>\n",
       "      <td>ultimate</td>\n",
       "    </tr>\n",
       "    <tr>\n",
       "      <th>3</th>\n",
       "      <td>1008</td>\n",
       "      <td>10</td>\n",
       "      <td>71.0</td>\n",
       "      <td>476.0</td>\n",
       "      <td>21.0</td>\n",
       "      <td>17106.99</td>\n",
       "      <td>Emely</td>\n",
       "      <td>Hoffman</td>\n",
       "      <td>53</td>\n",
       "      <td>Orlando-Kissimmee-Sanford, FL MSA</td>\n",
       "      <td>...</td>\n",
       "      <td>75</td>\n",
       "      <td>0</td>\n",
       "      <td>1000</td>\n",
       "      <td>30720</td>\n",
       "      <td>3000</td>\n",
       "      <td>70</td>\n",
       "      <td>7</td>\n",
       "      <td>0.01</td>\n",
       "      <td>0.01</td>\n",
       "      <td>ultimate</td>\n",
       "    </tr>\n",
       "    <tr>\n",
       "      <th>4</th>\n",
       "      <td>1008</td>\n",
       "      <td>11</td>\n",
       "      <td>63.0</td>\n",
       "      <td>446.0</td>\n",
       "      <td>37.0</td>\n",
       "      <td>23676.72</td>\n",
       "      <td>Emely</td>\n",
       "      <td>Hoffman</td>\n",
       "      <td>53</td>\n",
       "      <td>Orlando-Kissimmee-Sanford, FL MSA</td>\n",
       "      <td>...</td>\n",
       "      <td>75</td>\n",
       "      <td>0</td>\n",
       "      <td>1000</td>\n",
       "      <td>30720</td>\n",
       "      <td>3000</td>\n",
       "      <td>70</td>\n",
       "      <td>7</td>\n",
       "      <td>0.01</td>\n",
       "      <td>0.01</td>\n",
       "      <td>ultimate</td>\n",
       "    </tr>\n",
       "  </tbody>\n",
       "</table>\n",
       "<p>5 rows × 23 columns</p>\n",
       "</div>"
      ],
      "text/plain": [
       "   user_id  month  calls_made  minutes_used  messages_sent  data_used_mb  \\\n",
       "0     1000     12        16.0         124.0           11.0       1901.47   \n",
       "1     1006     11         2.0          10.0           15.0       2068.37   \n",
       "2     1006     12         9.0          59.0          139.0      32118.82   \n",
       "3     1008     10        71.0         476.0           21.0      17106.99   \n",
       "4     1008     11        63.0         446.0           37.0      23676.72   \n",
       "\n",
       "  first_name last_name  age                                    city  ...  \\\n",
       "0   Anamaria     Bauer   45   Atlanta-Sandy Springs-Roswell, GA MSA  ...   \n",
       "1     Jesusa  Bradford   73  San Francisco-Oakland-Berkeley, CA MSA  ...   \n",
       "2     Jesusa  Bradford   73  San Francisco-Oakland-Berkeley, CA MSA  ...   \n",
       "3      Emely   Hoffman   53       Orlando-Kissimmee-Sanford, FL MSA  ...   \n",
       "4      Emely   Hoffman   53       Orlando-Kissimmee-Sanford, FL MSA  ...   \n",
       "\n",
       "  tenure_months is_churned messages_included  mb_per_month_included  \\\n",
       "0            70          0              1000                  30720   \n",
       "1            71          1              1000                  30720   \n",
       "2            71          1              1000                  30720   \n",
       "3            75          0              1000                  30720   \n",
       "4            75          0              1000                  30720   \n",
       "\n",
       "   minutes_included  usd_monthly_pay  usd_per_gb  usd_per_message  \\\n",
       "0              3000               70           7             0.01   \n",
       "1              3000               70           7             0.01   \n",
       "2              3000               70           7             0.01   \n",
       "3              3000               70           7             0.01   \n",
       "4              3000               70           7             0.01   \n",
       "\n",
       "   usd_per_minute  plan_name  \n",
       "0            0.01   ultimate  \n",
       "1            0.01   ultimate  \n",
       "2            0.01   ultimate  \n",
       "3            0.01   ultimate  \n",
       "4            0.01   ultimate  \n",
       "\n",
       "[5 rows x 23 columns]"
      ]
     },
     "execution_count": 29,
     "metadata": {},
     "output_type": "execute_result"
    }
   ],
   "source": [
    "# Add the plan information\n",
    "users_df.columns\n",
    "# Merging the users data to get the plan information for each user\n",
    "#final_data = aggregated_data.merge(users_df[['user_id', 'plan']], on='user_id', how='left')\n",
    "\n",
    "\n",
    "# Use pd.merge on these:\n",
    "final_data = pd.merge(aggregated_data, users_df, on='user_id', how='inner')\n",
    "final_data = pd.merge(final_data, plans_df, left_on='plan', right_on='plan_name', how='inner')\n",
    "# Displaying the result\n",
    "final_data.head()\n"
   ]
  },
  {
   "cell_type": "markdown",
   "metadata": {},
   "source": [
    "[Calculate the monthly revenue from each user (subtract the free package limit from the total number of calls, text messages, and data; multiply the result by the calling plan value; add the monthly charge depending on the calling plan). N.B. This might not be as trivial as just a couple of lines given the plan conditions! So, it's okay to spend some time on it.]"
   ]
  },
  {
   "cell_type": "code",
   "execution_count": 30,
   "metadata": {},
   "outputs": [
    {
     "data": {
      "text/html": [
       "<div>\n",
       "<style scoped>\n",
       "    .dataframe tbody tr th:only-of-type {\n",
       "        vertical-align: middle;\n",
       "    }\n",
       "\n",
       "    .dataframe tbody tr th {\n",
       "        vertical-align: top;\n",
       "    }\n",
       "\n",
       "    .dataframe thead th {\n",
       "        text-align: right;\n",
       "    }\n",
       "</style>\n",
       "<table border=\"1\" class=\"dataframe\">\n",
       "  <thead>\n",
       "    <tr style=\"text-align: right;\">\n",
       "      <th></th>\n",
       "      <th>user_id</th>\n",
       "      <th>month</th>\n",
       "      <th>calls_made</th>\n",
       "      <th>minutes_used</th>\n",
       "      <th>messages_sent</th>\n",
       "      <th>data_used_mb</th>\n",
       "      <th>first_name</th>\n",
       "      <th>last_name</th>\n",
       "      <th>age</th>\n",
       "      <th>city</th>\n",
       "      <th>...</th>\n",
       "      <th>usd_per_message</th>\n",
       "      <th>usd_per_minute</th>\n",
       "      <th>plan_name</th>\n",
       "      <th>extra_minutes</th>\n",
       "      <th>extra_messages</th>\n",
       "      <th>extra_data</th>\n",
       "      <th>extra_minutes_charge</th>\n",
       "      <th>extra_messages_charge</th>\n",
       "      <th>extra_data_charge</th>\n",
       "      <th>monthly_revenue</th>\n",
       "    </tr>\n",
       "  </thead>\n",
       "  <tbody>\n",
       "    <tr>\n",
       "      <th>0</th>\n",
       "      <td>1000</td>\n",
       "      <td>12</td>\n",
       "      <td>16.0</td>\n",
       "      <td>124.0</td>\n",
       "      <td>11.0</td>\n",
       "      <td>1901.47</td>\n",
       "      <td>Anamaria</td>\n",
       "      <td>Bauer</td>\n",
       "      <td>45</td>\n",
       "      <td>Atlanta-Sandy Springs-Roswell, GA MSA</td>\n",
       "      <td>...</td>\n",
       "      <td>0.01</td>\n",
       "      <td>0.01</td>\n",
       "      <td>ultimate</td>\n",
       "      <td>0.0</td>\n",
       "      <td>0.0</td>\n",
       "      <td>0.00</td>\n",
       "      <td>0.0</td>\n",
       "      <td>0.0</td>\n",
       "      <td>0.0</td>\n",
       "      <td>70.0</td>\n",
       "    </tr>\n",
       "    <tr>\n",
       "      <th>1</th>\n",
       "      <td>1006</td>\n",
       "      <td>11</td>\n",
       "      <td>2.0</td>\n",
       "      <td>10.0</td>\n",
       "      <td>15.0</td>\n",
       "      <td>2068.37</td>\n",
       "      <td>Jesusa</td>\n",
       "      <td>Bradford</td>\n",
       "      <td>73</td>\n",
       "      <td>San Francisco-Oakland-Berkeley, CA MSA</td>\n",
       "      <td>...</td>\n",
       "      <td>0.01</td>\n",
       "      <td>0.01</td>\n",
       "      <td>ultimate</td>\n",
       "      <td>0.0</td>\n",
       "      <td>0.0</td>\n",
       "      <td>0.00</td>\n",
       "      <td>0.0</td>\n",
       "      <td>0.0</td>\n",
       "      <td>0.0</td>\n",
       "      <td>70.0</td>\n",
       "    </tr>\n",
       "    <tr>\n",
       "      <th>2</th>\n",
       "      <td>1006</td>\n",
       "      <td>12</td>\n",
       "      <td>9.0</td>\n",
       "      <td>59.0</td>\n",
       "      <td>139.0</td>\n",
       "      <td>32118.82</td>\n",
       "      <td>Jesusa</td>\n",
       "      <td>Bradford</td>\n",
       "      <td>73</td>\n",
       "      <td>San Francisco-Oakland-Berkeley, CA MSA</td>\n",
       "      <td>...</td>\n",
       "      <td>0.01</td>\n",
       "      <td>0.01</td>\n",
       "      <td>ultimate</td>\n",
       "      <td>0.0</td>\n",
       "      <td>0.0</td>\n",
       "      <td>1398.82</td>\n",
       "      <td>0.0</td>\n",
       "      <td>0.0</td>\n",
       "      <td>14.0</td>\n",
       "      <td>84.0</td>\n",
       "    </tr>\n",
       "    <tr>\n",
       "      <th>3</th>\n",
       "      <td>1008</td>\n",
       "      <td>10</td>\n",
       "      <td>71.0</td>\n",
       "      <td>476.0</td>\n",
       "      <td>21.0</td>\n",
       "      <td>17106.99</td>\n",
       "      <td>Emely</td>\n",
       "      <td>Hoffman</td>\n",
       "      <td>53</td>\n",
       "      <td>Orlando-Kissimmee-Sanford, FL MSA</td>\n",
       "      <td>...</td>\n",
       "      <td>0.01</td>\n",
       "      <td>0.01</td>\n",
       "      <td>ultimate</td>\n",
       "      <td>0.0</td>\n",
       "      <td>0.0</td>\n",
       "      <td>0.00</td>\n",
       "      <td>0.0</td>\n",
       "      <td>0.0</td>\n",
       "      <td>0.0</td>\n",
       "      <td>70.0</td>\n",
       "    </tr>\n",
       "    <tr>\n",
       "      <th>4</th>\n",
       "      <td>1008</td>\n",
       "      <td>11</td>\n",
       "      <td>63.0</td>\n",
       "      <td>446.0</td>\n",
       "      <td>37.0</td>\n",
       "      <td>23676.72</td>\n",
       "      <td>Emely</td>\n",
       "      <td>Hoffman</td>\n",
       "      <td>53</td>\n",
       "      <td>Orlando-Kissimmee-Sanford, FL MSA</td>\n",
       "      <td>...</td>\n",
       "      <td>0.01</td>\n",
       "      <td>0.01</td>\n",
       "      <td>ultimate</td>\n",
       "      <td>0.0</td>\n",
       "      <td>0.0</td>\n",
       "      <td>0.00</td>\n",
       "      <td>0.0</td>\n",
       "      <td>0.0</td>\n",
       "      <td>0.0</td>\n",
       "      <td>70.0</td>\n",
       "    </tr>\n",
       "    <tr>\n",
       "      <th>...</th>\n",
       "      <td>...</td>\n",
       "      <td>...</td>\n",
       "      <td>...</td>\n",
       "      <td>...</td>\n",
       "      <td>...</td>\n",
       "      <td>...</td>\n",
       "      <td>...</td>\n",
       "      <td>...</td>\n",
       "      <td>...</td>\n",
       "      <td>...</td>\n",
       "      <td>...</td>\n",
       "      <td>...</td>\n",
       "      <td>...</td>\n",
       "      <td>...</td>\n",
       "      <td>...</td>\n",
       "      <td>...</td>\n",
       "      <td>...</td>\n",
       "      <td>...</td>\n",
       "      <td>...</td>\n",
       "      <td>...</td>\n",
       "      <td>...</td>\n",
       "    </tr>\n",
       "    <tr>\n",
       "      <th>2288</th>\n",
       "      <td>1498</td>\n",
       "      <td>12</td>\n",
       "      <td>39.0</td>\n",
       "      <td>339.0</td>\n",
       "      <td>0.0</td>\n",
       "      <td>23137.69</td>\n",
       "      <td>Scot</td>\n",
       "      <td>Williamson</td>\n",
       "      <td>51</td>\n",
       "      <td>New York-Newark-Jersey City, NY-NJ-PA MSA</td>\n",
       "      <td>...</td>\n",
       "      <td>0.03</td>\n",
       "      <td>0.03</td>\n",
       "      <td>surf</td>\n",
       "      <td>0.0</td>\n",
       "      <td>0.0</td>\n",
       "      <td>7777.69</td>\n",
       "      <td>0.0</td>\n",
       "      <td>0.0</td>\n",
       "      <td>80.0</td>\n",
       "      <td>100.0</td>\n",
       "    </tr>\n",
       "    <tr>\n",
       "      <th>2289</th>\n",
       "      <td>1499</td>\n",
       "      <td>9</td>\n",
       "      <td>41.0</td>\n",
       "      <td>346.0</td>\n",
       "      <td>0.0</td>\n",
       "      <td>12984.76</td>\n",
       "      <td>Shena</td>\n",
       "      <td>Dickson</td>\n",
       "      <td>37</td>\n",
       "      <td>Orlando-Kissimmee-Sanford, FL MSA</td>\n",
       "      <td>...</td>\n",
       "      <td>0.03</td>\n",
       "      <td>0.03</td>\n",
       "      <td>surf</td>\n",
       "      <td>0.0</td>\n",
       "      <td>0.0</td>\n",
       "      <td>0.00</td>\n",
       "      <td>0.0</td>\n",
       "      <td>0.0</td>\n",
       "      <td>0.0</td>\n",
       "      <td>20.0</td>\n",
       "    </tr>\n",
       "    <tr>\n",
       "      <th>2290</th>\n",
       "      <td>1499</td>\n",
       "      <td>10</td>\n",
       "      <td>53.0</td>\n",
       "      <td>385.0</td>\n",
       "      <td>0.0</td>\n",
       "      <td>19492.43</td>\n",
       "      <td>Shena</td>\n",
       "      <td>Dickson</td>\n",
       "      <td>37</td>\n",
       "      <td>Orlando-Kissimmee-Sanford, FL MSA</td>\n",
       "      <td>...</td>\n",
       "      <td>0.03</td>\n",
       "      <td>0.03</td>\n",
       "      <td>surf</td>\n",
       "      <td>0.0</td>\n",
       "      <td>0.0</td>\n",
       "      <td>4132.43</td>\n",
       "      <td>0.0</td>\n",
       "      <td>0.0</td>\n",
       "      <td>50.0</td>\n",
       "      <td>70.0</td>\n",
       "    </tr>\n",
       "    <tr>\n",
       "      <th>2291</th>\n",
       "      <td>1499</td>\n",
       "      <td>11</td>\n",
       "      <td>45.0</td>\n",
       "      <td>308.0</td>\n",
       "      <td>0.0</td>\n",
       "      <td>16813.83</td>\n",
       "      <td>Shena</td>\n",
       "      <td>Dickson</td>\n",
       "      <td>37</td>\n",
       "      <td>Orlando-Kissimmee-Sanford, FL MSA</td>\n",
       "      <td>...</td>\n",
       "      <td>0.03</td>\n",
       "      <td>0.03</td>\n",
       "      <td>surf</td>\n",
       "      <td>0.0</td>\n",
       "      <td>0.0</td>\n",
       "      <td>1453.83</td>\n",
       "      <td>0.0</td>\n",
       "      <td>0.0</td>\n",
       "      <td>20.0</td>\n",
       "      <td>40.0</td>\n",
       "    </tr>\n",
       "    <tr>\n",
       "      <th>2292</th>\n",
       "      <td>1499</td>\n",
       "      <td>12</td>\n",
       "      <td>65.0</td>\n",
       "      <td>496.0</td>\n",
       "      <td>0.0</td>\n",
       "      <td>22059.21</td>\n",
       "      <td>Shena</td>\n",
       "      <td>Dickson</td>\n",
       "      <td>37</td>\n",
       "      <td>Orlando-Kissimmee-Sanford, FL MSA</td>\n",
       "      <td>...</td>\n",
       "      <td>0.03</td>\n",
       "      <td>0.03</td>\n",
       "      <td>surf</td>\n",
       "      <td>0.0</td>\n",
       "      <td>0.0</td>\n",
       "      <td>6699.21</td>\n",
       "      <td>0.0</td>\n",
       "      <td>0.0</td>\n",
       "      <td>70.0</td>\n",
       "      <td>90.0</td>\n",
       "    </tr>\n",
       "  </tbody>\n",
       "</table>\n",
       "<p>2293 rows × 30 columns</p>\n",
       "</div>"
      ],
      "text/plain": [
       "      user_id  month  calls_made  minutes_used  messages_sent  data_used_mb  \\\n",
       "0        1000     12        16.0         124.0           11.0       1901.47   \n",
       "1        1006     11         2.0          10.0           15.0       2068.37   \n",
       "2        1006     12         9.0          59.0          139.0      32118.82   \n",
       "3        1008     10        71.0         476.0           21.0      17106.99   \n",
       "4        1008     11        63.0         446.0           37.0      23676.72   \n",
       "...       ...    ...         ...           ...            ...           ...   \n",
       "2288     1498     12        39.0         339.0            0.0      23137.69   \n",
       "2289     1499      9        41.0         346.0            0.0      12984.76   \n",
       "2290     1499     10        53.0         385.0            0.0      19492.43   \n",
       "2291     1499     11        45.0         308.0            0.0      16813.83   \n",
       "2292     1499     12        65.0         496.0            0.0      22059.21   \n",
       "\n",
       "     first_name   last_name  age                                       city  \\\n",
       "0      Anamaria       Bauer   45      Atlanta-Sandy Springs-Roswell, GA MSA   \n",
       "1        Jesusa    Bradford   73     San Francisco-Oakland-Berkeley, CA MSA   \n",
       "2        Jesusa    Bradford   73     San Francisco-Oakland-Berkeley, CA MSA   \n",
       "3         Emely     Hoffman   53          Orlando-Kissimmee-Sanford, FL MSA   \n",
       "4         Emely     Hoffman   53          Orlando-Kissimmee-Sanford, FL MSA   \n",
       "...         ...         ...  ...                                        ...   \n",
       "2288       Scot  Williamson   51  New York-Newark-Jersey City, NY-NJ-PA MSA   \n",
       "2289      Shena     Dickson   37          Orlando-Kissimmee-Sanford, FL MSA   \n",
       "2290      Shena     Dickson   37          Orlando-Kissimmee-Sanford, FL MSA   \n",
       "2291      Shena     Dickson   37          Orlando-Kissimmee-Sanford, FL MSA   \n",
       "2292      Shena     Dickson   37          Orlando-Kissimmee-Sanford, FL MSA   \n",
       "\n",
       "      ... usd_per_message usd_per_minute plan_name  extra_minutes  \\\n",
       "0     ...            0.01           0.01  ultimate            0.0   \n",
       "1     ...            0.01           0.01  ultimate            0.0   \n",
       "2     ...            0.01           0.01  ultimate            0.0   \n",
       "3     ...            0.01           0.01  ultimate            0.0   \n",
       "4     ...            0.01           0.01  ultimate            0.0   \n",
       "...   ...             ...            ...       ...            ...   \n",
       "2288  ...            0.03           0.03      surf            0.0   \n",
       "2289  ...            0.03           0.03      surf            0.0   \n",
       "2290  ...            0.03           0.03      surf            0.0   \n",
       "2291  ...            0.03           0.03      surf            0.0   \n",
       "2292  ...            0.03           0.03      surf            0.0   \n",
       "\n",
       "      extra_messages  extra_data  extra_minutes_charge  extra_messages_charge  \\\n",
       "0                0.0        0.00                   0.0                    0.0   \n",
       "1                0.0        0.00                   0.0                    0.0   \n",
       "2                0.0     1398.82                   0.0                    0.0   \n",
       "3                0.0        0.00                   0.0                    0.0   \n",
       "4                0.0        0.00                   0.0                    0.0   \n",
       "...              ...         ...                   ...                    ...   \n",
       "2288             0.0     7777.69                   0.0                    0.0   \n",
       "2289             0.0        0.00                   0.0                    0.0   \n",
       "2290             0.0     4132.43                   0.0                    0.0   \n",
       "2291             0.0     1453.83                   0.0                    0.0   \n",
       "2292             0.0     6699.21                   0.0                    0.0   \n",
       "\n",
       "      extra_data_charge  monthly_revenue  \n",
       "0                   0.0             70.0  \n",
       "1                   0.0             70.0  \n",
       "2                  14.0             84.0  \n",
       "3                   0.0             70.0  \n",
       "4                   0.0             70.0  \n",
       "...                 ...              ...  \n",
       "2288               80.0            100.0  \n",
       "2289                0.0             20.0  \n",
       "2290               50.0             70.0  \n",
       "2291               20.0             40.0  \n",
       "2292               70.0             90.0  \n",
       "\n",
       "[2293 rows x 30 columns]"
      ]
     },
     "execution_count": 30,
     "metadata": {},
     "output_type": "execute_result"
    }
   ],
   "source": [
    "# Calculate the monthly revenue for each user\n",
    "\n",
    "final_data['extra_minutes'] = final_data['minutes_used'] - final_data['minutes_included']\n",
    "final_data['extra_messages'] = final_data['messages_sent'] - final_data['messages_included']\n",
    "final_data['extra_data'] = final_data['data_used_mb'] - final_data['mb_per_month_included']\n",
    "\n",
    "final_data['extra_minutes'] = final_data['extra_minutes'].apply(lambda x: max(x, 0))\n",
    "final_data['extra_messages'] = final_data['extra_messages'].apply(lambda x: max(x, 0))\n",
    "final_data['extra_data'] = final_data['extra_data'].apply(lambda x: max(x, 0))\n",
    "\n",
    "final_data['extra_minutes_charge'] = final_data['extra_minutes'] * final_data['usd_per_minute']\n",
    "final_data['extra_messages_charge'] = final_data['extra_messages'] * final_data['usd_per_message']\n",
    "final_data['extra_data_charge'] = np.ceil(final_data['extra_data'] / 1024) * final_data['usd_per_gb']\n",
    "\n",
    "final_data['monthly_revenue'] = (final_data['usd_monthly_pay'] + \n",
    "                                final_data['extra_minutes_charge'] + \n",
    "                                final_data['extra_messages_charge'] + \n",
    "                                final_data['extra_data_charge'])\n",
    "\n",
    "# # Function to calculate revenue for each row based on the plan\n",
    "# def calculate_revenue(row):\n",
    "#     # Getting the plan details\n",
    "#     if row['plan'] == 'Surf':\n",
    "#         monthly_charge = 20\n",
    "#         free_minutes = 500\n",
    "#         free_messages = 50\n",
    "#         free_data_gb = 15\n",
    "#         extra_minute_cost = 0.03\n",
    "#         extra_message_cost = 0.03\n",
    "#         extra_data_cost = 10  # per GB\n",
    "#     elif row['plan'] == 'Ultimate':\n",
    "#         monthly_charge = 70\n",
    "#         free_minutes = 3000\n",
    "#         free_messages = 1000\n",
    "#         free_data_gb = 30\n",
    "#         extra_minute_cost = 0.01\n",
    "#         extra_message_cost = 0.01\n",
    "#         extra_data_cost = 7  # per GB\n",
    "#     else:\n",
    "#         return 0\n",
    "    \n",
    "#     # Calculating the extra costs\n",
    "#     extra_minutes = max(0, row['minutes_used'] - free_minutes)\n",
    "#     extra_messages = max(0, row['messages_sent'] - free_messages)\n",
    "#     extra_data = max(0, row['data_used_mb'] - free_data_gb)\n",
    "#     extra_data = np.ceil(extra_data / 1024)\n",
    "\n",
    "#     # Calculating the total revenue\n",
    "#     revenue = monthly_charge + (extra_minutes * extra_minute_cost) + (extra_messages * extra_message_cost) + (extra_data * extra_data_cost)\n",
    "\n",
    "#     return revenue\n",
    "\n",
    "# # Applying the function to each row\n",
    "# final_data['monthly_revenue'] = final_data.apply(calculate_revenue, axis=1)\n",
    "\n",
    "# Displaying the result\n",
    "final_data\n"
   ]
  },
  {
   "cell_type": "markdown",
   "metadata": {},
   "source": [
    "<div class=\"alert alert-success\" role=\"alert\">\n",
    "<b>Reviewer's comment v3:</b>\n",
    "\n",
    "Everything is correct here.\n",
    "\n",
    "Btw it is also possible to make the calculation of revenue a bit different `np.where` - https://numpy.org/doc/stable/reference/generated/numpy.where.html\n",
    "    \n",
    "```\n",
    "np.where ('condition: if exceeding the package limit', 'multiply the difference by the price of additional services', '0')\n",
    "```\n",
    "\n",
    "    \n",
    "Great thing about python is that there are so many libraries and ready-to-use functions. For example, this task can also be solved using `.clip()` (a useful method in many tasks). You can read it here: https://www.pythonpool.com/numpy-clip/\n",
    "    "
   ]
  },
  {
   "cell_type": "markdown",
   "metadata": {},
   "source": [
    "<div class=\"alert alert-danger\">\n",
    "<b>Reviewer's comment v1:</b>\n",
    "\n",
    "Please note that the telecom operator rounds up also traffic values.\n",
    "\n",
    "`Note: Megaline rounds seconds up to minutes, and megabytes to gigabytes. For calls, each individual call is rounded up: even if the call lasted just one second, it will be counted as one minute. For web traffic, individual web sessions are not rounded up. Instead, the total for the month is rounded up. If someone uses 1025 megabytes this month, they will be charged for 2 gigabytes.`\n",
    "\n",
    "Can you please add data rounding for traffic values?\n",
    "\n",
    "Additionally data filtering is case sensitive in python, so checking `Ultimate` instead of `ultimate`. \n"
   ]
  },
  {
   "cell_type": "markdown",
   "metadata": {},
   "source": [
    "I would like this to be explained to me a little bit, I was confused a bit while referring to my notes to do this"
   ]
  },
  {
   "cell_type": "markdown",
   "metadata": {},
   "source": [
    "## Study user behaviour"
   ]
  },
  {
   "cell_type": "markdown",
   "metadata": {},
   "source": [
    "[Calculate some useful descriptive statistics for the aggregated and merged data, which typically reveal an overall picture captured by the data. Draw useful plots to help the understanding. Given that the main task is to compare the plans and decide on which one is more profitable, the statistics and the plots should be calculated on a per-plan basis.]\n",
    "\n",
    "[There are relevant hints in the comments for Calls but they are not provided for Messages and Internet though the principle of statistical study is the same for them as for Calls.]"
   ]
  },
  {
   "cell_type": "markdown",
   "metadata": {},
   "source": [
    "### Calls"
   ]
  },
  {
   "cell_type": "markdown",
   "metadata": {},
   "source": [
    "<div class=\"alert alert-danger\">\n",
    "<b>Reviewer's comment v2:</b>\n",
    "\n",
    "NaN values represent missing or undefined data and can distort statistical calculations like mean and median. For example, in the dataset [NaN, 78.0, 78.0], ignoring the NaN results in a mean and median of 78.0, but including NaN makes these calculations undefined. Ignoring or appropriately replacing NaN values is essential for accurate statistics. Handling NaN values correctly ensures reliable mean, median, and other statistical measures."
   ]
  },
  {
   "cell_type": "code",
   "execution_count": 31,
   "metadata": {},
   "outputs": [
    {
     "data": {
      "image/png": "[encoded data removed]",
      "text/plain": [
       "<Figure size 1200x600 with 1 Axes>"
      ]
     },
     "metadata": {},
     "output_type": "display_data"
    }
   ],
   "source": [
    "# Compare average duration of calls per each plan per each distinct month. Plot a bar plat to visualize it.\n",
    "#import matplotlib.pyplot as plt\n",
    "\n",
    "# Calculate average call duration per plan and month\n",
    "average_duration = final_data.groupby(['plan', 'month'])['minutes_used'].mean().unstack(level=0)\n",
    "\n",
    "# Plotting the average call duration\n",
    "average_duration.plot(kind='bar', figsize=(12, 6))\n",
    "# for plan in average_duration['plan'].unique():\n",
    "#     subset = average_duration[average_duration['plan'] == plan]\n",
    "#     plt.bar(subset['month'], subset['minutes_used'], label=plan)\n",
    "\n",
    "plt.title('Average Call Duration per Plan by Month')\n",
    "plt.xlabel('Month')\n",
    "plt.ylabel('Average Duration (Minutes)')\n",
    "# plt.xticks(range(1, 13))  # Assuming months are numbered from 1 to 12\n",
    "plt.legend()\n",
    "plt.grid(axis='y')\n",
    "plt.show()\n"
   ]
  },
  {
   "cell_type": "code",
   "execution_count": 32,
   "metadata": {},
   "outputs": [
    {
     "data": {
      "image/png": "[encoded data removed]",
      "text/plain": [
       "<Figure size 1200x600 with 1 Axes>"
      ]
     },
     "metadata": {},
     "output_type": "display_data"
    }
   ],
   "source": [
    "# Compare the number of minutes users of each plan require each month. Plot a histogram.\n",
    "# Calculate total minutes used per plan and month\n",
    "total_minutes = final_data.groupby(['plan', 'month'])['minutes_used'].sum().reset_index()\n",
    "\n",
    "# Plotting the total minutes used\n",
    "plt.figure(figsize=(12, 6))\n",
    "for plan in total_minutes['plan'].unique():\n",
    "    subset = total_minutes[total_minutes['plan'] == plan]\n",
    "    plt.bar(subset['month'], subset['minutes_used'], label=plan)\n",
    "\n",
    "plt.title('Total Minutes Used per Plan by Month')\n",
    "plt.xlabel('Month')\n",
    "plt.ylabel('Total Minutes')\n",
    "plt.xticks(range(1, 13))  # Assuming months are numbered from 1 to 12\n",
    "plt.legend()\n",
    "plt.grid(axis='y')\n",
    "plt.show()\n",
    "\n"
   ]
  },
  {
   "cell_type": "markdown",
   "metadata": {},
   "source": [
    "[Calculate the mean and the variable of the call duration to reason on whether users on the different plans have different behaviours for their calls.]"
   ]
  },
  {
   "cell_type": "code",
   "execution_count": 33,
   "metadata": {},
   "outputs": [
    {
     "name": "stdout",
     "output_type": "stream",
     "text": [
      "       plan  mean_call_duration  variance_call_duration\n",
      "0      surf          428.749523            54968.279461\n",
      "1  ultimate          430.450000            57844.464812\n"
     ]
    }
   ],
   "source": [
    "# Calculate the mean and the variance of the monthly call duration\n",
    "call_duration_stats = final_data.groupby('plan')['minutes_used'].agg(['mean', 'var']).reset_index()\n",
    "call_duration_stats.columns = ['plan', 'mean_call_duration', 'variance_call_duration']\n",
    "\n",
    "# Display the statistics\n",
    "print(call_duration_stats)\n",
    "\n"
   ]
  },
  {
   "cell_type": "code",
   "execution_count": 34,
   "metadata": {},
   "outputs": [
    {
     "data": {
      "text/plain": [
       "<Figure size 1000x600 with 0 Axes>"
      ]
     },
     "metadata": {},
     "output_type": "display_data"
    },
    {
     "data": {
      "image/png": "[encoded data removed]",
      "text/plain": [
       "<Figure size 640x480 with 1 Axes>"
      ]
     },
     "metadata": {},
     "output_type": "display_data"
    }
   ],
   "source": [
    "# Plot a boxplot to visualize the distribution of the monthly call duration\n",
    "\n",
    "\n",
    "# Creating a boxplot for monthly call duration by plan\n",
    "plt.figure(figsize=(10, 6))\n",
    "final_data.boxplot(column='minutes_used', by='plan', grid=False)\n",
    "plt.title('Monthly Call Duration by Plan')\n",
    "plt.suptitle('')  # Suppress the default title to avoid redundancy\n",
    "plt.xlabel('Plan')\n",
    "plt.ylabel('Minutes Used')\n",
    "plt.xticks(rotation=45)\n",
    "plt.show()\n"
   ]
  },
  {
   "cell_type": "markdown",
   "metadata": {},
   "source": [
    "[Formulate conclusions on how the users behave in terms of calling. Is their behaviour different between the plans?]\n",
    "\n",
    "Behavior Differences: Based on the findings, reason about user behavior:\n",
    "\n",
    "If users on one plan consistently have longer call durations, this could suggest that the plan better meets their needs or that they have different calling habits.\n",
    "If one plan has a higher variance, it may indicate that users are either very satisfied or very dissatisfied, leading to extremes in call duration."
   ]
  },
  {
   "cell_type": "markdown",
   "metadata": {},
   "source": [
    " "
   ]
  },
  {
   "cell_type": "markdown",
   "metadata": {},
   "source": [
    "### Messages"
   ]
  },
  {
   "cell_type": "code",
   "execution_count": 35,
   "metadata": {},
   "outputs": [
    {
     "name": "stdout",
     "output_type": "stream",
     "text": [
      "        plan  month       mean          var\n",
      "0       surf      1  10.500000   220.500000\n",
      "1       surf      2  12.000000   386.000000\n",
      "2       surf      3  15.260870   346.565217\n",
      "3       surf      4  17.400000   501.591837\n",
      "4       surf      5  24.012987   847.197198\n",
      "5       surf      6  25.298969   914.920103\n",
      "6       surf      7  27.033058   923.915565\n",
      "7       surf      8  28.777778  1029.515528\n",
      "8       surf      9  30.762887  1003.829496\n",
      "9       surf     10  33.839662  1275.465708\n",
      "10      surf     11  32.385159  1065.344034\n",
      "11      surf     12  38.600629  1458.158612\n",
      "12  ultimate      1  15.500000   313.666667\n",
      "13  ultimate      2  21.571429   478.285714\n",
      "14  ultimate      3  20.250000   654.386364\n",
      "15  ultimate      4  22.047619   544.147619\n",
      "16  ultimate      5  32.103448  1297.310345\n",
      "17  ultimate      6  29.340426   857.620722\n",
      "18  ultimate      7  32.830508   960.488019\n",
      "19  ultimate      8  38.478873  1196.367404\n",
      "20  ultimate      9  37.895349  1050.918331\n",
      "21  ultimate     10  39.443396  1221.106289\n",
      "22  ultimate     11  38.606299  1232.669166\n",
      "23  ultimate     12  45.006623  1549.419956\n"
     ]
    },
    {
     "data": {
      "image/png": "[encoded data removed]",
      "text/plain": [
       "<Figure size 1000x600 with 1 Axes>"
      ]
     },
     "metadata": {},
     "output_type": "display_data"
    }
   ],
   "source": [
    "# Compare the number of messages users of each plan tend to send each month\n",
    "\n",
    "message_stats = final_data.groupby(['plan', 'month'])['messages_sent'].agg(['mean', 'var']).reset_index()\n",
    "\n",
    "# Displaying the statistics\n",
    "print(message_stats)\n",
    "\n",
    "# Plotting the average number of messages sent per plan\n",
    "plt.figure(figsize=(10, 6))\n",
    "for plan in final_data['plan'].unique():\n",
    "    monthly_data = final_data[final_data['plan'] == plan].groupby('month')['messages_sent'].mean()\n",
    "    plt.plot(monthly_data.index, monthly_data, marker='o', label=plan)\n",
    "\n",
    "plt.title('Average Messages Sent Per Month by Plan')\n",
    "plt.xlabel('Month')\n",
    "plt.ylabel('Average Messages Sent')\n",
    "plt.xticks(monthly_data.index)\n",
    "plt.legend(title='Plan')\n",
    "plt.grid()\n",
    "plt.show()\n"
   ]
  },
  {
   "cell_type": "code",
   "execution_count": 36,
   "metadata": {},
   "outputs": [
    {
     "name": "stdout",
     "output_type": "stream",
     "text": [
      "        plan  month          mean           var\n",
      "0       surf      1   4874.860000  1.823995e+07\n",
      "1       surf      2  12178.843333  4.367296e+07\n",
      "2       surf      3  13345.440000  6.824556e+07\n",
      "3       surf      4  11984.203000  5.904494e+07\n",
      "4       surf      5  13936.354935  6.147653e+07\n",
      "5       surf      6  15301.529175  4.913339e+07\n",
      "6       surf      7  16783.600579  6.468655e+07\n",
      "7       surf      8  16795.331358  7.463649e+07\n",
      "8       surf      9  16591.431289  5.131665e+07\n",
      "9       surf     10  17311.335063  6.252794e+07\n",
      "10      surf     11  16339.254417  5.717547e+07\n",
      "11      surf     12  18132.469371  7.214741e+07\n",
      "12  ultimate      1   6918.092500  1.639471e+07\n",
      "13  ultimate      2  17128.808571  3.764910e+07\n",
      "14  ultimate      3  18321.518333  1.403392e+08\n",
      "15  ultimate      4  16121.654762  8.842861e+07\n",
      "16  ultimate      5  16624.482414  5.679012e+07\n",
      "17  ultimate      6  15337.921064  7.201453e+07\n",
      "18  ultimate      7  16344.744407  6.841921e+07\n",
      "19  ultimate      8  17814.720141  6.044708e+07\n",
      "20  ultimate      9  16969.869535  4.933904e+07\n",
      "21  ultimate     10  17612.553396  5.699528e+07\n",
      "22  ultimate     11  17033.685354  5.758948e+07\n",
      "23  ultimate     12  18323.191854  6.188130e+07\n"
     ]
    },
    {
     "data": {
      "image/png": "[encoded data removed]",
      "text/plain": [
       "<Figure size 1000x600 with 1 Axes>"
      ]
     },
     "metadata": {},
     "output_type": "display_data"
    }
   ],
   "source": [
    "# Compare the amount of internet traffic consumed by users per plan\n",
    "\n",
    "# Grouping by plan and month to calculate the mean and variance of data used\n",
    "internet_stats = final_data.groupby(['plan', 'month'])['data_used_mb'].agg(['mean', 'var']).reset_index()\n",
    "\n",
    "# Displaying the statistics\n",
    "print(internet_stats)\n",
    "\n",
    "# Plotting the average internet data usage per plan\n",
    "plt.figure(figsize=(10, 6))\n",
    "for plan in final_data['plan'].unique():\n",
    "    monthly_data = final_data[final_data['plan'] == plan].groupby('month')['data_used_mb'].mean()\n",
    "    plt.plot(monthly_data.index, monthly_data, marker='o', label=plan)\n",
    "\n",
    "plt.title('Average Internet Data Used Per Month by Plan')\n",
    "plt.xlabel('Month')\n",
    "plt.ylabel('Average Data Used (MB)')\n",
    "plt.xticks(monthly_data.index)\n",
    "plt.legend(title='Plan')\n",
    "plt.grid()\n",
    "plt.show()"
   ]
  },
  {
   "cell_type": "markdown",
   "metadata": {},
   "source": [
    "Internet Traffic Statistics: Look at the average data consumption statistics. If one plan shows significantly higher data usage, it could suggest that users are using more internet-based messaging apps or services.\n",
    "\n",
    "Behavior Differences:\n",
    "\n",
    "If users on one plan tend to send more messages, it may indicate that the plan is more appealing for those who communicate frequently via text.\n",
    "\n",
    "If there are significant differences in data usage, this could highlight that users on certain plans rely more on mobile data services, perhaps for streaming or social media.\n",
    "Patterns in messaging and internet usage can help inform marketing strategies for each plan, catering to the specific needs and habits of users.\n",
    "\n",
    "Summary\n",
    "By analyzing the messaging behavior and internet consumption patterns, you can draw important insights into how users engage with the services provided by each plan, which can guide future adjustments or promotions for the different prepaid plans.\n"
   ]
  },
  {
   "cell_type": "markdown",
   "metadata": {},
   "source": [
    "<div class=\"alert alert-warning\">\n",
    "<b>Reviewer's comment v3:</b>\n",
    "    \n",
    "To avoid repetitive code you could utilize functions. "
   ]
  },
  {
   "cell_type": "markdown",
   "metadata": {},
   "source": [
    "[Formulate conclusions on how the users behave in terms of messaging. Is their behaviour different between the plans?]"
   ]
  },
  {
   "cell_type": "markdown",
   "metadata": {},
   "source": [
    " "
   ]
  },
  {
   "cell_type": "markdown",
   "metadata": {},
   "source": [
    "### Internet"
   ]
  },
  {
   "cell_type": "code",
   "execution_count": 37,
   "metadata": {},
   "outputs": [
    {
     "name": "stdout",
     "output_type": "stream",
     "text": [
      "        plan  month          mean           var\n",
      "0       surf      1   4874.860000  1.823995e+07\n",
      "1       surf      2  12178.843333  4.367296e+07\n",
      "2       surf      3  13345.440000  6.824556e+07\n",
      "3       surf      4  11984.203000  5.904494e+07\n",
      "4       surf      5  13936.354935  6.147653e+07\n",
      "5       surf      6  15301.529175  4.913339e+07\n",
      "6       surf      7  16783.600579  6.468655e+07\n",
      "7       surf      8  16795.331358  7.463649e+07\n",
      "8       surf      9  16591.431289  5.131665e+07\n",
      "9       surf     10  17311.335063  6.252794e+07\n",
      "10      surf     11  16339.254417  5.717547e+07\n",
      "11      surf     12  18132.469371  7.214741e+07\n",
      "12  ultimate      1   6918.092500  1.639471e+07\n",
      "13  ultimate      2  17128.808571  3.764910e+07\n",
      "14  ultimate      3  18321.518333  1.403392e+08\n",
      "15  ultimate      4  16121.654762  8.842861e+07\n",
      "16  ultimate      5  16624.482414  5.679012e+07\n",
      "17  ultimate      6  15337.921064  7.201453e+07\n",
      "18  ultimate      7  16344.744407  6.841921e+07\n",
      "19  ultimate      8  17814.720141  6.044708e+07\n",
      "20  ultimate      9  16969.869535  4.933904e+07\n",
      "21  ultimate     10  17612.553396  5.699528e+07\n",
      "22  ultimate     11  17033.685354  5.758948e+07\n",
      "23  ultimate     12  18323.191854  6.188130e+07\n"
     ]
    },
    {
     "data": {
      "image/png": "[encoded data removed]",
      "text/plain": [
       "<Figure size 1000x600 with 1 Axes>"
      ]
     },
     "metadata": {},
     "output_type": "display_data"
    }
   ],
   "source": [
    "# Grouping by plan and month to calculate the mean and variance of messages sent\n",
    "internet_stats = final_data.groupby(['plan', 'month'])['data_used_mb'].agg(['mean', 'var']).reset_index()\n",
    "\n",
    "# Displaying the statistics\n",
    "print(internet_stats)\n",
    "# Plotting the average internet data usage per plan\n",
    "plt.figure(figsize=(10, 6))\n",
    "for plan in final_data['plan'].unique():\n",
    "    monthly_data = final_data[final_data['plan'] == plan].groupby('month')['data_used_mb'].mean()\n",
    "    plt.plot(monthly_data.index, monthly_data, marker='o', label=plan)\n",
    "\n",
    "plt.title('Average Internet Data Used Per Month by Plan')\n",
    "plt.xlabel('Month')\n",
    "plt.ylabel('Average Data Used (MB)')\n",
    "plt.xticks(monthly_data.index)\n",
    "plt.legend(title='Plan')\n",
    "plt.grid()\n",
    "plt.show()\n"
   ]
  },
  {
   "cell_type": "markdown",
   "metadata": {},
   "source": [
    "Marketing and Business Insights:\n",
    "\n",
    "Understanding internet consumption patterns can inform marketing strategies and promotional offers. For example, if data usage is consistently high among certain plans, targeted advertisements or promotions emphasizing additional data or streaming services could appeal to those users.\n",
    "\n",
    "Insights into user behavior regarding internet consumption can also help in adjusting the pricing structure or the benefits of each plan to better meet user demands and increase satisfaction.\n",
    "\n",
    "Summary\n",
    "By analyzing internet traffic consumption data, you can draw significant insights into how users engage with internet services across different plans. These insights can inform marketing strategies, service offerings, and potentially influence the development of future prepaid plans that align with user needs and consumption habits.\n",
    "\n",
    "\n",
    "\n",
    "\n",
    "\n",
    "\n"
   ]
  },
  {
   "cell_type": "code",
   "execution_count": null,
   "metadata": {},
   "outputs": [],
   "source": []
  },
  {
   "cell_type": "markdown",
   "metadata": {},
   "source": [
    "[Formulate conclusions on how the users tend to consume the internet traffic? Is their behaviour different between the plans?]"
   ]
  },
  {
   "cell_type": "markdown",
   "metadata": {},
   "source": [
    "<div class=\"alert alert-block alert-danger\">\n",
    "<b>Reviewer's comment v1</b>\n",
    " \n",
    "\n",
    "I see that unfortunately the project stops here. Could you please compelte the project?\n",
    "    \n",
    "Let a tutor on Discord or here if you have any questions abou the project task."
   ]
  },
  {
   "cell_type": "markdown",
   "metadata": {},
   "source": [
    " "
   ]
  },
  {
   "cell_type": "markdown",
   "metadata": {},
   "source": [
    "## Revenue"
   ]
  },
  {
   "cell_type": "markdown",
   "metadata": {},
   "source": [
    "[Likewise you have studied the user behaviour, statistically describe the revenue between the plans.]"
   ]
  },
  {
   "cell_type": "code",
   "execution_count": 38,
   "metadata": {},
   "outputs": [
    {
     "data": {
      "text/html": [
       "<div>\n",
       "<style scoped>\n",
       "    .dataframe tbody tr th:only-of-type {\n",
       "        vertical-align: middle;\n",
       "    }\n",
       "\n",
       "    .dataframe tbody tr th {\n",
       "        vertical-align: top;\n",
       "    }\n",
       "\n",
       "    .dataframe thead th {\n",
       "        text-align: right;\n",
       "    }\n",
       "</style>\n",
       "<table border=\"1\" class=\"dataframe\">\n",
       "  <thead>\n",
       "    <tr style=\"text-align: right;\">\n",
       "      <th></th>\n",
       "      <th>plan</th>\n",
       "      <th>mean_revenue</th>\n",
       "      <th>var_revenue</th>\n",
       "    </tr>\n",
       "  </thead>\n",
       "  <tbody>\n",
       "    <tr>\n",
       "      <th>0</th>\n",
       "      <td>surf</td>\n",
       "      <td>60.706408</td>\n",
       "      <td>3067.835152</td>\n",
       "    </tr>\n",
       "    <tr>\n",
       "      <th>1</th>\n",
       "      <td>ultimate</td>\n",
       "      <td>72.313889</td>\n",
       "      <td>129.848486</td>\n",
       "    </tr>\n",
       "  </tbody>\n",
       "</table>\n",
       "</div>"
      ],
      "text/plain": [
       "       plan  mean_revenue  var_revenue\n",
       "0      surf     60.706408  3067.835152\n",
       "1  ultimate     72.313889   129.848486"
      ]
     },
     "execution_count": 38,
     "metadata": {},
     "output_type": "execute_result"
    }
   ],
   "source": [
    "#Calculate the mean and variance of the revenue per plan\n",
    "revenue_stats = final_data.groupby('plan')['monthly_revenue'].agg(['mean', 'var']).reset_index()\n",
    "revenue_stats.columns = ['plan', 'mean_revenue', 'var_revenue']\n",
    "\n",
    "#Display the statistics\n",
    "revenue_stats"
   ]
  },
  {
   "cell_type": "code",
   "execution_count": 39,
   "metadata": {},
   "outputs": [
    {
     "data": {
      "image/png": "[encoded data removed]",
      "text/plain": [
       "<Figure size 1000x600 with 1 Axes>"
      ]
     },
     "metadata": {},
     "output_type": "display_data"
    }
   ],
   "source": [
    "# Plotting the average revenue per month by plan\n",
    "plt.figure(figsize=(10, 6))\n",
    "for plan in final_data['plan'].unique():\n",
    "    monthly_revenue_data = final_data[final_data['plan'] == plan].groupby('month')['monthly_revenue'].mean()\n",
    "    plt.plot(monthly_revenue_data.index, monthly_revenue_data, marker='o', label=plan)\n",
    "\n",
    "plt.title('Average Revenue Per Month by Plan')\n",
    "plt.xlabel('Month')\n",
    "plt.ylabel('Average Revenue (USD)')\n",
    "plt.xticks(monthly_revenue_data.index)\n",
    "plt.legend(title='Plan')\n",
    "plt.grid()\n",
    "plt.show()"
   ]
  },
  {
   "cell_type": "markdown",
   "metadata": {},
   "source": [
    "Conclusions on Revenue Behavior\n",
    "Comparison of Revenue: After calculating the statistics and visualizing the data, you can draw conclusions about the differences in revenue between the Surf and Ultimate plans.\n",
    "\n",
    "Mean Revenue: If the mean revenue for one plan is significantly higher than the other, this may indicate that users of that plan tend to consume more services (calls, messages, data), or they find more value in the offerings.\n",
    "\n",
    "Variance in Revenue: A higher variance in revenue for one plan may suggest that the user base is less homogeneous in terms of consumption behavior—some users are heavy users while others are not, which could suggest different user needs and satisfaction levels.\n",
    "\n",
    "Monthly Revenue Trends: If one plan consistently shows higher revenue month-over-month, this could indicate a growing user base or increased service usage"
   ]
  },
  {
   "cell_type": "markdown",
   "metadata": {},
   "source": [
    "<div class=\"alert alert-success\">\n",
    "<b>Reviewer's comment v3:</b>\n",
    "    \n",
    "I will write overall thoughts about the data analysis section:\n",
    "- Very nice visualization of the data. It's great that you combined both plans in one graph for comparison and also used different graph types to check the available data.\n",
    "- If you have time and are willing to practice, you can display two charts (a histogram and a boxplot) using a two-column subplot.\n",
    "\n",
    "```\n",
    "    # Create one row with 2 columns\n",
    "\t  fig, axes = plt.subplots(1, 2, figsize=(16, 5))\n",
    "\n",
    "\t  # Create a histogram for the surf plan\n",
    "\t  sns.distplot(... ax=axes[0])\n",
    "\t  # Create a histogram for the second plan\n",
    "\t  sns.distplot(... ax=axes[0])\n",
    "\t\n",
    "\t  # Create a boxplot for both plans\n",
    "\t  sns.boxplot(... ax=axes[1])\n",
    "```"
   ]
  },
  {
   "cell_type": "markdown",
   "metadata": {},
   "source": [
    "[Formulate conclusions about how the revenue differs between the plans.]"
   ]
  },
  {
   "cell_type": "markdown",
   "metadata": {},
   "source": [
    " "
   ]
  },
  {
   "cell_type": "markdown",
   "metadata": {},
   "source": [
    "## Test statistical hypotheses"
   ]
  },
  {
   "cell_type": "markdown",
   "metadata": {},
   "source": [
    "[Test the hypothesis that the average revenue from users of the Ultimate and Surf calling plans differs.]"
   ]
  },
  {
   "cell_type": "markdown",
   "metadata": {},
   "source": [
    "[Formulate the null and the alternative hypotheses, choose the statistical test, decide on the alpha value.]"
   ]
  },
  {
   "cell_type": "markdown",
   "metadata": {},
   "source": [
    "Null Hypothesis (H0): The average revenue from users of the Ultimate and Surf calling plans are the same.\n",
    "\n",
    "Alternative Hypothesis (H1): The average revenue from users of the Ultimate and Surf calling plans are not the same."
   ]
  },
  {
   "cell_type": "markdown",
   "metadata": {},
   "source": [
    "<div class=\"alert alert-danger\">\n",
    "<b>Reviewer's comment v2:</b>\n",
    "\n",
    "Сould you please formulate a null hypothesis and an alternative hypothesis for each question before actual testing in the markdown box: \n",
    "    \n",
    "   H0:\n",
    "    \n",
    "   H1:"
   ]
  },
  {
   "cell_type": "code",
   "execution_count": 40,
   "metadata": {},
   "outputs": [
    {
     "name": "stdout",
     "output_type": "stream",
     "text": [
      "T-statistic: 5.568949166552807, P-value: 2.862674510698644e-08\n",
      "Reject the null hypothesis: There is a significant difference in average revenue between the plans.\n"
     ]
    }
   ],
   "source": [
    "# Test the hypotheses\n",
    "\n",
    "from scipy import stats\n",
    "\n",
    "# Extract revenue data for both plans\n",
    "ultimate_revenue = final_data[final_data['plan'] == 'ultimate']['monthly_revenue']\n",
    "surf_revenue = final_data[final_data['plan'] == 'surf']['monthly_revenue']\n",
    "\n",
    "# Conducting the t-test\n",
    "t_stat, p_value = stats.ttest_ind(ultimate_revenue, surf_revenue)\n",
    "\n",
    "# Print results\n",
    "print(f\"T-statistic: {t_stat}, P-value: {p_value}\")\n",
    "\n",
    "# Determine if we reject or fail to reject the null hypothesis\n",
    "if p_value < 0.05:\n",
    "    print(\"Reject the null hypothesis: There is a significant difference in average revenue between the plans.\")\n",
    "else:\n",
    "    print(\"Fail to reject the null hypothesis: There is no significant difference in average revenue between the plans.\")\n"
   ]
  },
  {
   "cell_type": "markdown",
   "metadata": {},
   "source": [
    "The t-test results show a T-statistic of 5.57 and a P-value of 2.86e-08. Since the p-value is significantly lower than 0.05, we reject the null hypothesis, concluding that there is a significant difference in average revenue between the Ultimate and Surf plans."
   ]
  },
  {
   "cell_type": "markdown",
   "metadata": {},
   "source": [
    "<div class=\"alert alert-danger\">\n",
    "<b>Reviewer's comment v2:</b>\n",
    "\n",
    "NaN value in the p-value usually mean there is smth wrong with the datasets. In this case as data filtering is case sensitive `final_data['plan'] == 'Ultimate']` this will result empty dataframe. \n",
    "    \n",
    "Could you please check that? "
   ]
  },
  {
   "cell_type": "markdown",
   "metadata": {},
   "source": [
    "[Test the hypothesis that the average revenue from users in the NY-NJ area is different from that of the users from the other regions.]"
   ]
  },
  {
   "cell_type": "markdown",
   "metadata": {},
   "source": [
    "[Formulate the null and the alternative hypotheses, choose the statistical test, decide on the alpha value.]"
   ]
  },
  {
   "cell_type": "markdown",
   "metadata": {},
   "source": [
    "Null Hypothesis (H0): The average revenue from users of the NY-NJ area calling plans are the same as other areas.\n",
    "\n",
    "Alternative Hypothesis (H1): The average revenue from users of the NY-NJ area calling plans are not the same as other areas."
   ]
  },
  {
   "cell_type": "code",
   "execution_count": 41,
   "metadata": {},
   "outputs": [
    {
     "name": "stdout",
     "output_type": "stream",
     "text": [
      "T-statistic: -2.0194429818968076, P-value: 0.04355743162134274\n",
      "Reject the null hypothesis: There is a significant difference in average revenue between the plans.\n"
     ]
    }
   ],
   "source": [
    "ny_nj_revenue = final_data[final_data['city'].str.contains('NY-NJ')]['monthly_revenue']\n",
    "others_revenue = final_data[~final_data['city'].str.contains('NY-NJ')]['monthly_revenue']\n",
    "\n",
    "# Conducting the t-test\n",
    "t_stat, p_value = stats.ttest_ind(ny_nj_revenue, others_revenue)\n",
    "\n",
    "# Print results\n",
    "print(f\"T-statistic: {t_stat}, P-value: {p_value}\")\n",
    "\n",
    "# Determine if we reject or fail to reject the null hypothesis\n",
    "if p_value < 0.05:\n",
    "    print(\"Reject the null hypothesis: There is a significant difference in average revenue between the plans.\")\n",
    "else:\n",
    "    print(\"Fail to reject the null hypothesis: There is no significant difference in average revenue between the plans.\")"
   ]
  },
  {
   "cell_type": "markdown",
   "metadata": {},
   "source": [
    "Conclusion:\n",
    "The t-test results show a T-statistic of -2.02 and a P-value of 0.044. Since the p-value is less than 0.05, we reject the null hypothesis, concluding that there is a significant difference in average revenue between users in the NY-NJ area and users from other regions."
   ]
  },
  {
   "cell_type": "markdown",
   "metadata": {},
   "source": [
    "<div class=\"alert alert-danger\">\n",
    "<b>Reviewer's comment v2:</b>\n",
    "\n",
    "For this task first you need to add `city` column from the `users_df` dataframe in this line of code: \n",
    "```\n",
    "final_data = aggregated_data.merge(users_df[['user_id', 'plan']], on='user_id', how='left')\n",
    "```\n",
    "    \n",
    "After that you can filter city using `str.contains`:\n",
    "    \n",
    "```\n",
    "monthly_info[monthly_info['city'].str.contains(\"NY-NJ\")]['monthly_revenue']\n",
    "```"
   ]
  },
  {
   "cell_type": "markdown",
   "metadata": {},
   "source": [
    "<div class=\"alert alert-success\">\n",
    "<b>Reviewer's comment v3:</b>\n",
    "    \n",
    "- Everything is correct here. Hypotheses have been formulated correctly. \n",
    "- Your conclusions based on the results are also correct.\n",
    "- You can also additionally compare the variances of the samples before testing hypotheses in order to understand with which equal_var parameter to use the ttest_ind test method (by default, True). Here you can manually calculate variances, or use Levene's statistic test (https://docs.scipy.org/doc/scipy/reference/generated/scipy.stats.levene.html) or Barlett's test (https: //docs.scipy .org / doc / scipy / reference / generated / scipy.stats.bartlett.html # scipy.stats.bartlett)\n",
    "    "
   ]
  },
  {
   "cell_type": "markdown",
   "metadata": {},
   "source": [
    "## General conclusion\n",
    "\n",
    "[List your important conclusions in this final section, make sure they cover all those important decisions (assumptions) that you've made and that led you to the way you processed and analyzed the data.]"
   ]
  },
  {
   "cell_type": "markdown",
   "metadata": {},
   "source": [
    "### General Conclusion:\n",
    "\n",
    "This research was conducted to compare the performance of two prepaid plans, **Surf** and **Ultimate**, and assess whether the average revenue from users differs between the **NY-NJ** region and other regions. The findings of this analysis provide key insights to help the commercial department make informed decisions.\n",
    "\n",
    "1. **Data Processing and Assumptions:**\n",
    "   - We cleaned and prepared the dataset by addressing missing values, ensuring accurate date formats, and aggregating data per user per period. This process helped streamline the analysis and allowed for easier interpretation of results.\n",
    "   - We created necessary features, such as monthly revenue, the number of calls, and internet data used, to understand user behavior and plan performance better.\n",
    "\n",
    "2. **Revenue Comparison Between Plans:**\n",
    "   - **Hypotheses:**\n",
    "     - **H0:** The average revenue from users of the Ultimate and Surf calling plans is the same.\n",
    "     - **H1:** The average revenue from users of the Ultimate and Surf calling plans is different.\n",
    "   - **Results:**\n",
    "     - A t-test revealed a **significant difference in average revenue** between the Surf and Ultimate plans. With a **p-value of 2.86e-08**, we rejected the null hypothesis, indicating that the **Ultimate plan generates higher average revenue** than the Surf plan.\n",
    "   - **Business Insight:** Users on the Ultimate plan contribute more revenue on average, making it a more profitable plan. However, further analysis could focus on whether this higher revenue is driven by higher service usage or additional plan costs.\n",
    "\n",
    "3. **Revenue Comparison by Region:**\n",
    "   - **Hypotheses:**\n",
    "     - **H0:** The average revenue from users in the NY-NJ area is the same as other regions.\n",
    "     - **H1:** The average revenue from users in the NY-NJ area is different from other regions.\n",
    "   - **Results:**\n",
    "     - The analysis found a **significant difference in revenue** between users in the NY-NJ area and other regions, with a **p-value of 0.044**. This suggests that users in the NY-NJ area generate more or less revenue compared to other regions, and this regional difference should be considered when setting advertising and pricing strategies.\n",
    "   - **Business Insight:** Regional differences in user revenue provide valuable information for targeted marketing strategies. The NY-NJ region requires special attention, as revenue patterns here differ from other regions, potentially due to market factors or user demographics.\n",
    "\n",
    "4. **Plan Profitability and User Behavior:**\n",
    "   - **Ultimate Plan Users:**\n",
    "     - Users on the Ultimate plan tend to use more services (calls, data, messages), which contributes to higher revenue. This suggests that **heavy service users** are more likely to be on the Ultimate plan.\n",
    "   - **Surf Plan Users:**\n",
    "     - The Surf plan may appeal to **light service users** or those looking for a budget-friendly option. However, these users generate lower revenue on average.\n",
    "\n",
    "5. **Key Takeaways for Business Stakeholders:**\n",
    "   - **Advertising Strategies:** The Ultimate plan appears to be more profitable, making it worthwhile to focus on promoting this plan to users who are likely to consume more services.\n",
    "   - **Regional Differences:** The NY-NJ region shows different revenue patterns, and marketing efforts should be tailored to capitalize on this discrepancy.\n",
    "   - **Revenue Optimization:** Identifying key user segments, such as heavy data or call users, will allow the business to further optimize plan offerings and enhance revenue growth.\n",
    "\n",
    "In summary, the Ultimate plan brings in more revenue compared to the Surf plan, and there are notable regional differences in revenue generation. These insights should guide future marketing strategies, plan adjustments, and customer targeting efforts."
   ]
  },
  {
   "cell_type": "markdown",
   "metadata": {},
   "source": [
    "<div class=\"alert alert-block alert-danger\">\n",
    "<b>Reviewer's comment v2</b>\n",
    " \n",
    "You did great research with clean code, cool graphs, and correct intermediate conclusions. However, general conclusions in this case are a mini-presentation of the entire work in front of a business stakeholder. In a real project, this is probably the only thing that a business stakeholder will read. Therefore, it is necessary to indicate detailed comments in a structured way for all the conclusions that you received on each item of the work. It is also worth considering what will be interesting from the business stakeholder's perspective, such as a detailed description of the user for each plan,  who brings more additional revenue, and who brings more in total."
   ]
  },
  {
   "cell_type": "markdown",
   "metadata": {},
   "source": [
    "<div class=\"alert alert-success\" role=\"alert\">\n",
    "<b>Reviewer's comment v3:</b>\n",
    "\n",
    "Well done! "
   ]
  },
  {
   "cell_type": "code",
   "execution_count": null,
   "metadata": {},
   "outputs": [],
   "source": []
  }
 ],
 "metadata": {
  "ExecuteTimeLog": [
   {
    "duration": 828,
    "start_time": "2021-11-16T09:21:11.304Z"
   },
   {
    "duration": 893,
    "start_time": "2021-11-16T09:21:17.728Z"
   },
   {
    "duration": 1150,
    "start_time": "2021-11-16T09:21:29.568Z"
   },
   {
    "duration": 3,
    "start_time": "2021-11-16T09:24:14.495Z"
   },
   {
    "duration": 120,
    "start_time": "2021-11-16T09:24:46.630Z"
   },
   {
    "duration": 3,
    "start_time": "2021-11-16T09:28:27.882Z"
   },
   {
    "duration": 4,
    "start_time": "2021-11-16T09:29:54.281Z"
   },
   {
    "duration": 3,
    "start_time": "2021-11-16T09:30:45.936Z"
   },
   {
    "duration": 4,
    "start_time": "2021-11-16T09:31:06.300Z"
   },
   {
    "duration": 113,
    "start_time": "2021-11-16T09:31:37.208Z"
   },
   {
    "duration": 143,
    "start_time": "2021-11-16T09:31:48.656Z"
   },
   {
    "duration": 98,
    "start_time": "2021-11-16T09:31:55.678Z"
   },
   {
    "duration": 3,
    "start_time": "2021-11-16T09:32:08.535Z"
   },
   {
    "duration": 111,
    "start_time": "2021-11-16T09:32:10.120Z"
   },
   {
    "duration": 3,
    "start_time": "2021-11-16T09:32:15.732Z"
   },
   {
    "duration": 4,
    "start_time": "2021-11-16T09:32:29.423Z"
   },
   {
    "duration": 3,
    "start_time": "2021-11-16T10:03:03.074Z"
   },
   {
    "duration": 3,
    "start_time": "2021-11-16T10:10:01.288Z"
   },
   {
    "duration": 3,
    "start_time": "2021-11-16T10:10:46.923Z"
   },
   {
    "duration": 121,
    "start_time": "2021-11-16T10:37:46.494Z"
   },
   {
    "duration": 125,
    "start_time": "2021-11-16T10:38:20.632Z"
   },
   {
    "duration": 112,
    "start_time": "2021-11-16T10:46:53.001Z"
   },
   {
    "duration": 110,
    "start_time": "2021-11-16T10:48:25.775Z"
   },
   {
    "duration": 3,
    "start_time": "2021-11-16T10:50:18.720Z"
   },
   {
    "duration": 4,
    "start_time": "2021-11-16T10:50:37.649Z"
   },
   {
    "duration": 2,
    "start_time": "2021-11-16T10:50:51.884Z"
   },
   {
    "duration": 3,
    "start_time": "2021-11-16T10:51:56.237Z"
   },
   {
    "duration": 101,
    "start_time": "2021-11-16T10:53:13.791Z"
   },
   {
    "duration": 3,
    "start_time": "2021-11-16T10:55:59.186Z"
   },
   {
    "duration": 3,
    "start_time": "2021-11-16T10:56:10.751Z"
   },
   {
    "duration": 3,
    "start_time": "2021-11-16T10:56:49.038Z"
   },
   {
    "duration": 3,
    "start_time": "2021-11-16T10:56:49.174Z"
   },
   {
    "duration": 4,
    "start_time": "2021-11-16T10:56:49.414Z"
   },
   {
    "duration": 3,
    "start_time": "2021-11-16T10:56:49.680Z"
   },
   {
    "duration": 3,
    "start_time": "2021-11-16T10:56:50.370Z"
   },
   {
    "duration": 114,
    "start_time": "2021-11-16T10:59:34.518Z"
   },
   {
    "duration": 3,
    "start_time": "2021-11-16T11:01:41.201Z"
   },
   {
    "duration": 116,
    "start_time": "2021-11-16T11:01:48.754Z"
   },
   {
    "duration": 3,
    "start_time": "2021-11-16T11:02:16.685Z"
   },
   {
    "duration": 3,
    "start_time": "2021-11-16T11:02:19.479Z"
   },
   {
    "duration": 3,
    "start_time": "2021-11-16T11:02:47.067Z"
   },
   {
    "duration": 3,
    "start_time": "2021-11-16T11:02:49.353Z"
   },
   {
    "duration": 3,
    "start_time": "2021-11-16T11:03:07.835Z"
   },
   {
    "duration": 3,
    "start_time": "2021-11-16T11:03:07.953Z"
   },
   {
    "duration": 112,
    "start_time": "2021-11-16T11:07:52.072Z"
   },
   {
    "duration": 187,
    "start_time": "2021-11-16T11:09:23.468Z"
   },
   {
    "duration": 4,
    "start_time": "2021-11-16T11:10:01.455Z"
   },
   {
    "duration": 3,
    "start_time": "2021-11-16T11:10:05.069Z"
   },
   {
    "duration": 4,
    "start_time": "2021-11-16T11:10:13.376Z"
   },
   {
    "duration": 3,
    "start_time": "2021-11-16T11:10:14.434Z"
   },
   {
    "duration": 3,
    "start_time": "2021-11-16T11:10:22.853Z"
   },
   {
    "duration": 4,
    "start_time": "2021-11-16T11:27:29.279Z"
   },
   {
    "duration": 4,
    "start_time": "2021-11-16T11:29:08.919Z"
   },
   {
    "duration": 118,
    "start_time": "2021-11-16T11:29:46.703Z"
   },
   {
    "duration": 437,
    "start_time": "2021-11-16T11:36:02.181Z"
   },
   {
    "duration": 157,
    "start_time": "2021-11-16T11:36:14.388Z"
   },
   {
    "duration": 207,
    "start_time": "2021-11-16T11:47:15.898Z"
   },
   {
    "duration": 3,
    "start_time": "2021-11-16T11:53:52.092Z"
   },
   {
    "duration": 3,
    "start_time": "2021-11-16T11:53:52.236Z"
   },
   {
    "duration": 3,
    "start_time": "2021-11-16T11:59:12.005Z"
   },
   {
    "duration": 112,
    "start_time": "2021-11-16T12:00:33.446Z"
   },
   {
    "duration": 3,
    "start_time": "2021-11-16T12:02:14.453Z"
   },
   {
    "duration": 3,
    "start_time": "2021-11-16T12:02:39.512Z"
   },
   {
    "duration": 106,
    "start_time": "2021-11-16T12:03:03.460Z"
   },
   {
    "duration": 3,
    "start_time": "2021-11-17T20:37:21.139Z"
   },
   {
    "duration": 3,
    "start_time": "2021-11-17T20:37:22.229Z"
   },
   {
    "duration": 3,
    "start_time": "2021-11-17T20:38:38.806Z"
   },
   {
    "duration": 3,
    "start_time": "2021-11-17T20:38:41.958Z"
   },
   {
    "duration": 3,
    "start_time": "2021-11-17T20:43:46.551Z"
   },
   {
    "duration": 4,
    "start_time": "2021-11-17T20:58:21.835Z"
   },
   {
    "duration": 3,
    "start_time": "2021-11-17T20:59:21.872Z"
   },
   {
    "duration": 4,
    "start_time": "2021-11-17T20:59:45.352Z"
   },
   {
    "duration": 4,
    "start_time": "2021-11-17T20:59:49.646Z"
   },
   {
    "duration": 159,
    "start_time": "2021-11-17T21:02:26.949Z"
   },
   {
    "duration": 3,
    "start_time": "2021-11-17T21:03:53.461Z"
   },
   {
    "duration": 3,
    "start_time": "2021-11-17T21:03:53.694Z"
   },
   {
    "duration": 3,
    "start_time": "2021-11-17T21:05:28.145Z"
   },
   {
    "duration": 116,
    "start_time": "2021-11-17T21:05:57.787Z"
   },
   {
    "duration": 3,
    "start_time": "2021-11-17T21:06:37.993Z"
   },
   {
    "duration": 3,
    "start_time": "2021-11-17T21:06:38.261Z"
   },
   {
    "duration": 3,
    "start_time": "2021-11-17T21:11:54.358Z"
   },
   {
    "duration": 3,
    "start_time": "2021-11-17T21:12:43.846Z"
   },
   {
    "duration": 4,
    "start_time": "2021-11-17T21:13:08.773Z"
   },
   {
    "duration": 3,
    "start_time": "2021-11-17T21:14:44.441Z"
   },
   {
    "duration": 3,
    "start_time": "2021-11-17T21:15:42.059Z"
   },
   {
    "duration": 4,
    "start_time": "2021-11-17T21:15:51.995Z"
   },
   {
    "duration": 3,
    "start_time": "2021-11-17T21:15:53.923Z"
   },
   {
    "duration": 3,
    "start_time": "2021-11-17T21:15:55.282Z"
   },
   {
    "duration": 3,
    "start_time": "2021-11-17T21:16:28.492Z"
   },
   {
    "duration": 3,
    "start_time": "2021-11-17T21:16:32.603Z"
   },
   {
    "duration": 3,
    "start_time": "2021-11-17T21:17:06.941Z"
   },
   {
    "duration": 98,
    "start_time": "2021-11-17T21:18:05.733Z"
   },
   {
    "duration": 4,
    "start_time": "2021-11-17T21:21:35.255Z"
   },
   {
    "duration": 3,
    "start_time": "2021-11-17T21:21:37.804Z"
   },
   {
    "duration": 4,
    "start_time": "2021-11-17T21:23:06.071Z"
   },
   {
    "duration": 3,
    "start_time": "2021-11-17T21:23:24.799Z"
   },
   {
    "duration": 3,
    "start_time": "2021-11-17T21:23:32.591Z"
   },
   {
    "duration": 98,
    "start_time": "2021-11-17T21:28:31.559Z"
   },
   {
    "duration": 3,
    "start_time": "2021-11-17T21:28:45.448Z"
   },
   {
    "duration": 3,
    "start_time": "2021-11-17T21:29:17.303Z"
   },
   {
    "duration": 3,
    "start_time": "2021-11-17T21:29:29.617Z"
   },
   {
    "duration": 3,
    "start_time": "2021-11-17T21:29:32.681Z"
   },
   {
    "duration": 3,
    "start_time": "2021-11-17T21:36:11.474Z"
   },
   {
    "duration": 3,
    "start_time": "2021-11-17T21:36:14.791Z"
   },
   {
    "duration": 3,
    "start_time": "2021-11-17T21:36:53.943Z"
   },
   {
    "duration": 3,
    "start_time": "2021-11-17T21:36:56.165Z"
   },
   {
    "duration": 4,
    "start_time": "2021-11-17T21:37:16.590Z"
   },
   {
    "duration": 3,
    "start_time": "2021-11-17T21:37:22.702Z"
   },
   {
    "duration": 4,
    "start_time": "2021-11-17T21:38:03.479Z"
   },
   {
    "duration": 3,
    "start_time": "2021-11-17T21:38:08.601Z"
   },
   {
    "duration": 3,
    "start_time": "2021-11-17T21:38:12.928Z"
   },
   {
    "duration": 3,
    "start_time": "2021-11-17T21:38:48.896Z"
   },
   {
    "duration": 2,
    "start_time": "2021-11-17T21:38:49.171Z"
   },
   {
    "duration": 4,
    "start_time": "2021-11-17T21:39:57.889Z"
   },
   {
    "duration": 3,
    "start_time": "2021-11-17T21:39:58.057Z"
   },
   {
    "duration": 3,
    "start_time": "2021-11-17T21:41:20.108Z"
   },
   {
    "duration": 3,
    "start_time": "2021-11-17T21:41:20.629Z"
   },
   {
    "duration": 3,
    "start_time": "2021-11-17T21:42:49.136Z"
   },
   {
    "duration": 3,
    "start_time": "2021-11-17T21:43:15.137Z"
   },
   {
    "duration": 4,
    "start_time": "2021-11-17T21:43:16.766Z"
   },
   {
    "duration": 4,
    "start_time": "2021-11-17T21:43:31.711Z"
   },
   {
    "duration": 3,
    "start_time": "2021-11-17T21:43:36.312Z"
   },
   {
    "duration": 4,
    "start_time": "2021-11-17T21:45:08.825Z"
   },
   {
    "duration": 4,
    "start_time": "2021-11-17T21:45:10.119Z"
   },
   {
    "duration": 4,
    "start_time": "2021-11-17T21:45:13.748Z"
   },
   {
    "duration": 3,
    "start_time": "2021-11-17T21:45:22.219Z"
   },
   {
    "duration": 3,
    "start_time": "2021-11-17T21:45:33.412Z"
   },
   {
    "duration": 2,
    "start_time": "2021-11-17T21:46:01.885Z"
   },
   {
    "duration": 3,
    "start_time": "2021-11-17T21:46:03.628Z"
   },
   {
    "duration": 107,
    "start_time": "2021-11-17T21:47:32.512Z"
   },
   {
    "duration": 103,
    "start_time": "2021-11-17T21:50:36.243Z"
   },
   {
    "duration": 3,
    "start_time": "2021-11-18T06:28:31.440Z"
   },
   {
    "duration": 3,
    "start_time": "2021-11-18T06:29:00.168Z"
   },
   {
    "duration": 3,
    "start_time": "2021-11-18T06:31:27.008Z"
   },
   {
    "duration": 2,
    "start_time": "2021-11-18T06:35:34.288Z"
   },
   {
    "duration": 2,
    "start_time": "2021-11-18T06:38:04.527Z"
   },
   {
    "duration": 164,
    "start_time": "2024-10-08T17:01:20.299Z"
   },
   {
    "duration": 600,
    "start_time": "2024-10-08T17:01:28.531Z"
   },
   {
    "duration": 156,
    "start_time": "2024-10-08T17:01:51.782Z"
   },
   {
    "duration": 239,
    "start_time": "2024-10-08T17:01:56.613Z"
   },
   {
    "duration": 675,
    "start_time": "2024-10-08T17:02:17.416Z"
   },
   {
    "duration": 159,
    "start_time": "2024-10-08T17:02:18.094Z"
   },
   {
    "duration": 3,
    "start_time": "2024-10-08T17:02:18.254Z"
   },
   {
    "duration": 3,
    "start_time": "2024-10-08T17:02:18.259Z"
   },
   {
    "duration": 3,
    "start_time": "2024-10-08T17:02:18.264Z"
   },
   {
    "duration": 3,
    "start_time": "2024-10-08T17:02:18.269Z"
   },
   {
    "duration": 3,
    "start_time": "2024-10-08T17:02:18.273Z"
   },
   {
    "duration": 2,
    "start_time": "2024-10-08T17:02:18.278Z"
   },
   {
    "duration": 2,
    "start_time": "2024-10-08T17:02:18.282Z"
   },
   {
    "duration": 3,
    "start_time": "2024-10-08T17:02:18.312Z"
   },
   {
    "duration": 3,
    "start_time": "2024-10-08T17:02:18.317Z"
   },
   {
    "duration": 3,
    "start_time": "2024-10-08T17:02:18.321Z"
   },
   {
    "duration": 3,
    "start_time": "2024-10-08T17:02:18.326Z"
   },
   {
    "duration": 4,
    "start_time": "2024-10-08T17:02:18.331Z"
   },
   {
    "duration": 3,
    "start_time": "2024-10-08T17:02:18.336Z"
   },
   {
    "duration": 3,
    "start_time": "2024-10-08T17:02:18.340Z"
   },
   {
    "duration": 3,
    "start_time": "2024-10-08T17:02:18.344Z"
   },
   {
    "duration": 4,
    "start_time": "2024-10-08T17:02:18.348Z"
   },
   {
    "duration": 2,
    "start_time": "2024-10-08T17:02:18.354Z"
   },
   {
    "duration": 3,
    "start_time": "2024-10-08T17:02:18.357Z"
   },
   {
    "duration": 2,
    "start_time": "2024-10-08T17:02:18.408Z"
   },
   {
    "duration": 3,
    "start_time": "2024-10-08T17:02:18.413Z"
   },
   {
    "duration": 3,
    "start_time": "2024-10-08T17:02:18.417Z"
   },
   {
    "duration": 3,
    "start_time": "2024-10-08T17:02:18.422Z"
   },
   {
    "duration": 3,
    "start_time": "2024-10-08T17:02:18.426Z"
   },
   {
    "duration": 2,
    "start_time": "2024-10-08T17:02:18.430Z"
   },
   {
    "duration": 3,
    "start_time": "2024-10-08T17:02:18.434Z"
   },
   {
    "duration": 2,
    "start_time": "2024-10-08T17:02:18.440Z"
   },
   {
    "duration": 273,
    "start_time": "2024-10-08T17:10:37.654Z"
   },
   {
    "duration": 42,
    "start_time": "2024-10-08T17:11:21.866Z"
   },
   {
    "duration": 63,
    "start_time": "2024-10-08T17:24:07.826Z"
   },
   {
    "duration": 585,
    "start_time": "2024-10-08T17:38:53.300Z"
   },
   {
    "duration": 161,
    "start_time": "2024-10-08T17:38:53.888Z"
   },
   {
    "duration": 66,
    "start_time": "2024-10-08T17:38:54.051Z"
   },
   {
    "duration": 12,
    "start_time": "2024-10-08T17:38:54.121Z"
   },
   {
    "duration": 2,
    "start_time": "2024-10-08T17:38:54.135Z"
   },
   {
    "duration": 3,
    "start_time": "2024-10-08T17:38:54.138Z"
   },
   {
    "duration": 3,
    "start_time": "2024-10-08T17:38:54.143Z"
   },
   {
    "duration": 2,
    "start_time": "2024-10-08T17:38:54.148Z"
   },
   {
    "duration": 2,
    "start_time": "2024-10-08T17:38:54.152Z"
   },
   {
    "duration": 2,
    "start_time": "2024-10-08T17:38:54.157Z"
   },
   {
    "duration": 2,
    "start_time": "2024-10-08T17:38:54.161Z"
   },
   {
    "duration": 3,
    "start_time": "2024-10-08T17:38:54.165Z"
   },
   {
    "duration": 3,
    "start_time": "2024-10-08T17:38:54.208Z"
   },
   {
    "duration": 2,
    "start_time": "2024-10-08T17:38:54.213Z"
   },
   {
    "duration": 2,
    "start_time": "2024-10-08T17:38:54.217Z"
   },
   {
    "duration": 3,
    "start_time": "2024-10-08T17:38:54.221Z"
   },
   {
    "duration": 3,
    "start_time": "2024-10-08T17:38:54.225Z"
   },
   {
    "duration": 2,
    "start_time": "2024-10-08T17:38:54.230Z"
   },
   {
    "duration": 3,
    "start_time": "2024-10-08T17:38:54.234Z"
   },
   {
    "duration": 3,
    "start_time": "2024-10-08T17:38:54.238Z"
   },
   {
    "duration": 2,
    "start_time": "2024-10-08T17:38:54.243Z"
   },
   {
    "duration": 3,
    "start_time": "2024-10-08T17:38:54.247Z"
   },
   {
    "duration": 4,
    "start_time": "2024-10-08T17:38:54.251Z"
   },
   {
    "duration": 3,
    "start_time": "2024-10-08T17:38:54.256Z"
   },
   {
    "duration": 2,
    "start_time": "2024-10-08T17:38:54.261Z"
   },
   {
    "duration": 3,
    "start_time": "2024-10-08T17:38:54.309Z"
   },
   {
    "duration": 3,
    "start_time": "2024-10-08T17:38:54.313Z"
   },
   {
    "duration": 1,
    "start_time": "2024-10-08T17:38:54.320Z"
   },
   {
    "duration": 11,
    "start_time": "2024-10-08T17:40:02.965Z"
   },
   {
    "duration": 25,
    "start_time": "2024-10-08T17:40:51.632Z"
   },
   {
    "duration": 8,
    "start_time": "2024-10-08T18:00:14.296Z"
   },
   {
    "duration": 681,
    "start_time": "2024-10-08T18:03:23.325Z"
   },
   {
    "duration": 627,
    "start_time": "2024-10-08T18:04:08.846Z"
   },
   {
    "duration": 164,
    "start_time": "2024-10-08T18:04:09.476Z"
   },
   {
    "duration": 63,
    "start_time": "2024-10-08T18:04:09.642Z"
   },
   {
    "duration": 27,
    "start_time": "2024-10-08T18:04:09.710Z"
   },
   {
    "duration": 298,
    "start_time": "2024-10-08T18:04:09.739Z"
   },
   {
    "duration": 0,
    "start_time": "2024-10-08T18:04:10.039Z"
   },
   {
    "duration": 0,
    "start_time": "2024-10-08T18:04:10.041Z"
   },
   {
    "duration": 0,
    "start_time": "2024-10-08T18:04:10.042Z"
   },
   {
    "duration": 0,
    "start_time": "2024-10-08T18:04:10.043Z"
   },
   {
    "duration": 0,
    "start_time": "2024-10-08T18:04:10.043Z"
   },
   {
    "duration": 0,
    "start_time": "2024-10-08T18:04:10.044Z"
   },
   {
    "duration": 0,
    "start_time": "2024-10-08T18:04:10.045Z"
   },
   {
    "duration": 0,
    "start_time": "2024-10-08T18:04:10.047Z"
   },
   {
    "duration": 0,
    "start_time": "2024-10-08T18:04:10.048Z"
   },
   {
    "duration": 0,
    "start_time": "2024-10-08T18:04:10.049Z"
   },
   {
    "duration": 0,
    "start_time": "2024-10-08T18:04:10.050Z"
   },
   {
    "duration": 0,
    "start_time": "2024-10-08T18:04:10.051Z"
   },
   {
    "duration": 0,
    "start_time": "2024-10-08T18:04:10.053Z"
   },
   {
    "duration": 0,
    "start_time": "2024-10-08T18:04:10.055Z"
   },
   {
    "duration": 0,
    "start_time": "2024-10-08T18:04:10.056Z"
   },
   {
    "duration": 0,
    "start_time": "2024-10-08T18:04:10.058Z"
   },
   {
    "duration": 0,
    "start_time": "2024-10-08T18:04:10.059Z"
   },
   {
    "duration": 0,
    "start_time": "2024-10-08T18:04:10.061Z"
   },
   {
    "duration": 0,
    "start_time": "2024-10-08T18:04:10.062Z"
   },
   {
    "duration": 0,
    "start_time": "2024-10-08T18:04:10.064Z"
   },
   {
    "duration": 0,
    "start_time": "2024-10-08T18:04:10.108Z"
   },
   {
    "duration": 0,
    "start_time": "2024-10-08T18:04:10.110Z"
   },
   {
    "duration": 0,
    "start_time": "2024-10-08T18:04:10.111Z"
   },
   {
    "duration": 0,
    "start_time": "2024-10-08T18:04:10.113Z"
   },
   {
    "duration": 26,
    "start_time": "2024-10-08T18:04:33.501Z"
   },
   {
    "duration": 55,
    "start_time": "2024-10-08T18:08:28.183Z"
   },
   {
    "duration": 106,
    "start_time": "2024-10-08T18:17:35.396Z"
   },
   {
    "duration": 72,
    "start_time": "2024-10-08T18:19:25.568Z"
   },
   {
    "duration": 69,
    "start_time": "2024-10-08T18:27:44.310Z"
   },
   {
    "duration": 180,
    "start_time": "2024-10-08T18:43:24.578Z"
   },
   {
    "duration": 574,
    "start_time": "2024-10-08T18:56:32.608Z"
   },
   {
    "duration": 156,
    "start_time": "2024-10-08T18:56:33.184Z"
   },
   {
    "duration": 67,
    "start_time": "2024-10-08T18:56:33.342Z"
   },
   {
    "duration": 29,
    "start_time": "2024-10-08T18:56:33.411Z"
   },
   {
    "duration": 393,
    "start_time": "2024-10-08T18:56:33.441Z"
   },
   {
    "duration": 0,
    "start_time": "2024-10-08T18:56:33.837Z"
   },
   {
    "duration": 0,
    "start_time": "2024-10-08T18:56:33.837Z"
   },
   {
    "duration": 0,
    "start_time": "2024-10-08T18:56:33.838Z"
   },
   {
    "duration": 0,
    "start_time": "2024-10-08T18:56:33.839Z"
   },
   {
    "duration": 0,
    "start_time": "2024-10-08T18:56:33.840Z"
   },
   {
    "duration": 0,
    "start_time": "2024-10-08T18:56:33.841Z"
   },
   {
    "duration": 0,
    "start_time": "2024-10-08T18:56:33.842Z"
   },
   {
    "duration": 0,
    "start_time": "2024-10-08T18:56:33.843Z"
   },
   {
    "duration": 0,
    "start_time": "2024-10-08T18:56:33.844Z"
   },
   {
    "duration": 0,
    "start_time": "2024-10-08T18:56:33.845Z"
   },
   {
    "duration": 0,
    "start_time": "2024-10-08T18:56:33.846Z"
   },
   {
    "duration": 0,
    "start_time": "2024-10-08T18:56:33.847Z"
   },
   {
    "duration": 0,
    "start_time": "2024-10-08T18:56:33.848Z"
   },
   {
    "duration": 0,
    "start_time": "2024-10-08T18:56:33.849Z"
   },
   {
    "duration": 0,
    "start_time": "2024-10-08T18:56:33.850Z"
   },
   {
    "duration": 0,
    "start_time": "2024-10-08T18:56:33.851Z"
   },
   {
    "duration": 0,
    "start_time": "2024-10-08T18:56:33.853Z"
   },
   {
    "duration": 0,
    "start_time": "2024-10-08T18:56:33.854Z"
   },
   {
    "duration": 0,
    "start_time": "2024-10-08T18:56:33.856Z"
   },
   {
    "duration": 0,
    "start_time": "2024-10-08T18:56:33.858Z"
   },
   {
    "duration": 0,
    "start_time": "2024-10-08T18:56:33.859Z"
   },
   {
    "duration": 0,
    "start_time": "2024-10-08T18:56:33.863Z"
   },
   {
    "duration": 0,
    "start_time": "2024-10-08T18:56:33.908Z"
   },
   {
    "duration": 0,
    "start_time": "2024-10-08T18:56:33.909Z"
   },
   {
    "duration": 585,
    "start_time": "2024-10-08T19:08:10.989Z"
   },
   {
    "duration": 158,
    "start_time": "2024-10-08T19:08:11.576Z"
   },
   {
    "duration": 64,
    "start_time": "2024-10-08T19:08:11.735Z"
   },
   {
    "duration": 31,
    "start_time": "2024-10-08T19:08:11.801Z"
   },
   {
    "duration": 396,
    "start_time": "2024-10-08T19:08:11.834Z"
   },
   {
    "duration": 0,
    "start_time": "2024-10-08T19:08:12.233Z"
   },
   {
    "duration": 0,
    "start_time": "2024-10-08T19:08:12.234Z"
   },
   {
    "duration": 0,
    "start_time": "2024-10-08T19:08:12.236Z"
   },
   {
    "duration": 0,
    "start_time": "2024-10-08T19:08:12.238Z"
   },
   {
    "duration": 0,
    "start_time": "2024-10-08T19:08:12.239Z"
   },
   {
    "duration": 0,
    "start_time": "2024-10-08T19:08:12.240Z"
   },
   {
    "duration": 0,
    "start_time": "2024-10-08T19:08:12.241Z"
   },
   {
    "duration": 0,
    "start_time": "2024-10-08T19:08:12.242Z"
   },
   {
    "duration": 0,
    "start_time": "2024-10-08T19:08:12.243Z"
   },
   {
    "duration": 0,
    "start_time": "2024-10-08T19:08:12.244Z"
   },
   {
    "duration": 0,
    "start_time": "2024-10-08T19:08:12.245Z"
   },
   {
    "duration": 0,
    "start_time": "2024-10-08T19:08:12.247Z"
   },
   {
    "duration": 0,
    "start_time": "2024-10-08T19:08:12.248Z"
   },
   {
    "duration": 0,
    "start_time": "2024-10-08T19:08:12.249Z"
   },
   {
    "duration": 0,
    "start_time": "2024-10-08T19:08:12.251Z"
   },
   {
    "duration": 0,
    "start_time": "2024-10-08T19:08:12.252Z"
   },
   {
    "duration": 0,
    "start_time": "2024-10-08T19:08:12.253Z"
   },
   {
    "duration": 0,
    "start_time": "2024-10-08T19:08:12.254Z"
   },
   {
    "duration": 0,
    "start_time": "2024-10-08T19:08:12.255Z"
   },
   {
    "duration": 0,
    "start_time": "2024-10-08T19:08:12.256Z"
   },
   {
    "duration": 0,
    "start_time": "2024-10-08T19:08:12.257Z"
   },
   {
    "duration": 0,
    "start_time": "2024-10-08T19:08:12.258Z"
   },
   {
    "duration": 0,
    "start_time": "2024-10-08T19:08:12.259Z"
   },
   {
    "duration": 0,
    "start_time": "2024-10-08T19:08:12.261Z"
   },
   {
    "duration": 654,
    "start_time": "2024-10-08T19:09:26.848Z"
   },
   {
    "duration": 161,
    "start_time": "2024-10-08T19:09:27.505Z"
   },
   {
    "duration": 72,
    "start_time": "2024-10-08T19:09:27.667Z"
   },
   {
    "duration": 29,
    "start_time": "2024-10-08T19:09:27.741Z"
   },
   {
    "duration": 434,
    "start_time": "2024-10-08T19:09:27.772Z"
   },
   {
    "duration": 0,
    "start_time": "2024-10-08T19:09:28.210Z"
   },
   {
    "duration": 0,
    "start_time": "2024-10-08T19:09:28.212Z"
   },
   {
    "duration": 0,
    "start_time": "2024-10-08T19:09:28.213Z"
   },
   {
    "duration": 0,
    "start_time": "2024-10-08T19:09:28.214Z"
   },
   {
    "duration": 0,
    "start_time": "2024-10-08T19:09:28.214Z"
   },
   {
    "duration": 0,
    "start_time": "2024-10-08T19:09:28.216Z"
   },
   {
    "duration": 0,
    "start_time": "2024-10-08T19:09:28.217Z"
   },
   {
    "duration": 0,
    "start_time": "2024-10-08T19:09:28.218Z"
   },
   {
    "duration": 0,
    "start_time": "2024-10-08T19:09:28.219Z"
   },
   {
    "duration": 0,
    "start_time": "2024-10-08T19:09:28.220Z"
   },
   {
    "duration": 0,
    "start_time": "2024-10-08T19:09:28.221Z"
   },
   {
    "duration": 0,
    "start_time": "2024-10-08T19:09:28.222Z"
   },
   {
    "duration": 0,
    "start_time": "2024-10-08T19:09:28.223Z"
   },
   {
    "duration": 0,
    "start_time": "2024-10-08T19:09:28.224Z"
   },
   {
    "duration": 0,
    "start_time": "2024-10-08T19:09:28.225Z"
   },
   {
    "duration": 0,
    "start_time": "2024-10-08T19:09:28.229Z"
   },
   {
    "duration": 0,
    "start_time": "2024-10-08T19:09:28.230Z"
   },
   {
    "duration": 0,
    "start_time": "2024-10-08T19:09:28.231Z"
   },
   {
    "duration": 0,
    "start_time": "2024-10-08T19:09:28.232Z"
   },
   {
    "duration": 0,
    "start_time": "2024-10-08T19:09:28.233Z"
   },
   {
    "duration": 0,
    "start_time": "2024-10-08T19:09:28.234Z"
   },
   {
    "duration": 0,
    "start_time": "2024-10-08T19:09:28.235Z"
   },
   {
    "duration": 0,
    "start_time": "2024-10-08T19:09:28.236Z"
   },
   {
    "duration": 0,
    "start_time": "2024-10-08T19:09:28.237Z"
   },
   {
    "duration": 213,
    "start_time": "2024-10-08T19:14:51.310Z"
   },
   {
    "duration": 602,
    "start_time": "2024-10-08T19:15:17.653Z"
   },
   {
    "duration": 284,
    "start_time": "2024-10-08T19:15:55.219Z"
   },
   {
    "duration": 629,
    "start_time": "2024-10-08T19:16:10.166Z"
   },
   {
    "duration": 159,
    "start_time": "2024-10-08T19:16:10.797Z"
   },
   {
    "duration": 66,
    "start_time": "2024-10-08T19:16:10.958Z"
   },
   {
    "duration": 27,
    "start_time": "2024-10-08T19:16:11.026Z"
   },
   {
    "duration": 248,
    "start_time": "2024-10-08T19:16:11.056Z"
   },
   {
    "duration": 2,
    "start_time": "2024-10-08T19:16:11.310Z"
   },
   {
    "duration": 2,
    "start_time": "2024-10-08T19:16:11.314Z"
   },
   {
    "duration": 1,
    "start_time": "2024-10-08T19:16:11.319Z"
   },
   {
    "duration": 2,
    "start_time": "2024-10-08T19:16:11.323Z"
   },
   {
    "duration": 2,
    "start_time": "2024-10-08T19:16:11.327Z"
   },
   {
    "duration": 3,
    "start_time": "2024-10-08T19:16:11.330Z"
   },
   {
    "duration": 2,
    "start_time": "2024-10-08T19:16:11.334Z"
   },
   {
    "duration": 2,
    "start_time": "2024-10-08T19:16:11.338Z"
   },
   {
    "duration": 2,
    "start_time": "2024-10-08T19:16:11.344Z"
   },
   {
    "duration": 2,
    "start_time": "2024-10-08T19:16:11.348Z"
   },
   {
    "duration": 2,
    "start_time": "2024-10-08T19:16:11.352Z"
   },
   {
    "duration": 54,
    "start_time": "2024-10-08T19:16:11.356Z"
   },
   {
    "duration": 2,
    "start_time": "2024-10-08T19:16:11.412Z"
   },
   {
    "duration": 2,
    "start_time": "2024-10-08T19:16:11.416Z"
   },
   {
    "duration": 2,
    "start_time": "2024-10-08T19:16:11.420Z"
   },
   {
    "duration": 2,
    "start_time": "2024-10-08T19:16:11.424Z"
   },
   {
    "duration": 3,
    "start_time": "2024-10-08T19:16:11.427Z"
   },
   {
    "duration": 2,
    "start_time": "2024-10-08T19:16:11.432Z"
   },
   {
    "duration": 2,
    "start_time": "2024-10-08T19:16:11.436Z"
   },
   {
    "duration": 3,
    "start_time": "2024-10-08T19:16:11.439Z"
   },
   {
    "duration": 3,
    "start_time": "2024-10-08T19:16:11.443Z"
   },
   {
    "duration": 2,
    "start_time": "2024-10-08T19:16:11.447Z"
   },
   {
    "duration": 2,
    "start_time": "2024-10-08T19:16:11.451Z"
   },
   {
    "duration": 2,
    "start_time": "2024-10-08T19:16:11.455Z"
   },
   {
    "duration": 5,
    "start_time": "2024-10-09T01:52:39.550Z"
   },
   {
    "duration": 7,
    "start_time": "2024-10-09T01:53:01.986Z"
   },
   {
    "duration": 5,
    "start_time": "2024-10-09T01:53:22.201Z"
   },
   {
    "duration": 262,
    "start_time": "2024-10-09T01:55:26.708Z"
   },
   {
    "duration": 9,
    "start_time": "2024-10-09T01:55:51.597Z"
   },
   {
    "duration": 9,
    "start_time": "2024-10-09T01:56:23.998Z"
   },
   {
    "duration": 10,
    "start_time": "2024-10-09T01:56:32.750Z"
   },
   {
    "duration": 4,
    "start_time": "2024-10-09T01:59:30.308Z"
   },
   {
    "duration": 4,
    "start_time": "2024-10-09T02:00:39.506Z"
   },
   {
    "duration": 13,
    "start_time": "2024-10-09T02:00:55.217Z"
   },
   {
    "duration": 10,
    "start_time": "2024-10-09T02:01:18.430Z"
   },
   {
    "duration": 10,
    "start_time": "2024-10-09T02:04:11.503Z"
   },
   {
    "duration": 7,
    "start_time": "2024-10-09T02:04:34.760Z"
   },
   {
    "duration": 7,
    "start_time": "2024-10-09T02:06:09.868Z"
   },
   {
    "duration": 12,
    "start_time": "2024-10-09T02:06:14.901Z"
   },
   {
    "duration": 6,
    "start_time": "2024-10-09T02:07:15.813Z"
   },
   {
    "duration": 8,
    "start_time": "2024-10-09T02:09:47.539Z"
   },
   {
    "duration": 600,
    "start_time": "2024-10-09T02:23:12.963Z"
   },
   {
    "duration": 160,
    "start_time": "2024-10-09T02:23:13.564Z"
   },
   {
    "duration": 64,
    "start_time": "2024-10-09T02:23:13.726Z"
   },
   {
    "duration": 27,
    "start_time": "2024-10-09T02:23:13.794Z"
   },
   {
    "duration": 85,
    "start_time": "2024-10-09T02:23:13.823Z"
   },
   {
    "duration": 177,
    "start_time": "2024-10-09T02:23:13.910Z"
   },
   {
    "duration": 4,
    "start_time": "2024-10-09T02:23:14.089Z"
   },
   {
    "duration": 0,
    "start_time": "2024-10-09T02:23:14.096Z"
   },
   {
    "duration": 0,
    "start_time": "2024-10-09T02:23:14.098Z"
   },
   {
    "duration": 0,
    "start_time": "2024-10-09T02:23:14.099Z"
   },
   {
    "duration": 0,
    "start_time": "2024-10-09T02:23:14.100Z"
   },
   {
    "duration": 0,
    "start_time": "2024-10-09T02:23:14.102Z"
   },
   {
    "duration": 0,
    "start_time": "2024-10-09T02:23:14.103Z"
   },
   {
    "duration": 0,
    "start_time": "2024-10-09T02:23:14.104Z"
   },
   {
    "duration": 0,
    "start_time": "2024-10-09T02:23:14.105Z"
   },
   {
    "duration": 0,
    "start_time": "2024-10-09T02:23:14.107Z"
   },
   {
    "duration": 0,
    "start_time": "2024-10-09T02:23:14.108Z"
   },
   {
    "duration": 0,
    "start_time": "2024-10-09T02:23:14.109Z"
   },
   {
    "duration": 0,
    "start_time": "2024-10-09T02:23:14.110Z"
   },
   {
    "duration": 0,
    "start_time": "2024-10-09T02:23:14.111Z"
   },
   {
    "duration": 0,
    "start_time": "2024-10-09T02:23:14.112Z"
   },
   {
    "duration": 0,
    "start_time": "2024-10-09T02:23:14.113Z"
   },
   {
    "duration": 0,
    "start_time": "2024-10-09T02:23:14.114Z"
   },
   {
    "duration": 0,
    "start_time": "2024-10-09T02:23:14.115Z"
   },
   {
    "duration": 0,
    "start_time": "2024-10-09T02:23:14.116Z"
   },
   {
    "duration": 0,
    "start_time": "2024-10-09T02:23:14.117Z"
   },
   {
    "duration": 0,
    "start_time": "2024-10-09T02:23:14.118Z"
   },
   {
    "duration": 0,
    "start_time": "2024-10-09T02:23:14.119Z"
   },
   {
    "duration": 0,
    "start_time": "2024-10-09T02:23:14.121Z"
   },
   {
    "duration": 0,
    "start_time": "2024-10-09T02:23:14.122Z"
   },
   {
    "duration": 0,
    "start_time": "2024-10-09T02:23:14.123Z"
   },
   {
    "duration": 0,
    "start_time": "2024-10-09T02:23:14.124Z"
   },
   {
    "duration": 0,
    "start_time": "2024-10-09T02:23:14.127Z"
   },
   {
    "duration": 6,
    "start_time": "2024-10-09T02:34:21.942Z"
   },
   {
    "duration": 9,
    "start_time": "2024-10-09T02:34:39.309Z"
   },
   {
    "duration": 8,
    "start_time": "2024-10-09T02:34:41.409Z"
   },
   {
    "duration": 649,
    "start_time": "2024-10-09T02:34:52.732Z"
   },
   {
    "duration": 157,
    "start_time": "2024-10-09T02:34:53.386Z"
   },
   {
    "duration": 75,
    "start_time": "2024-10-09T02:34:53.544Z"
   },
   {
    "duration": 29,
    "start_time": "2024-10-09T02:34:53.622Z"
   },
   {
    "duration": 81,
    "start_time": "2024-10-09T02:34:53.653Z"
   },
   {
    "duration": 176,
    "start_time": "2024-10-09T02:34:53.736Z"
   },
   {
    "duration": 4,
    "start_time": "2024-10-09T02:34:53.914Z"
   },
   {
    "duration": 0,
    "start_time": "2024-10-09T02:34:53.920Z"
   },
   {
    "duration": 0,
    "start_time": "2024-10-09T02:34:53.922Z"
   },
   {
    "duration": 0,
    "start_time": "2024-10-09T02:34:53.924Z"
   },
   {
    "duration": 0,
    "start_time": "2024-10-09T02:34:53.925Z"
   },
   {
    "duration": 0,
    "start_time": "2024-10-09T02:34:53.926Z"
   },
   {
    "duration": 0,
    "start_time": "2024-10-09T02:34:53.928Z"
   },
   {
    "duration": 0,
    "start_time": "2024-10-09T02:34:53.929Z"
   },
   {
    "duration": 0,
    "start_time": "2024-10-09T02:34:53.930Z"
   },
   {
    "duration": 0,
    "start_time": "2024-10-09T02:34:53.932Z"
   },
   {
    "duration": 0,
    "start_time": "2024-10-09T02:34:53.934Z"
   },
   {
    "duration": 0,
    "start_time": "2024-10-09T02:34:53.935Z"
   },
   {
    "duration": 0,
    "start_time": "2024-10-09T02:34:53.936Z"
   },
   {
    "duration": 0,
    "start_time": "2024-10-09T02:34:53.937Z"
   },
   {
    "duration": 0,
    "start_time": "2024-10-09T02:34:53.938Z"
   },
   {
    "duration": 0,
    "start_time": "2024-10-09T02:34:53.940Z"
   },
   {
    "duration": 0,
    "start_time": "2024-10-09T02:34:53.941Z"
   },
   {
    "duration": 0,
    "start_time": "2024-10-09T02:34:53.944Z"
   },
   {
    "duration": 0,
    "start_time": "2024-10-09T02:34:53.945Z"
   },
   {
    "duration": 0,
    "start_time": "2024-10-09T02:34:53.945Z"
   },
   {
    "duration": 0,
    "start_time": "2024-10-09T02:34:53.986Z"
   },
   {
    "duration": 0,
    "start_time": "2024-10-09T02:34:53.988Z"
   },
   {
    "duration": 0,
    "start_time": "2024-10-09T02:34:53.989Z"
   },
   {
    "duration": 0,
    "start_time": "2024-10-09T02:34:53.990Z"
   },
   {
    "duration": 0,
    "start_time": "2024-10-09T02:34:53.992Z"
   },
   {
    "duration": 0,
    "start_time": "2024-10-09T02:34:53.994Z"
   },
   {
    "duration": 0,
    "start_time": "2024-10-09T02:34:53.996Z"
   },
   {
    "duration": 656,
    "start_time": "2024-10-09T02:35:23.502Z"
   },
   {
    "duration": 158,
    "start_time": "2024-10-09T02:35:24.161Z"
   },
   {
    "duration": 68,
    "start_time": "2024-10-09T02:35:24.320Z"
   },
   {
    "duration": 27,
    "start_time": "2024-10-09T02:35:24.390Z"
   },
   {
    "duration": 79,
    "start_time": "2024-10-09T02:35:24.418Z"
   },
   {
    "duration": 167,
    "start_time": "2024-10-09T02:35:24.500Z"
   },
   {
    "duration": 8,
    "start_time": "2024-10-09T02:35:24.668Z"
   },
   {
    "duration": 8,
    "start_time": "2024-10-09T02:35:24.686Z"
   },
   {
    "duration": 3,
    "start_time": "2024-10-09T02:35:24.696Z"
   },
   {
    "duration": 3,
    "start_time": "2024-10-09T02:35:24.703Z"
   },
   {
    "duration": 12,
    "start_time": "2024-10-09T02:35:24.708Z"
   },
   {
    "duration": 7,
    "start_time": "2024-10-09T02:35:24.721Z"
   },
   {
    "duration": 10,
    "start_time": "2024-10-09T02:35:24.730Z"
   },
   {
    "duration": 47,
    "start_time": "2024-10-09T02:35:24.742Z"
   },
   {
    "duration": 11,
    "start_time": "2024-10-09T02:35:24.791Z"
   },
   {
    "duration": 6,
    "start_time": "2024-10-09T02:35:24.804Z"
   },
   {
    "duration": 7,
    "start_time": "2024-10-09T02:35:24.812Z"
   },
   {
    "duration": 2,
    "start_time": "2024-10-09T02:35:24.822Z"
   },
   {
    "duration": 2,
    "start_time": "2024-10-09T02:35:24.825Z"
   },
   {
    "duration": 3,
    "start_time": "2024-10-09T02:35:24.829Z"
   },
   {
    "duration": 2,
    "start_time": "2024-10-09T02:35:24.834Z"
   },
   {
    "duration": 2,
    "start_time": "2024-10-09T02:35:24.838Z"
   },
   {
    "duration": 47,
    "start_time": "2024-10-09T02:35:24.841Z"
   },
   {
    "duration": 2,
    "start_time": "2024-10-09T02:35:24.890Z"
   },
   {
    "duration": 2,
    "start_time": "2024-10-09T02:35:24.894Z"
   },
   {
    "duration": 2,
    "start_time": "2024-10-09T02:35:24.898Z"
   },
   {
    "duration": 2,
    "start_time": "2024-10-09T02:35:24.902Z"
   },
   {
    "duration": 2,
    "start_time": "2024-10-09T02:35:24.909Z"
   },
   {
    "duration": 2,
    "start_time": "2024-10-09T02:35:24.912Z"
   },
   {
    "duration": 3,
    "start_time": "2024-10-09T02:35:24.916Z"
   },
   {
    "duration": 2,
    "start_time": "2024-10-09T02:35:24.920Z"
   },
   {
    "duration": 2,
    "start_time": "2024-10-09T02:35:24.924Z"
   },
   {
    "duration": 4,
    "start_time": "2024-10-09T02:45:12.148Z"
   },
   {
    "duration": 30,
    "start_time": "2024-10-09T02:45:27.068Z"
   },
   {
    "duration": 36,
    "start_time": "2024-10-09T02:48:07.553Z"
   },
   {
    "duration": 654,
    "start_time": "2024-10-09T04:28:00.141Z"
   },
   {
    "duration": 278,
    "start_time": "2024-10-09T04:28:00.797Z"
   },
   {
    "duration": 64,
    "start_time": "2024-10-09T04:28:01.076Z"
   },
   {
    "duration": 28,
    "start_time": "2024-10-09T04:28:01.142Z"
   },
   {
    "duration": 85,
    "start_time": "2024-10-09T04:28:01.172Z"
   },
   {
    "duration": 169,
    "start_time": "2024-10-09T04:28:01.259Z"
   },
   {
    "duration": 8,
    "start_time": "2024-10-09T04:28:01.430Z"
   },
   {
    "duration": 8,
    "start_time": "2024-10-09T04:28:01.441Z"
   },
   {
    "duration": 3,
    "start_time": "2024-10-09T04:28:01.451Z"
   },
   {
    "duration": 4,
    "start_time": "2024-10-09T04:28:01.455Z"
   },
   {
    "duration": 11,
    "start_time": "2024-10-09T04:28:01.461Z"
   },
   {
    "duration": 35,
    "start_time": "2024-10-09T04:28:01.473Z"
   },
   {
    "duration": 9,
    "start_time": "2024-10-09T04:28:01.510Z"
   },
   {
    "duration": 6,
    "start_time": "2024-10-09T04:28:01.522Z"
   },
   {
    "duration": 10,
    "start_time": "2024-10-09T04:28:01.529Z"
   },
   {
    "duration": 6,
    "start_time": "2024-10-09T04:28:01.542Z"
   },
   {
    "duration": 6,
    "start_time": "2024-10-09T04:28:01.550Z"
   },
   {
    "duration": 59,
    "start_time": "2024-10-09T04:28:01.558Z"
   },
   {
    "duration": 3,
    "start_time": "2024-10-09T04:28:01.618Z"
   },
   {
    "duration": 3,
    "start_time": "2024-10-09T04:28:01.622Z"
   },
   {
    "duration": 3,
    "start_time": "2024-10-09T04:28:01.626Z"
   },
   {
    "duration": 3,
    "start_time": "2024-10-09T04:28:01.630Z"
   },
   {
    "duration": 2,
    "start_time": "2024-10-09T04:28:01.634Z"
   },
   {
    "duration": 3,
    "start_time": "2024-10-09T04:28:01.638Z"
   },
   {
    "duration": 3,
    "start_time": "2024-10-09T04:28:01.642Z"
   },
   {
    "duration": 3,
    "start_time": "2024-10-09T04:28:01.646Z"
   },
   {
    "duration": 2,
    "start_time": "2024-10-09T04:28:01.651Z"
   },
   {
    "duration": 2,
    "start_time": "2024-10-09T04:28:01.655Z"
   },
   {
    "duration": 2,
    "start_time": "2024-10-09T04:28:01.659Z"
   },
   {
    "duration": 47,
    "start_time": "2024-10-09T04:28:01.663Z"
   },
   {
    "duration": 3,
    "start_time": "2024-10-09T04:28:01.712Z"
   },
   {
    "duration": 2,
    "start_time": "2024-10-09T04:28:01.717Z"
   },
   {
    "duration": 15,
    "start_time": "2024-10-09T04:29:05.518Z"
   },
   {
    "duration": 615,
    "start_time": "2024-10-09T04:42:49.414Z"
   },
   {
    "duration": 161,
    "start_time": "2024-10-09T04:42:50.031Z"
   },
   {
    "duration": 64,
    "start_time": "2024-10-09T04:42:50.194Z"
   },
   {
    "duration": 28,
    "start_time": "2024-10-09T04:42:50.260Z"
   },
   {
    "duration": 82,
    "start_time": "2024-10-09T04:42:50.290Z"
   },
   {
    "duration": 170,
    "start_time": "2024-10-09T04:42:50.374Z"
   },
   {
    "duration": 7,
    "start_time": "2024-10-09T04:42:50.546Z"
   },
   {
    "duration": 9,
    "start_time": "2024-10-09T04:42:50.555Z"
   },
   {
    "duration": 3,
    "start_time": "2024-10-09T04:42:50.566Z"
   },
   {
    "duration": 5,
    "start_time": "2024-10-09T04:42:50.573Z"
   },
   {
    "duration": 12,
    "start_time": "2024-10-09T04:42:50.610Z"
   },
   {
    "duration": 7,
    "start_time": "2024-10-09T04:42:50.624Z"
   },
   {
    "duration": 10,
    "start_time": "2024-10-09T04:42:50.634Z"
   },
   {
    "duration": 6,
    "start_time": "2024-10-09T04:42:50.646Z"
   },
   {
    "duration": 11,
    "start_time": "2024-10-09T04:42:50.654Z"
   },
   {
    "duration": 43,
    "start_time": "2024-10-09T04:42:50.666Z"
   },
   {
    "duration": 7,
    "start_time": "2024-10-09T04:42:50.711Z"
   },
   {
    "duration": 22,
    "start_time": "2024-10-09T04:42:50.720Z"
   },
   {
    "duration": 14,
    "start_time": "2024-10-09T04:42:50.743Z"
   },
   {
    "duration": 15,
    "start_time": "2024-10-09T04:42:50.759Z"
   },
   {
    "duration": 6,
    "start_time": "2024-10-09T04:42:50.775Z"
   },
   {
    "duration": 0,
    "start_time": "2024-10-09T04:42:50.809Z"
   },
   {
    "duration": 0,
    "start_time": "2024-10-09T04:42:50.810Z"
   },
   {
    "duration": 0,
    "start_time": "2024-10-09T04:42:50.811Z"
   },
   {
    "duration": 0,
    "start_time": "2024-10-09T04:42:50.812Z"
   },
   {
    "duration": 0,
    "start_time": "2024-10-09T04:42:50.813Z"
   },
   {
    "duration": 0,
    "start_time": "2024-10-09T04:42:50.814Z"
   },
   {
    "duration": 0,
    "start_time": "2024-10-09T04:42:50.815Z"
   },
   {
    "duration": 0,
    "start_time": "2024-10-09T04:42:50.816Z"
   },
   {
    "duration": 0,
    "start_time": "2024-10-09T04:42:50.818Z"
   },
   {
    "duration": 0,
    "start_time": "2024-10-09T04:42:50.819Z"
   },
   {
    "duration": 0,
    "start_time": "2024-10-09T04:42:50.819Z"
   },
   {
    "duration": 20,
    "start_time": "2024-10-09T04:43:14.804Z"
   },
   {
    "duration": 18,
    "start_time": "2024-10-09T04:43:19.408Z"
   },
   {
    "duration": 13,
    "start_time": "2024-10-09T04:43:22.915Z"
   },
   {
    "duration": 30,
    "start_time": "2024-10-09T04:43:28.301Z"
   },
   {
    "duration": 238,
    "start_time": "2024-10-09T04:43:31.382Z"
   },
   {
    "duration": 15,
    "start_time": "2024-10-09T04:48:00.857Z"
   },
   {
    "duration": 4,
    "start_time": "2024-10-10T06:00:28.364Z"
   },
   {
    "duration": 159,
    "start_time": "2024-10-10T06:00:33.671Z"
   },
   {
    "duration": 2476,
    "start_time": "2024-10-10T06:22:20.974Z"
   },
   {
    "duration": 294,
    "start_time": "2024-10-10T06:22:27.717Z"
   },
   {
    "duration": 375,
    "start_time": "2024-10-10T06:23:29.453Z"
   },
   {
    "duration": 175,
    "start_time": "2024-10-10T06:25:11.117Z"
   },
   {
    "duration": 48,
    "start_time": "2024-10-10T06:25:43.654Z"
   },
   {
    "duration": 10,
    "start_time": "2024-10-10T06:26:45.231Z"
   },
   {
    "duration": 69,
    "start_time": "2024-10-10T06:27:02.483Z"
   },
   {
    "duration": 16,
    "start_time": "2024-10-10T06:29:11.461Z"
   },
   {
    "duration": 9,
    "start_time": "2024-10-10T06:29:30.235Z"
   },
   {
    "duration": 8,
    "start_time": "2024-10-10T06:29:33.279Z"
   },
   {
    "duration": 18,
    "start_time": "2024-10-10T06:32:14.130Z"
   },
   {
    "duration": 13,
    "start_time": "2024-10-10T06:32:22.129Z"
   },
   {
    "duration": 14,
    "start_time": "2024-10-10T06:32:32.226Z"
   },
   {
    "duration": 15,
    "start_time": "2024-10-10T06:32:42.839Z"
   },
   {
    "duration": 16,
    "start_time": "2024-10-10T06:33:53.121Z"
   },
   {
    "duration": 23,
    "start_time": "2024-10-10T06:34:35.710Z"
   },
   {
    "duration": 4,
    "start_time": "2024-10-10T06:34:46.594Z"
   },
   {
    "duration": 11,
    "start_time": "2024-10-10T06:35:47.801Z"
   },
   {
    "duration": 37,
    "start_time": "2024-10-10T06:36:28.534Z"
   },
   {
    "duration": 30,
    "start_time": "2024-10-10T06:37:35.560Z"
   },
   {
    "duration": 474,
    "start_time": "2024-10-10T06:41:54.994Z"
   },
   {
    "duration": 4,
    "start_time": "2024-10-10T06:51:24.966Z"
   },
   {
    "duration": 7,
    "start_time": "2024-10-10T06:51:29.144Z"
   },
   {
    "duration": 13,
    "start_time": "2024-10-10T06:51:59.429Z"
   },
   {
    "duration": 11,
    "start_time": "2024-10-10T06:52:21.266Z"
   },
   {
    "duration": 17,
    "start_time": "2024-10-10T06:52:31.025Z"
   },
   {
    "duration": 4,
    "start_time": "2024-10-10T06:54:03.228Z"
   },
   {
    "duration": 5,
    "start_time": "2024-10-10T06:55:00.163Z"
   },
   {
    "duration": 14,
    "start_time": "2024-10-10T06:55:41.430Z"
   },
   {
    "duration": 14,
    "start_time": "2024-10-10T07:01:50.501Z"
   },
   {
    "duration": 8,
    "start_time": "2024-10-10T07:01:54.785Z"
   },
   {
    "duration": 11,
    "start_time": "2024-10-10T07:03:08.483Z"
   },
   {
    "duration": 43,
    "start_time": "2024-10-10T07:03:41.598Z"
   },
   {
    "duration": 35,
    "start_time": "2024-10-10T07:04:03.972Z"
   },
   {
    "duration": 11,
    "start_time": "2024-10-10T07:07:35.784Z"
   },
   {
    "duration": 6,
    "start_time": "2024-10-10T07:07:41.876Z"
   },
   {
    "duration": 6,
    "start_time": "2024-10-10T07:09:38.469Z"
   },
   {
    "duration": 11,
    "start_time": "2024-10-10T07:10:02.497Z"
   },
   {
    "duration": 12,
    "start_time": "2024-10-10T07:11:21.330Z"
   },
   {
    "duration": 6,
    "start_time": "2024-10-10T07:11:43.085Z"
   },
   {
    "duration": 10,
    "start_time": "2024-10-10T07:11:45.425Z"
   },
   {
    "duration": 11,
    "start_time": "2024-10-10T07:11:59.545Z"
   },
   {
    "duration": 7,
    "start_time": "2024-10-10T07:12:03.700Z"
   },
   {
    "duration": 7,
    "start_time": "2024-10-10T07:13:32.053Z"
   },
   {
    "duration": 8,
    "start_time": "2024-10-10T07:13:50.337Z"
   },
   {
    "duration": 13,
    "start_time": "2024-10-10T07:14:14.916Z"
   },
   {
    "duration": 7,
    "start_time": "2024-10-10T07:16:30.040Z"
   },
   {
    "duration": 21,
    "start_time": "2024-10-10T07:20:54.950Z"
   },
   {
    "duration": 17,
    "start_time": "2024-10-10T07:23:00.006Z"
   },
   {
    "duration": 19,
    "start_time": "2024-10-10T07:23:47.301Z"
   },
   {
    "duration": 15,
    "start_time": "2024-10-10T07:35:35.039Z"
   },
   {
    "duration": 12,
    "start_time": "2024-10-10T07:35:40.622Z"
   },
   {
    "duration": 21,
    "start_time": "2024-10-10T07:35:50.187Z"
   },
   {
    "duration": 21,
    "start_time": "2024-10-10T07:36:09.361Z"
   },
   {
    "duration": 16,
    "start_time": "2024-10-10T07:36:55.640Z"
   },
   {
    "duration": 17,
    "start_time": "2024-10-10T07:39:27.199Z"
   },
   {
    "duration": 120,
    "start_time": "2024-10-10T07:40:54.656Z"
   },
   {
    "duration": 39,
    "start_time": "2024-10-10T07:42:39.963Z"
   },
   {
    "duration": 33,
    "start_time": "2024-10-10T07:43:20.964Z"
   },
   {
    "duration": 32,
    "start_time": "2024-10-10T07:44:46.690Z"
   },
   {
    "duration": 13,
    "start_time": "2024-10-10T07:46:14.604Z"
   },
   {
    "duration": 4,
    "start_time": "2024-10-10T07:46:21.840Z"
   },
   {
    "duration": 13,
    "start_time": "2024-10-10T07:47:27.498Z"
   },
   {
    "duration": 300,
    "start_time": "2024-10-10T07:48:10.881Z"
   },
   {
    "duration": 5,
    "start_time": "2024-10-10T07:49:38.490Z"
   },
   {
    "duration": 6,
    "start_time": "2024-10-10T07:50:28.441Z"
   },
   {
    "duration": 6,
    "start_time": "2024-10-10T07:51:02.791Z"
   },
   {
    "duration": 6,
    "start_time": "2024-10-10T07:55:46.350Z"
   },
   {
    "duration": 7,
    "start_time": "2024-10-10T07:57:26.104Z"
   },
   {
    "duration": 19,
    "start_time": "2024-10-10T07:57:35.071Z"
   },
   {
    "duration": 6,
    "start_time": "2024-10-10T07:59:22.285Z"
   },
   {
    "duration": 17,
    "start_time": "2024-10-10T07:59:40.567Z"
   },
   {
    "duration": 24,
    "start_time": "2024-10-10T08:00:22.801Z"
   },
   {
    "duration": 4,
    "start_time": "2024-10-10T08:00:44.435Z"
   },
   {
    "duration": 47,
    "start_time": "2024-10-10T08:01:45.970Z"
   },
   {
    "duration": 4,
    "start_time": "2024-10-10T08:02:52.914Z"
   },
   {
    "duration": 22,
    "start_time": "2024-10-10T08:03:22.416Z"
   },
   {
    "duration": 81,
    "start_time": "2024-10-10T08:03:42.786Z"
   },
   {
    "duration": 18,
    "start_time": "2024-10-10T08:04:47.996Z"
   },
   {
    "duration": 192,
    "start_time": "2024-10-10T08:08:45.050Z"
   },
   {
    "duration": 179,
    "start_time": "2024-10-10T08:09:06.286Z"
   },
   {
    "duration": 8,
    "start_time": "2024-10-10T08:10:25.248Z"
   },
   {
    "duration": 99,
    "start_time": "2024-10-10T08:12:21.777Z"
   },
   {
    "duration": 16,
    "start_time": "2024-10-10T08:14:03.626Z"
   },
   {
    "duration": 171,
    "start_time": "2024-10-10T08:14:20.009Z"
   },
   {
    "duration": 203,
    "start_time": "2024-10-10T08:15:01.666Z"
   },
   {
    "duration": 5,
    "start_time": "2024-10-10T08:15:31.963Z"
   },
   {
    "duration": 4,
    "start_time": "2024-10-10T08:15:40.123Z"
   },
   {
    "duration": 167,
    "start_time": "2024-10-10T08:17:28.866Z"
   },
   {
    "duration": 16,
    "start_time": "2024-10-10T08:18:34.251Z"
   },
   {
    "duration": 6,
    "start_time": "2024-10-10T08:19:12.904Z"
   },
   {
    "duration": 5,
    "start_time": "2024-10-10T08:19:33.834Z"
   },
   {
    "duration": 5,
    "start_time": "2024-10-10T08:19:45.887Z"
   },
   {
    "duration": 183,
    "start_time": "2024-10-10T08:20:12.523Z"
   },
   {
    "duration": 763,
    "start_time": "2024-10-10T08:56:20.520Z"
   },
   {
    "duration": 258,
    "start_time": "2024-10-10T08:56:21.286Z"
   },
   {
    "duration": 64,
    "start_time": "2024-10-10T08:56:21.546Z"
   },
   {
    "duration": 8,
    "start_time": "2024-10-10T08:56:21.612Z"
   },
   {
    "duration": 27,
    "start_time": "2024-10-10T08:56:21.622Z"
   },
   {
    "duration": 5,
    "start_time": "2024-10-10T08:56:21.650Z"
   },
   {
    "duration": 3,
    "start_time": "2024-10-10T08:56:21.657Z"
   },
   {
    "duration": 8,
    "start_time": "2024-10-10T08:56:21.662Z"
   },
   {
    "duration": 8,
    "start_time": "2024-10-10T08:56:21.671Z"
   },
   {
    "duration": 12,
    "start_time": "2024-10-10T08:56:21.683Z"
   },
   {
    "duration": 411,
    "start_time": "2024-10-10T08:56:21.696Z"
   },
   {
    "duration": 0,
    "start_time": "2024-10-10T08:56:22.109Z"
   },
   {
    "duration": 0,
    "start_time": "2024-10-10T08:56:22.110Z"
   },
   {
    "duration": 0,
    "start_time": "2024-10-10T08:56:22.111Z"
   },
   {
    "duration": 0,
    "start_time": "2024-10-10T08:56:22.113Z"
   },
   {
    "duration": 0,
    "start_time": "2024-10-10T08:56:22.115Z"
   },
   {
    "duration": 0,
    "start_time": "2024-10-10T08:56:22.116Z"
   },
   {
    "duration": 0,
    "start_time": "2024-10-10T08:56:22.117Z"
   },
   {
    "duration": 0,
    "start_time": "2024-10-10T08:56:22.119Z"
   },
   {
    "duration": 0,
    "start_time": "2024-10-10T08:56:22.119Z"
   },
   {
    "duration": 0,
    "start_time": "2024-10-10T08:56:22.121Z"
   },
   {
    "duration": 0,
    "start_time": "2024-10-10T08:56:22.143Z"
   },
   {
    "duration": 0,
    "start_time": "2024-10-10T08:56:22.145Z"
   },
   {
    "duration": 0,
    "start_time": "2024-10-10T08:56:22.147Z"
   },
   {
    "duration": 0,
    "start_time": "2024-10-10T08:56:22.148Z"
   },
   {
    "duration": 0,
    "start_time": "2024-10-10T08:56:22.149Z"
   },
   {
    "duration": 0,
    "start_time": "2024-10-10T08:56:22.150Z"
   },
   {
    "duration": 0,
    "start_time": "2024-10-10T08:56:22.151Z"
   },
   {
    "duration": 0,
    "start_time": "2024-10-10T08:56:22.152Z"
   },
   {
    "duration": 0,
    "start_time": "2024-10-10T08:56:22.154Z"
   },
   {
    "duration": 0,
    "start_time": "2024-10-10T08:56:22.155Z"
   },
   {
    "duration": 0,
    "start_time": "2024-10-10T08:56:22.156Z"
   },
   {
    "duration": 0,
    "start_time": "2024-10-10T08:56:22.157Z"
   },
   {
    "duration": 0,
    "start_time": "2024-10-10T08:56:22.159Z"
   },
   {
    "duration": 0,
    "start_time": "2024-10-10T08:56:22.160Z"
   },
   {
    "duration": 0,
    "start_time": "2024-10-10T08:56:22.161Z"
   },
   {
    "duration": 0,
    "start_time": "2024-10-10T08:56:22.163Z"
   },
   {
    "duration": 0,
    "start_time": "2024-10-10T08:56:22.164Z"
   },
   {
    "duration": 0,
    "start_time": "2024-10-10T08:56:22.165Z"
   },
   {
    "duration": 0,
    "start_time": "2024-10-10T08:56:22.166Z"
   },
   {
    "duration": 6,
    "start_time": "2024-10-10T08:57:52.112Z"
   },
   {
    "duration": 17,
    "start_time": "2024-10-10T08:57:54.382Z"
   },
   {
    "duration": 39,
    "start_time": "2024-10-10T08:57:55.272Z"
   },
   {
    "duration": 13,
    "start_time": "2024-10-10T08:58:36.032Z"
   },
   {
    "duration": 8,
    "start_time": "2024-10-10T08:58:36.173Z"
   },
   {
    "duration": 230,
    "start_time": "2024-10-10T08:58:36.983Z"
   },
   {
    "duration": 371,
    "start_time": "2024-10-10T08:58:37.595Z"
   },
   {
    "duration": 14,
    "start_time": "2024-10-10T08:58:38.118Z"
   },
   {
    "duration": 13,
    "start_time": "2024-10-10T09:01:03.448Z"
   },
   {
    "duration": 7,
    "start_time": "2024-10-10T09:01:03.599Z"
   },
   {
    "duration": 27,
    "start_time": "2024-10-10T09:01:04.423Z"
   },
   {
    "duration": 42,
    "start_time": "2024-10-10T09:01:04.877Z"
   },
   {
    "duration": 7,
    "start_time": "2024-10-10T09:01:05.380Z"
   },
   {
    "duration": 27,
    "start_time": "2024-10-10T09:01:05.699Z"
   },
   {
    "duration": 17,
    "start_time": "2024-10-10T09:01:05.873Z"
   },
   {
    "duration": 28,
    "start_time": "2024-10-10T09:01:06.059Z"
   },
   {
    "duration": 28,
    "start_time": "2024-10-10T09:01:06.445Z"
   },
   {
    "duration": 18,
    "start_time": "2024-10-10T09:01:07.063Z"
   },
   {
    "duration": 14,
    "start_time": "2024-10-10T09:01:07.193Z"
   },
   {
    "duration": 18,
    "start_time": "2024-10-10T09:01:07.592Z"
   },
   {
    "duration": 21,
    "start_time": "2024-10-10T09:01:09.323Z"
   },
   {
    "duration": 17,
    "start_time": "2024-10-10T09:01:09.482Z"
   },
   {
    "duration": 161,
    "start_time": "2024-10-10T11:35:58.812Z"
   },
   {
    "duration": 2,
    "start_time": "2024-10-10T12:02:46.413Z"
   },
   {
    "duration": 165,
    "start_time": "2024-10-10T12:02:49.876Z"
   },
   {
    "duration": 63,
    "start_time": "2024-10-10T12:02:50.697Z"
   },
   {
    "duration": 10,
    "start_time": "2024-10-10T12:02:59.361Z"
   },
   {
    "duration": 7,
    "start_time": "2024-10-10T12:03:03.156Z"
   },
   {
    "duration": 5,
    "start_time": "2024-10-10T12:03:57.135Z"
   },
   {
    "duration": 5,
    "start_time": "2024-10-10T12:04:02.054Z"
   },
   {
    "duration": 11,
    "start_time": "2024-10-10T12:04:35.584Z"
   },
   {
    "duration": 9,
    "start_time": "2024-10-10T12:04:40.381Z"
   },
   {
    "duration": 14,
    "start_time": "2024-10-10T12:04:49.863Z"
   },
   {
    "duration": 73,
    "start_time": "2024-10-10T12:04:56.715Z"
   },
   {
    "duration": 177,
    "start_time": "2024-10-10T16:53:50.405Z"
   },
   {
    "duration": 2467,
    "start_time": "2024-10-10T16:56:20.724Z"
   },
   {
    "duration": 265,
    "start_time": "2024-10-10T16:56:23.193Z"
   },
   {
    "duration": 64,
    "start_time": "2024-10-10T16:56:25.533Z"
   },
   {
    "duration": 9,
    "start_time": "2024-10-10T16:56:32.404Z"
   },
   {
    "duration": 11,
    "start_time": "2024-10-10T16:56:35.776Z"
   },
   {
    "duration": 6,
    "start_time": "2024-10-10T16:56:39.221Z"
   },
   {
    "duration": 5,
    "start_time": "2024-10-10T16:56:41.342Z"
   },
   {
    "duration": 8,
    "start_time": "2024-10-10T16:56:47.034Z"
   },
   {
    "duration": 8,
    "start_time": "2024-10-10T16:56:47.744Z"
   },
   {
    "duration": 19,
    "start_time": "2024-10-10T16:56:50.930Z"
   },
   {
    "duration": 14,
    "start_time": "2024-10-10T16:56:52.766Z"
   },
   {
    "duration": 16,
    "start_time": "2024-10-10T16:58:35.331Z"
   },
   {
    "duration": 7,
    "start_time": "2024-10-10T16:58:37.881Z"
   },
   {
    "duration": 16,
    "start_time": "2024-10-10T16:58:43.023Z"
   },
   {
    "duration": 38,
    "start_time": "2024-10-10T16:58:46.196Z"
   },
   {
    "duration": 12,
    "start_time": "2024-10-10T16:59:15.318Z"
   },
   {
    "duration": 478,
    "start_time": "2024-10-10T17:03:08.720Z"
   },
   {
    "duration": 49,
    "start_time": "2024-10-10T17:03:58.853Z"
   },
   {
    "duration": 40,
    "start_time": "2024-10-10T17:04:11.032Z"
   },
   {
    "duration": 44,
    "start_time": "2024-10-10T17:05:11.055Z"
   },
   {
    "duration": 13,
    "start_time": "2024-10-10T17:05:17.857Z"
   },
   {
    "duration": 6,
    "start_time": "2024-10-10T17:05:23.275Z"
   },
   {
    "duration": 305,
    "start_time": "2024-10-10T17:05:27.800Z"
   },
   {
    "duration": 12,
    "start_time": "2024-10-10T17:05:38.024Z"
   },
   {
    "duration": 14,
    "start_time": "2024-10-10T17:10:23.770Z"
   },
   {
    "duration": 15,
    "start_time": "2024-10-10T17:11:05.759Z"
   },
   {
    "duration": 19,
    "start_time": "2024-10-10T17:11:40.505Z"
   },
   {
    "duration": 18,
    "start_time": "2024-10-10T17:11:46.624Z"
   },
   {
    "duration": 13,
    "start_time": "2024-10-10T17:13:27.692Z"
   },
   {
    "duration": 14,
    "start_time": "2024-10-10T17:13:35.240Z"
   },
   {
    "duration": 14,
    "start_time": "2024-10-10T17:13:41.787Z"
   },
   {
    "duration": 7,
    "start_time": "2024-10-10T17:13:44.290Z"
   },
   {
    "duration": 28,
    "start_time": "2024-10-10T17:13:48.051Z"
   },
   {
    "duration": 22,
    "start_time": "2024-10-10T17:17:33.486Z"
   },
   {
    "duration": 106,
    "start_time": "2024-10-10T17:17:50.294Z"
   },
   {
    "duration": 23,
    "start_time": "2024-10-10T17:18:37.698Z"
   },
   {
    "duration": 20,
    "start_time": "2024-10-10T17:19:27.093Z"
   },
   {
    "duration": 21,
    "start_time": "2024-10-10T17:20:15.879Z"
   },
   {
    "duration": 14,
    "start_time": "2024-10-10T17:21:24.317Z"
   },
   {
    "duration": 7,
    "start_time": "2024-10-10T17:21:30.460Z"
   },
   {
    "duration": 25,
    "start_time": "2024-10-10T17:21:38.279Z"
   },
   {
    "duration": 17,
    "start_time": "2024-10-10T17:21:41.478Z"
   },
   {
    "duration": 17,
    "start_time": "2024-10-10T17:21:43.623Z"
   },
   {
    "duration": 16,
    "start_time": "2024-10-10T17:21:46.072Z"
   },
   {
    "duration": 17,
    "start_time": "2024-10-10T17:21:48.752Z"
   },
   {
    "duration": 13,
    "start_time": "2024-10-10T17:21:51.665Z"
   },
   {
    "duration": 23,
    "start_time": "2024-10-10T17:21:54.248Z"
   },
   {
    "duration": 21,
    "start_time": "2024-10-10T17:30:23.781Z"
   },
   {
    "duration": 19,
    "start_time": "2024-10-10T17:34:03.947Z"
   },
   {
    "duration": 19,
    "start_time": "2024-10-10T17:41:46.412Z"
   },
   {
    "duration": 19,
    "start_time": "2024-10-10T17:41:55.231Z"
   },
   {
    "duration": 19,
    "start_time": "2024-10-10T17:42:08.386Z"
   },
   {
    "duration": 29,
    "start_time": "2024-10-10T17:44:44.106Z"
   },
   {
    "duration": 208,
    "start_time": "2024-10-10T17:44:52.489Z"
   },
   {
    "duration": 177,
    "start_time": "2024-10-10T17:44:58.005Z"
   },
   {
    "duration": 8,
    "start_time": "2024-10-10T17:45:01.244Z"
   },
   {
    "duration": 99,
    "start_time": "2024-10-10T17:45:03.382Z"
   },
   {
    "duration": 170,
    "start_time": "2024-10-10T17:45:09.779Z"
   },
   {
    "duration": 204,
    "start_time": "2024-10-10T17:45:14.663Z"
   },
   {
    "duration": 178,
    "start_time": "2024-10-10T17:45:24.404Z"
   },
   {
    "duration": 160,
    "start_time": "2024-10-10T17:54:43.552Z"
   },
   {
    "duration": 13,
    "start_time": "2024-10-10T17:54:58.439Z"
   },
   {
    "duration": 877,
    "start_time": "2024-10-10T18:02:47.237Z"
   },
   {
    "duration": 164,
    "start_time": "2024-10-10T18:02:48.117Z"
   },
   {
    "duration": 74,
    "start_time": "2024-10-10T18:02:48.284Z"
   },
   {
    "duration": 12,
    "start_time": "2024-10-10T18:02:48.361Z"
   },
   {
    "duration": 17,
    "start_time": "2024-10-10T18:02:48.375Z"
   },
   {
    "duration": 5,
    "start_time": "2024-10-10T18:02:48.394Z"
   },
   {
    "duration": 6,
    "start_time": "2024-10-10T18:02:48.401Z"
   },
   {
    "duration": 9,
    "start_time": "2024-10-10T18:02:48.409Z"
   },
   {
    "duration": 33,
    "start_time": "2024-10-10T18:02:48.419Z"
   },
   {
    "duration": 14,
    "start_time": "2024-10-10T18:02:48.456Z"
   },
   {
    "duration": 16,
    "start_time": "2024-10-10T18:02:48.472Z"
   },
   {
    "duration": 15,
    "start_time": "2024-10-10T18:02:48.490Z"
   },
   {
    "duration": 6,
    "start_time": "2024-10-10T18:02:48.507Z"
   },
   {
    "duration": 27,
    "start_time": "2024-10-10T18:02:48.543Z"
   },
   {
    "duration": 48,
    "start_time": "2024-10-10T18:02:48.572Z"
   },
   {
    "duration": 29,
    "start_time": "2024-10-10T18:02:48.621Z"
   },
   {
    "duration": 7,
    "start_time": "2024-10-10T18:02:48.652Z"
   },
   {
    "duration": 29,
    "start_time": "2024-10-10T18:02:48.661Z"
   },
   {
    "duration": 12,
    "start_time": "2024-10-10T18:02:48.691Z"
   },
   {
    "duration": 41,
    "start_time": "2024-10-10T18:02:48.705Z"
   },
   {
    "duration": 6,
    "start_time": "2024-10-10T18:02:48.748Z"
   },
   {
    "duration": 26,
    "start_time": "2024-10-10T18:02:48.756Z"
   },
   {
    "duration": 13,
    "start_time": "2024-10-10T18:02:48.784Z"
   },
   {
    "duration": 7,
    "start_time": "2024-10-10T18:02:48.799Z"
   },
   {
    "duration": 56,
    "start_time": "2024-10-10T18:02:48.808Z"
   },
   {
    "duration": 19,
    "start_time": "2024-10-10T18:02:48.866Z"
   },
   {
    "duration": 20,
    "start_time": "2024-10-10T18:02:48.887Z"
   },
   {
    "duration": 37,
    "start_time": "2024-10-10T18:02:48.911Z"
   },
   {
    "duration": 19,
    "start_time": "2024-10-10T18:02:48.950Z"
   },
   {
    "duration": 14,
    "start_time": "2024-10-10T18:02:48.971Z"
   },
   {
    "duration": 68,
    "start_time": "2024-10-10T18:02:48.987Z"
   },
   {
    "duration": 244,
    "start_time": "2024-10-10T18:02:49.057Z"
   },
   {
    "duration": 220,
    "start_time": "2024-10-10T18:02:49.304Z"
   },
   {
    "duration": 8,
    "start_time": "2024-10-10T18:02:49.527Z"
   },
   {
    "duration": 168,
    "start_time": "2024-10-10T18:02:49.543Z"
   },
   {
    "duration": 185,
    "start_time": "2024-10-10T18:02:49.713Z"
   },
   {
    "duration": 211,
    "start_time": "2024-10-10T18:02:49.900Z"
   },
   {
    "duration": 185,
    "start_time": "2024-10-10T18:02:50.113Z"
   },
   {
    "duration": 11,
    "start_time": "2024-10-10T18:02:50.300Z"
   },
   {
    "duration": 183,
    "start_time": "2024-10-10T18:02:50.313Z"
   },
   {
    "duration": 2,
    "start_time": "2024-10-10T18:02:50.498Z"
   },
   {
    "duration": 3,
    "start_time": "2024-10-10T18:02:50.503Z"
   },
   {
    "duration": 6,
    "start_time": "2024-10-10T18:05:29.759Z"
   },
   {
    "duration": 659,
    "start_time": "2024-10-10T18:05:58.458Z"
   },
   {
    "duration": 43,
    "start_time": "2024-10-10T18:07:04.753Z"
   },
   {
    "duration": 11,
    "start_time": "2024-10-10T18:08:02.861Z"
   },
   {
    "duration": 771,
    "start_time": "2024-10-10T18:10:48.833Z"
   },
   {
    "duration": 196,
    "start_time": "2024-10-10T18:10:49.607Z"
   },
   {
    "duration": 79,
    "start_time": "2024-10-10T18:10:49.804Z"
   },
   {
    "duration": 9,
    "start_time": "2024-10-10T18:10:49.886Z"
   },
   {
    "duration": 9,
    "start_time": "2024-10-10T18:10:49.897Z"
   },
   {
    "duration": 5,
    "start_time": "2024-10-10T18:10:49.908Z"
   },
   {
    "duration": 29,
    "start_time": "2024-10-10T18:10:49.915Z"
   },
   {
    "duration": 9,
    "start_time": "2024-10-10T18:10:49.945Z"
   },
   {
    "duration": 8,
    "start_time": "2024-10-10T18:10:49.956Z"
   },
   {
    "duration": 13,
    "start_time": "2024-10-10T18:10:49.969Z"
   },
   {
    "duration": 15,
    "start_time": "2024-10-10T18:10:49.984Z"
   },
   {
    "duration": 46,
    "start_time": "2024-10-10T18:10:50.001Z"
   },
   {
    "duration": 7,
    "start_time": "2024-10-10T18:10:50.048Z"
   },
   {
    "duration": 36,
    "start_time": "2024-10-10T18:10:50.057Z"
   },
   {
    "duration": 75,
    "start_time": "2024-10-10T18:10:50.095Z"
   },
   {
    "duration": 13,
    "start_time": "2024-10-10T18:10:50.172Z"
   },
   {
    "duration": 7,
    "start_time": "2024-10-10T18:10:50.186Z"
   },
   {
    "duration": 20,
    "start_time": "2024-10-10T18:10:50.194Z"
   },
   {
    "duration": 30,
    "start_time": "2024-10-10T18:10:50.216Z"
   },
   {
    "duration": 17,
    "start_time": "2024-10-10T18:10:50.249Z"
   },
   {
    "duration": 7,
    "start_time": "2024-10-10T18:10:50.268Z"
   },
   {
    "duration": 26,
    "start_time": "2024-10-10T18:10:50.278Z"
   },
   {
    "duration": 38,
    "start_time": "2024-10-10T18:10:50.305Z"
   },
   {
    "duration": 7,
    "start_time": "2024-10-10T18:10:50.345Z"
   },
   {
    "duration": 22,
    "start_time": "2024-10-10T18:10:50.354Z"
   },
   {
    "duration": 14,
    "start_time": "2024-10-10T18:10:50.377Z"
   },
   {
    "duration": 14,
    "start_time": "2024-10-10T18:10:50.393Z"
   },
   {
    "duration": 17,
    "start_time": "2024-10-10T18:10:50.444Z"
   },
   {
    "duration": 26,
    "start_time": "2024-10-10T18:10:50.465Z"
   },
   {
    "duration": 21,
    "start_time": "2024-10-10T18:10:50.493Z"
   },
   {
    "duration": 49,
    "start_time": "2024-10-10T18:10:50.516Z"
   },
   {
    "duration": 254,
    "start_time": "2024-10-10T18:10:50.567Z"
   },
   {
    "duration": 194,
    "start_time": "2024-10-10T18:10:50.823Z"
   },
   {
    "duration": 8,
    "start_time": "2024-10-10T18:10:51.019Z"
   },
   {
    "duration": 170,
    "start_time": "2024-10-10T18:10:51.030Z"
   },
   {
    "duration": 187,
    "start_time": "2024-10-10T18:10:51.202Z"
   },
   {
    "duration": 212,
    "start_time": "2024-10-10T18:10:51.391Z"
   },
   {
    "duration": 181,
    "start_time": "2024-10-10T18:10:51.605Z"
   },
   {
    "duration": 9,
    "start_time": "2024-10-10T18:10:51.789Z"
   },
   {
    "duration": 184,
    "start_time": "2024-10-10T18:10:51.800Z"
   },
   {
    "duration": 7,
    "start_time": "2024-10-10T18:10:51.987Z"
   },
   {
    "duration": 634,
    "start_time": "2024-10-10T18:10:51.996Z"
   },
   {
    "duration": 763,
    "start_time": "2024-10-10T18:15:05.611Z"
   },
   {
    "duration": 154,
    "start_time": "2024-10-10T18:15:06.377Z"
   },
   {
    "duration": 64,
    "start_time": "2024-10-10T18:15:06.533Z"
   },
   {
    "duration": 8,
    "start_time": "2024-10-10T18:15:06.599Z"
   },
   {
    "duration": 10,
    "start_time": "2024-10-10T18:15:06.608Z"
   },
   {
    "duration": 4,
    "start_time": "2024-10-10T18:15:06.620Z"
   },
   {
    "duration": 4,
    "start_time": "2024-10-10T18:15:06.644Z"
   },
   {
    "duration": 8,
    "start_time": "2024-10-10T18:15:06.650Z"
   },
   {
    "duration": 9,
    "start_time": "2024-10-10T18:15:06.659Z"
   },
   {
    "duration": 13,
    "start_time": "2024-10-10T18:15:06.671Z"
   },
   {
    "duration": 14,
    "start_time": "2024-10-10T18:15:06.685Z"
   },
   {
    "duration": 56,
    "start_time": "2024-10-10T18:15:06.700Z"
   },
   {
    "duration": 7,
    "start_time": "2024-10-10T18:15:06.758Z"
   },
   {
    "duration": 24,
    "start_time": "2024-10-10T18:15:06.766Z"
   },
   {
    "duration": 72,
    "start_time": "2024-10-10T18:15:06.792Z"
   },
   {
    "duration": 14,
    "start_time": "2024-10-10T18:15:06.866Z"
   },
   {
    "duration": 6,
    "start_time": "2024-10-10T18:15:06.882Z"
   },
   {
    "duration": 21,
    "start_time": "2024-10-10T18:15:06.890Z"
   },
   {
    "duration": 37,
    "start_time": "2024-10-10T18:15:06.914Z"
   },
   {
    "duration": 14,
    "start_time": "2024-10-10T18:15:06.952Z"
   },
   {
    "duration": 7,
    "start_time": "2024-10-10T18:15:06.968Z"
   },
   {
    "duration": 24,
    "start_time": "2024-10-10T18:15:06.977Z"
   },
   {
    "duration": 12,
    "start_time": "2024-10-10T18:15:07.003Z"
   },
   {
    "duration": 7,
    "start_time": "2024-10-10T18:15:07.042Z"
   },
   {
    "duration": 21,
    "start_time": "2024-10-10T18:15:07.051Z"
   },
   {
    "duration": 13,
    "start_time": "2024-10-10T18:15:07.074Z"
   },
   {
    "duration": 15,
    "start_time": "2024-10-10T18:15:07.088Z"
   },
   {
    "duration": 43,
    "start_time": "2024-10-10T18:15:07.108Z"
   },
   {
    "duration": 18,
    "start_time": "2024-10-10T18:15:07.153Z"
   },
   {
    "duration": 12,
    "start_time": "2024-10-10T18:15:07.173Z"
   },
   {
    "duration": 29,
    "start_time": "2024-10-10T18:15:07.187Z"
   },
   {
    "duration": 216,
    "start_time": "2024-10-10T18:15:07.217Z"
   },
   {
    "duration": 180,
    "start_time": "2024-10-10T18:15:07.435Z"
   },
   {
    "duration": 8,
    "start_time": "2024-10-10T18:15:07.617Z"
   },
   {
    "duration": 163,
    "start_time": "2024-10-10T18:15:07.627Z"
   },
   {
    "duration": 175,
    "start_time": "2024-10-10T18:15:07.792Z"
   },
   {
    "duration": 219,
    "start_time": "2024-10-10T18:15:07.969Z"
   },
   {
    "duration": 182,
    "start_time": "2024-10-10T18:15:08.190Z"
   },
   {
    "duration": 9,
    "start_time": "2024-10-10T18:15:08.374Z"
   },
   {
    "duration": 166,
    "start_time": "2024-10-10T18:15:08.386Z"
   },
   {
    "duration": 7,
    "start_time": "2024-10-10T18:15:08.554Z"
   },
   {
    "duration": 622,
    "start_time": "2024-10-10T18:15:08.563Z"
   },
   {
    "duration": 2490,
    "start_time": "2024-10-12T06:55:31.957Z"
   },
   {
    "duration": 251,
    "start_time": "2024-10-12T06:55:34.449Z"
   },
   {
    "duration": 62,
    "start_time": "2024-10-12T06:55:34.701Z"
   },
   {
    "duration": 7,
    "start_time": "2024-10-12T06:55:34.765Z"
   },
   {
    "duration": 15,
    "start_time": "2024-10-12T06:55:34.774Z"
   },
   {
    "duration": 4,
    "start_time": "2024-10-12T06:55:34.791Z"
   },
   {
    "duration": 4,
    "start_time": "2024-10-12T06:55:34.796Z"
   },
   {
    "duration": 8,
    "start_time": "2024-10-12T06:55:34.801Z"
   },
   {
    "duration": 8,
    "start_time": "2024-10-12T06:55:34.810Z"
   },
   {
    "duration": 12,
    "start_time": "2024-10-12T06:55:34.821Z"
   },
   {
    "duration": 13,
    "start_time": "2024-10-12T06:55:34.834Z"
   },
   {
    "duration": 14,
    "start_time": "2024-10-12T06:55:34.887Z"
   },
   {
    "duration": 6,
    "start_time": "2024-10-12T06:55:34.903Z"
   },
   {
    "duration": 24,
    "start_time": "2024-10-12T06:55:34.911Z"
   },
   {
    "duration": 66,
    "start_time": "2024-10-12T06:55:34.936Z"
   },
   {
    "duration": 13,
    "start_time": "2024-10-12T06:55:35.003Z"
   },
   {
    "duration": 6,
    "start_time": "2024-10-12T06:55:35.017Z"
   },
   {
    "duration": 20,
    "start_time": "2024-10-12T06:55:35.025Z"
   },
   {
    "duration": 39,
    "start_time": "2024-10-12T06:55:35.047Z"
   },
   {
    "duration": 13,
    "start_time": "2024-10-12T06:55:35.088Z"
   },
   {
    "duration": 6,
    "start_time": "2024-10-12T06:55:35.103Z"
   },
   {
    "duration": 24,
    "start_time": "2024-10-12T06:55:35.111Z"
   },
   {
    "duration": 11,
    "start_time": "2024-10-12T06:55:35.137Z"
   },
   {
    "duration": 6,
    "start_time": "2024-10-12T06:55:35.150Z"
   },
   {
    "duration": 22,
    "start_time": "2024-10-12T06:55:35.186Z"
   },
   {
    "duration": 14,
    "start_time": "2024-10-12T06:55:35.210Z"
   },
   {
    "duration": 15,
    "start_time": "2024-10-12T06:55:35.226Z"
   },
   {
    "duration": 44,
    "start_time": "2024-10-12T06:55:35.244Z"
   },
   {
    "duration": 16,
    "start_time": "2024-10-12T06:55:35.289Z"
   },
   {
    "duration": 11,
    "start_time": "2024-10-12T06:55:35.307Z"
   },
   {
    "duration": 27,
    "start_time": "2024-10-12T06:55:35.320Z"
   },
   {
    "duration": 222,
    "start_time": "2024-10-12T06:55:35.348Z"
   },
   {
    "duration": 175,
    "start_time": "2024-10-12T06:55:35.571Z"
   },
   {
    "duration": 7,
    "start_time": "2024-10-12T06:55:35.748Z"
   },
   {
    "duration": 113,
    "start_time": "2024-10-12T06:55:35.756Z"
   },
   {
    "duration": 218,
    "start_time": "2024-10-12T06:55:35.871Z"
   },
   {
    "duration": 220,
    "start_time": "2024-10-12T06:55:36.091Z"
   },
   {
    "duration": 176,
    "start_time": "2024-10-12T06:55:36.313Z"
   },
   {
    "duration": 10,
    "start_time": "2024-10-12T06:55:36.491Z"
   },
   {
    "duration": 165,
    "start_time": "2024-10-12T06:55:36.503Z"
   },
   {
    "duration": 5,
    "start_time": "2024-10-12T06:55:36.670Z"
   },
   {
    "duration": 598,
    "start_time": "2024-10-12T06:55:36.686Z"
   },
   {
    "duration": 2478,
    "start_time": "2024-10-12T09:38:37.378Z"
   },
   {
    "duration": 237,
    "start_time": "2024-10-12T09:38:39.858Z"
   },
   {
    "duration": 63,
    "start_time": "2024-10-12T09:38:40.098Z"
   },
   {
    "duration": 10,
    "start_time": "2024-10-12T09:38:40.164Z"
   },
   {
    "duration": 10,
    "start_time": "2024-10-12T09:38:40.175Z"
   },
   {
    "duration": 4,
    "start_time": "2024-10-12T09:38:40.187Z"
   },
   {
    "duration": 5,
    "start_time": "2024-10-12T09:38:40.192Z"
   },
   {
    "duration": 8,
    "start_time": "2024-10-12T09:38:40.199Z"
   },
   {
    "duration": 8,
    "start_time": "2024-10-12T09:38:40.208Z"
   },
   {
    "duration": 50,
    "start_time": "2024-10-12T09:38:40.220Z"
   },
   {
    "duration": 15,
    "start_time": "2024-10-12T09:38:40.272Z"
   },
   {
    "duration": 17,
    "start_time": "2024-10-12T09:38:40.288Z"
   },
   {
    "duration": 7,
    "start_time": "2024-10-12T09:38:40.307Z"
   },
   {
    "duration": 25,
    "start_time": "2024-10-12T09:38:40.316Z"
   },
   {
    "duration": 71,
    "start_time": "2024-10-12T09:38:40.342Z"
   },
   {
    "duration": 12,
    "start_time": "2024-10-12T09:38:40.415Z"
   },
   {
    "duration": 6,
    "start_time": "2024-10-12T09:38:40.429Z"
   },
   {
    "duration": 40,
    "start_time": "2024-10-12T09:38:40.438Z"
   },
   {
    "duration": 11,
    "start_time": "2024-10-12T09:38:40.480Z"
   },
   {
    "duration": 13,
    "start_time": "2024-10-12T09:38:40.492Z"
   },
   {
    "duration": 7,
    "start_time": "2024-10-12T09:38:40.507Z"
   },
   {
    "duration": 55,
    "start_time": "2024-10-12T09:38:40.516Z"
   },
   {
    "duration": 13,
    "start_time": "2024-10-12T09:38:40.573Z"
   },
   {
    "duration": 6,
    "start_time": "2024-10-12T09:38:40.588Z"
   },
   {
    "duration": 22,
    "start_time": "2024-10-12T09:38:40.596Z"
   },
   {
    "duration": 13,
    "start_time": "2024-10-12T09:38:40.620Z"
   },
   {
    "duration": 44,
    "start_time": "2024-10-12T09:38:40.635Z"
   },
   {
    "duration": 15,
    "start_time": "2024-10-12T09:38:40.683Z"
   },
   {
    "duration": 17,
    "start_time": "2024-10-12T09:38:40.700Z"
   },
   {
    "duration": 12,
    "start_time": "2024-10-12T09:38:40.719Z"
   },
   {
    "duration": 58,
    "start_time": "2024-10-12T09:38:40.733Z"
   },
   {
    "duration": 199,
    "start_time": "2024-10-12T09:38:40.793Z"
   },
   {
    "duration": 182,
    "start_time": "2024-10-12T09:38:40.993Z"
   },
   {
    "duration": 7,
    "start_time": "2024-10-12T09:38:41.177Z"
   },
   {
    "duration": 114,
    "start_time": "2024-10-12T09:38:41.186Z"
   },
   {
    "duration": 181,
    "start_time": "2024-10-12T09:38:41.302Z"
   },
   {
    "duration": 192,
    "start_time": "2024-10-12T09:38:41.485Z"
   },
   {
    "duration": 252,
    "start_time": "2024-10-12T09:38:41.680Z"
   },
   {
    "duration": 11,
    "start_time": "2024-10-12T09:38:41.935Z"
   },
   {
    "duration": 163,
    "start_time": "2024-10-12T09:38:41.947Z"
   },
   {
    "duration": 5,
    "start_time": "2024-10-12T09:38:42.112Z"
   },
   {
    "duration": 629,
    "start_time": "2024-10-12T09:38:42.119Z"
   },
   {
    "duration": 750,
    "start_time": "2024-10-12T09:44:38.655Z"
   },
   {
    "duration": 160,
    "start_time": "2024-10-12T09:44:39.407Z"
   },
   {
    "duration": 63,
    "start_time": "2024-10-12T09:44:39.568Z"
   },
   {
    "duration": 9,
    "start_time": "2024-10-12T09:44:39.633Z"
   },
   {
    "duration": 28,
    "start_time": "2024-10-12T09:44:39.645Z"
   },
   {
    "duration": 4,
    "start_time": "2024-10-12T09:44:39.675Z"
   },
   {
    "duration": 4,
    "start_time": "2024-10-12T09:44:39.681Z"
   },
   {
    "duration": 7,
    "start_time": "2024-10-12T09:44:39.687Z"
   },
   {
    "duration": 8,
    "start_time": "2024-10-12T09:44:39.696Z"
   },
   {
    "duration": 14,
    "start_time": "2024-10-12T09:44:39.705Z"
   },
   {
    "duration": 51,
    "start_time": "2024-10-12T09:44:39.720Z"
   },
   {
    "duration": 16,
    "start_time": "2024-10-12T09:44:39.773Z"
   },
   {
    "duration": 6,
    "start_time": "2024-10-12T09:44:39.791Z"
   },
   {
    "duration": 25,
    "start_time": "2024-10-12T09:44:39.801Z"
   },
   {
    "duration": 71,
    "start_time": "2024-10-12T09:44:39.828Z"
   },
   {
    "duration": 12,
    "start_time": "2024-10-12T09:44:39.901Z"
   },
   {
    "duration": 5,
    "start_time": "2024-10-12T09:44:39.916Z"
   },
   {
    "duration": 20,
    "start_time": "2024-10-12T09:44:39.923Z"
   },
   {
    "duration": 34,
    "start_time": "2024-10-12T09:44:39.945Z"
   },
   {
    "duration": 12,
    "start_time": "2024-10-12T09:44:39.981Z"
   },
   {
    "duration": 6,
    "start_time": "2024-10-12T09:44:39.995Z"
   },
   {
    "duration": 48,
    "start_time": "2024-10-12T09:44:40.003Z"
   },
   {
    "duration": 18,
    "start_time": "2024-10-12T09:44:40.053Z"
   },
   {
    "duration": 6,
    "start_time": "2024-10-12T09:44:40.073Z"
   },
   {
    "duration": 24,
    "start_time": "2024-10-12T09:44:40.081Z"
   },
   {
    "duration": 14,
    "start_time": "2024-10-12T09:44:40.107Z"
   },
   {
    "duration": 17,
    "start_time": "2024-10-12T09:44:40.123Z"
   },
   {
    "duration": 42,
    "start_time": "2024-10-12T09:44:40.141Z"
   },
   {
    "duration": 17,
    "start_time": "2024-10-12T09:44:40.184Z"
   },
   {
    "duration": 12,
    "start_time": "2024-10-12T09:44:40.202Z"
   },
   {
    "duration": 57,
    "start_time": "2024-10-12T09:44:40.216Z"
   },
   {
    "duration": 199,
    "start_time": "2024-10-12T09:44:40.276Z"
   },
   {
    "duration": 189,
    "start_time": "2024-10-12T09:44:40.477Z"
   },
   {
    "duration": 8,
    "start_time": "2024-10-12T09:44:40.669Z"
   },
   {
    "duration": 159,
    "start_time": "2024-10-12T09:44:40.679Z"
   },
   {
    "duration": 183,
    "start_time": "2024-10-12T09:44:40.840Z"
   },
   {
    "duration": 194,
    "start_time": "2024-10-12T09:44:41.025Z"
   },
   {
    "duration": 196,
    "start_time": "2024-10-12T09:44:41.222Z"
   },
   {
    "duration": 9,
    "start_time": "2024-10-12T09:44:41.420Z"
   },
   {
    "duration": 168,
    "start_time": "2024-10-12T09:44:41.432Z"
   },
   {
    "duration": 6,
    "start_time": "2024-10-12T09:44:41.604Z"
   },
   {
    "duration": 630,
    "start_time": "2024-10-12T09:44:41.612Z"
   },
   {
    "duration": 14,
    "start_time": "2024-10-12T09:45:59.780Z"
   },
   {
    "duration": 10,
    "start_time": "2024-10-12T09:46:20.557Z"
   },
   {
    "duration": 18,
    "start_time": "2024-10-12T09:48:25.654Z"
   },
   {
    "duration": 14,
    "start_time": "2024-10-12T09:48:39.762Z"
   },
   {
    "duration": 16,
    "start_time": "2024-10-12T09:53:25.376Z"
   },
   {
    "duration": 13,
    "start_time": "2024-10-12T09:53:32.196Z"
   },
   {
    "duration": 9,
    "start_time": "2024-10-12T09:53:38.824Z"
   },
   {
    "duration": 9,
    "start_time": "2024-10-12T09:53:42.840Z"
   },
   {
    "duration": 10,
    "start_time": "2024-10-12T09:53:49.700Z"
   },
   {
    "duration": 9,
    "start_time": "2024-10-12T09:54:07.221Z"
   },
   {
    "duration": 9,
    "start_time": "2024-10-12T09:54:12.411Z"
   },
   {
    "duration": 8,
    "start_time": "2024-10-12T09:54:20.784Z"
   },
   {
    "duration": 13,
    "start_time": "2024-10-12T09:54:25.647Z"
   },
   {
    "duration": 796,
    "start_time": "2024-10-12T09:54:54.704Z"
   },
   {
    "duration": 159,
    "start_time": "2024-10-12T09:54:55.503Z"
   },
   {
    "duration": 63,
    "start_time": "2024-10-12T09:54:55.663Z"
   },
   {
    "duration": 8,
    "start_time": "2024-10-12T09:54:55.728Z"
   },
   {
    "duration": 10,
    "start_time": "2024-10-12T09:54:55.740Z"
   },
   {
    "duration": 20,
    "start_time": "2024-10-12T09:54:55.752Z"
   },
   {
    "duration": 4,
    "start_time": "2024-10-12T09:54:55.774Z"
   },
   {
    "duration": 8,
    "start_time": "2024-10-12T09:54:55.780Z"
   },
   {
    "duration": 9,
    "start_time": "2024-10-12T09:54:55.789Z"
   },
   {
    "duration": 11,
    "start_time": "2024-10-12T09:54:55.799Z"
   },
   {
    "duration": 13,
    "start_time": "2024-10-12T09:54:55.811Z"
   },
   {
    "duration": 50,
    "start_time": "2024-10-12T09:54:55.825Z"
   },
   {
    "duration": 7,
    "start_time": "2024-10-12T09:54:55.878Z"
   },
   {
    "duration": 25,
    "start_time": "2024-10-12T09:54:55.888Z"
   },
   {
    "duration": 67,
    "start_time": "2024-10-12T09:54:55.915Z"
   },
   {
    "duration": 13,
    "start_time": "2024-10-12T09:54:55.984Z"
   },
   {
    "duration": 6,
    "start_time": "2024-10-12T09:54:55.999Z"
   },
   {
    "duration": 19,
    "start_time": "2024-10-12T09:54:56.007Z"
   },
   {
    "duration": 12,
    "start_time": "2024-10-12T09:54:56.028Z"
   },
   {
    "duration": 39,
    "start_time": "2024-10-12T09:54:56.041Z"
   },
   {
    "duration": 7,
    "start_time": "2024-10-12T09:54:56.082Z"
   },
   {
    "duration": 24,
    "start_time": "2024-10-12T09:54:56.091Z"
   },
   {
    "duration": 12,
    "start_time": "2024-10-12T09:54:56.117Z"
   },
   {
    "duration": 39,
    "start_time": "2024-10-12T09:54:56.131Z"
   },
   {
    "duration": 24,
    "start_time": "2024-10-12T09:54:56.172Z"
   },
   {
    "duration": 13,
    "start_time": "2024-10-12T09:54:56.197Z"
   },
   {
    "duration": 14,
    "start_time": "2024-10-12T09:54:56.212Z"
   },
   {
    "duration": 43,
    "start_time": "2024-10-12T09:54:56.228Z"
   },
   {
    "duration": 17,
    "start_time": "2024-10-12T09:54:56.272Z"
   },
   {
    "duration": 9,
    "start_time": "2024-10-12T09:54:56.291Z"
   },
   {
    "duration": 11,
    "start_time": "2024-10-12T09:54:56.302Z"
   },
   {
    "duration": 59,
    "start_time": "2024-10-12T09:54:56.314Z"
   },
   {
    "duration": 5,
    "start_time": "2024-10-12T09:54:56.376Z"
   },
   {
    "duration": 0,
    "start_time": "2024-10-12T09:54:56.383Z"
   },
   {
    "duration": 0,
    "start_time": "2024-10-12T09:54:56.384Z"
   },
   {
    "duration": 0,
    "start_time": "2024-10-12T09:54:56.385Z"
   },
   {
    "duration": 0,
    "start_time": "2024-10-12T09:54:56.386Z"
   },
   {
    "duration": 0,
    "start_time": "2024-10-12T09:54:56.387Z"
   },
   {
    "duration": 0,
    "start_time": "2024-10-12T09:54:56.388Z"
   },
   {
    "duration": 0,
    "start_time": "2024-10-12T09:54:56.389Z"
   },
   {
    "duration": 0,
    "start_time": "2024-10-12T09:54:56.390Z"
   },
   {
    "duration": 0,
    "start_time": "2024-10-12T09:54:56.390Z"
   },
   {
    "duration": 0,
    "start_time": "2024-10-12T09:54:56.391Z"
   },
   {
    "duration": 0,
    "start_time": "2024-10-12T09:54:56.393Z"
   },
   {
    "duration": 8,
    "start_time": "2024-10-12T09:55:09.756Z"
   },
   {
    "duration": 155,
    "start_time": "2024-10-12T09:55:18.422Z"
   },
   {
    "duration": 14,
    "start_time": "2024-10-12T09:55:22.626Z"
   },
   {
    "duration": 9,
    "start_time": "2024-10-12T09:55:26.747Z"
   },
   {
    "duration": 810,
    "start_time": "2024-10-12T09:55:33.088Z"
   },
   {
    "duration": 158,
    "start_time": "2024-10-12T09:55:33.901Z"
   },
   {
    "duration": 69,
    "start_time": "2024-10-12T09:55:34.060Z"
   },
   {
    "duration": 9,
    "start_time": "2024-10-12T09:55:34.131Z"
   },
   {
    "duration": 10,
    "start_time": "2024-10-12T09:55:34.143Z"
   },
   {
    "duration": 5,
    "start_time": "2024-10-12T09:55:34.170Z"
   },
   {
    "duration": 4,
    "start_time": "2024-10-12T09:55:34.176Z"
   },
   {
    "duration": 10,
    "start_time": "2024-10-12T09:55:34.182Z"
   },
   {
    "duration": 9,
    "start_time": "2024-10-12T09:55:34.193Z"
   },
   {
    "duration": 10,
    "start_time": "2024-10-12T09:55:34.203Z"
   },
   {
    "duration": 14,
    "start_time": "2024-10-12T09:55:34.215Z"
   },
   {
    "duration": 53,
    "start_time": "2024-10-12T09:55:34.232Z"
   },
   {
    "duration": 7,
    "start_time": "2024-10-12T09:55:34.286Z"
   },
   {
    "duration": 25,
    "start_time": "2024-10-12T09:55:34.296Z"
   },
   {
    "duration": 72,
    "start_time": "2024-10-12T09:55:34.323Z"
   },
   {
    "duration": 14,
    "start_time": "2024-10-12T09:55:34.396Z"
   },
   {
    "duration": 6,
    "start_time": "2024-10-12T09:55:34.412Z"
   },
   {
    "duration": 23,
    "start_time": "2024-10-12T09:55:34.420Z"
   },
   {
    "duration": 31,
    "start_time": "2024-10-12T09:55:34.444Z"
   },
   {
    "duration": 13,
    "start_time": "2024-10-12T09:55:34.477Z"
   },
   {
    "duration": 7,
    "start_time": "2024-10-12T09:55:34.492Z"
   },
   {
    "duration": 24,
    "start_time": "2024-10-12T09:55:34.500Z"
   },
   {
    "duration": 45,
    "start_time": "2024-10-12T09:55:34.526Z"
   },
   {
    "duration": 7,
    "start_time": "2024-10-12T09:55:34.572Z"
   },
   {
    "duration": 21,
    "start_time": "2024-10-12T09:55:34.581Z"
   },
   {
    "duration": 13,
    "start_time": "2024-10-12T09:55:34.604Z"
   },
   {
    "duration": 15,
    "start_time": "2024-10-12T09:55:34.618Z"
   },
   {
    "duration": 41,
    "start_time": "2024-10-12T09:55:34.634Z"
   },
   {
    "duration": 17,
    "start_time": "2024-10-12T09:55:34.676Z"
   },
   {
    "duration": 10,
    "start_time": "2024-10-12T09:55:34.695Z"
   },
   {
    "duration": 12,
    "start_time": "2024-10-12T09:55:34.707Z"
   },
   {
    "duration": 57,
    "start_time": "2024-10-12T09:55:34.720Z"
   },
   {
    "duration": 5,
    "start_time": "2024-10-12T09:55:34.780Z"
   },
   {
    "duration": 0,
    "start_time": "2024-10-12T09:55:34.787Z"
   },
   {
    "duration": 0,
    "start_time": "2024-10-12T09:55:34.788Z"
   },
   {
    "duration": 0,
    "start_time": "2024-10-12T09:55:34.790Z"
   },
   {
    "duration": 0,
    "start_time": "2024-10-12T09:55:34.791Z"
   },
   {
    "duration": 0,
    "start_time": "2024-10-12T09:55:34.793Z"
   },
   {
    "duration": 0,
    "start_time": "2024-10-12T09:55:34.794Z"
   },
   {
    "duration": 0,
    "start_time": "2024-10-12T09:55:34.796Z"
   },
   {
    "duration": 0,
    "start_time": "2024-10-12T09:55:34.797Z"
   },
   {
    "duration": 0,
    "start_time": "2024-10-12T09:55:34.798Z"
   },
   {
    "duration": 0,
    "start_time": "2024-10-12T09:55:34.799Z"
   },
   {
    "duration": 0,
    "start_time": "2024-10-12T09:55:34.801Z"
   },
   {
    "duration": 28,
    "start_time": "2024-10-12T09:55:44.364Z"
   },
   {
    "duration": 38,
    "start_time": "2024-10-12T09:55:51.184Z"
   },
   {
    "duration": 11,
    "start_time": "2024-10-12T09:56:03.150Z"
   },
   {
    "duration": 13,
    "start_time": "2024-10-12T09:56:14.705Z"
   },
   {
    "duration": 186,
    "start_time": "2024-10-12T09:57:56.358Z"
   },
   {
    "duration": 191,
    "start_time": "2024-10-12T09:57:56.997Z"
   },
   {
    "duration": 9,
    "start_time": "2024-10-12T09:57:57.490Z"
   },
   {
    "duration": 158,
    "start_time": "2024-10-12T09:57:57.652Z"
   },
   {
    "duration": 172,
    "start_time": "2024-10-12T09:57:58.398Z"
   },
   {
    "duration": 182,
    "start_time": "2024-10-12T09:57:58.572Z"
   },
   {
    "duration": 173,
    "start_time": "2024-10-12T09:57:59.381Z"
   },
   {
    "duration": 9,
    "start_time": "2024-10-12T09:58:03.331Z"
   },
   {
    "duration": 158,
    "start_time": "2024-10-12T09:58:03.498Z"
   },
   {
    "duration": 6,
    "start_time": "2024-10-12T09:58:33.845Z"
   },
   {
    "duration": 12,
    "start_time": "2024-10-12T09:59:45.380Z"
   },
   {
    "duration": 215,
    "start_time": "2024-10-12T10:00:31.556Z"
   },
   {
    "duration": 15,
    "start_time": "2024-10-12T10:00:40.244Z"
   },
   {
    "duration": 2713,
    "start_time": "2024-10-13T00:05:14.172Z"
   },
   {
    "duration": 293,
    "start_time": "2024-10-13T00:05:16.887Z"
   },
   {
    "duration": 73,
    "start_time": "2024-10-13T00:05:17.182Z"
   },
   {
    "duration": 8,
    "start_time": "2024-10-13T00:05:17.257Z"
   },
   {
    "duration": 9,
    "start_time": "2024-10-13T00:05:17.267Z"
   },
   {
    "duration": 4,
    "start_time": "2024-10-13T00:05:17.277Z"
   },
   {
    "duration": 4,
    "start_time": "2024-10-13T00:05:17.283Z"
   },
   {
    "duration": 12,
    "start_time": "2024-10-13T00:05:17.315Z"
   },
   {
    "duration": 9,
    "start_time": "2024-10-13T00:05:17.329Z"
   },
   {
    "duration": 9,
    "start_time": "2024-10-13T00:05:17.340Z"
   },
   {
    "duration": 14,
    "start_time": "2024-10-13T00:05:17.351Z"
   },
   {
    "duration": 15,
    "start_time": "2024-10-13T00:05:17.366Z"
   },
   {
    "duration": 31,
    "start_time": "2024-10-13T00:05:17.383Z"
   },
   {
    "duration": 31,
    "start_time": "2024-10-13T00:05:17.416Z"
   },
   {
    "duration": 46,
    "start_time": "2024-10-13T00:05:17.449Z"
   },
   {
    "duration": 15,
    "start_time": "2024-10-13T00:05:17.511Z"
   },
   {
    "duration": 15,
    "start_time": "2024-10-13T00:05:17.528Z"
   },
   {
    "duration": 21,
    "start_time": "2024-10-13T00:05:17.545Z"
   },
   {
    "duration": 11,
    "start_time": "2024-10-13T00:05:17.567Z"
   },
   {
    "duration": 13,
    "start_time": "2024-10-13T00:05:17.580Z"
   },
   {
    "duration": 46,
    "start_time": "2024-10-13T00:05:17.594Z"
   },
   {
    "duration": 25,
    "start_time": "2024-10-13T00:05:17.642Z"
   },
   {
    "duration": 11,
    "start_time": "2024-10-13T00:05:17.669Z"
   },
   {
    "duration": 6,
    "start_time": "2024-10-13T00:05:17.682Z"
   },
   {
    "duration": 25,
    "start_time": "2024-10-13T00:05:17.690Z"
   },
   {
    "duration": 19,
    "start_time": "2024-10-13T00:05:17.716Z"
   },
   {
    "duration": 16,
    "start_time": "2024-10-13T00:05:17.736Z"
   },
   {
    "duration": 14,
    "start_time": "2024-10-13T00:05:17.756Z"
   },
   {
    "duration": 17,
    "start_time": "2024-10-13T00:05:17.772Z"
   },
   {
    "duration": 41,
    "start_time": "2024-10-13T00:05:17.791Z"
   },
   {
    "duration": 30,
    "start_time": "2024-10-13T00:05:17.843Z"
   },
   {
    "duration": 212,
    "start_time": "2024-10-13T00:05:17.875Z"
   },
   {
    "duration": 198,
    "start_time": "2024-10-13T00:05:18.089Z"
   },
   {
    "duration": 8,
    "start_time": "2024-10-13T00:05:18.288Z"
   },
   {
    "duration": 128,
    "start_time": "2024-10-13T00:05:18.298Z"
   },
   {
    "duration": 207,
    "start_time": "2024-10-13T00:05:18.429Z"
   },
   {
    "duration": 200,
    "start_time": "2024-10-13T00:05:18.640Z"
   },
   {
    "duration": 197,
    "start_time": "2024-10-13T00:05:18.842Z"
   },
   {
    "duration": 9,
    "start_time": "2024-10-13T00:05:19.042Z"
   },
   {
    "duration": 226,
    "start_time": "2024-10-13T00:05:19.053Z"
   },
   {
    "duration": 5,
    "start_time": "2024-10-13T00:05:19.281Z"
   },
   {
    "duration": 698,
    "start_time": "2024-10-13T00:05:19.288Z"
   },
   {
    "duration": 815,
    "start_time": "2024-10-13T00:23:43.828Z"
   },
   {
    "duration": 247,
    "start_time": "2024-10-13T00:23:44.646Z"
   },
   {
    "duration": 98,
    "start_time": "2024-10-13T00:23:44.895Z"
   },
   {
    "duration": 10,
    "start_time": "2024-10-13T00:23:44.995Z"
   },
   {
    "duration": 31,
    "start_time": "2024-10-13T00:23:45.008Z"
   },
   {
    "duration": 10,
    "start_time": "2024-10-13T00:23:45.041Z"
   },
   {
    "duration": 5,
    "start_time": "2024-10-13T00:23:45.054Z"
   },
   {
    "duration": 10,
    "start_time": "2024-10-13T00:23:45.067Z"
   },
   {
    "duration": 12,
    "start_time": "2024-10-13T00:23:45.078Z"
   },
   {
    "duration": 9,
    "start_time": "2024-10-13T00:23:45.093Z"
   },
   {
    "duration": 36,
    "start_time": "2024-10-13T00:23:45.104Z"
   },
   {
    "duration": 30,
    "start_time": "2024-10-13T00:23:45.147Z"
   },
   {
    "duration": 7,
    "start_time": "2024-10-13T00:23:45.179Z"
   },
   {
    "duration": 53,
    "start_time": "2024-10-13T00:23:45.190Z"
   },
   {
    "duration": 87,
    "start_time": "2024-10-13T00:23:45.256Z"
   },
   {
    "duration": 14,
    "start_time": "2024-10-13T00:23:45.355Z"
   },
   {
    "duration": 7,
    "start_time": "2024-10-13T00:23:45.370Z"
   },
   {
    "duration": 21,
    "start_time": "2024-10-13T00:23:45.378Z"
   },
   {
    "duration": 15,
    "start_time": "2024-10-13T00:23:45.400Z"
   },
   {
    "duration": 23,
    "start_time": "2024-10-13T00:23:45.416Z"
   },
   {
    "duration": 15,
    "start_time": "2024-10-13T00:23:45.440Z"
   },
   {
    "duration": 39,
    "start_time": "2024-10-13T00:23:45.456Z"
   },
   {
    "duration": 13,
    "start_time": "2024-10-13T00:23:45.497Z"
   },
   {
    "duration": 18,
    "start_time": "2024-10-13T00:23:45.519Z"
   },
   {
    "duration": 32,
    "start_time": "2024-10-13T00:23:45.540Z"
   },
   {
    "duration": 19,
    "start_time": "2024-10-13T00:23:45.574Z"
   },
   {
    "duration": 15,
    "start_time": "2024-10-13T00:23:45.595Z"
   },
   {
    "duration": 46,
    "start_time": "2024-10-13T00:23:45.611Z"
   },
   {
    "duration": 19,
    "start_time": "2024-10-13T00:23:45.665Z"
   },
   {
    "duration": 11,
    "start_time": "2024-10-13T00:23:45.686Z"
   },
   {
    "duration": 46,
    "start_time": "2024-10-13T00:23:45.699Z"
   },
   {
    "duration": 218,
    "start_time": "2024-10-13T00:23:45.746Z"
   },
   {
    "duration": 231,
    "start_time": "2024-10-13T00:23:45.966Z"
   },
   {
    "duration": 28,
    "start_time": "2024-10-13T00:23:46.199Z"
   },
   {
    "duration": 190,
    "start_time": "2024-10-13T00:23:46.229Z"
   },
   {
    "duration": 275,
    "start_time": "2024-10-13T00:23:46.421Z"
   },
   {
    "duration": 211,
    "start_time": "2024-10-13T00:23:46.698Z"
   },
   {
    "duration": 218,
    "start_time": "2024-10-13T00:23:46.919Z"
   },
   {
    "duration": 14,
    "start_time": "2024-10-13T00:23:47.140Z"
   },
   {
    "duration": 201,
    "start_time": "2024-10-13T00:23:47.160Z"
   },
   {
    "duration": 9,
    "start_time": "2024-10-13T00:23:47.366Z"
   },
   {
    "duration": 156,
    "start_time": "2024-10-13T17:34:48.522Z"
   },
   {
    "duration": 2498,
    "start_time": "2024-10-13T17:34:58.648Z"
   },
   {
    "duration": 265,
    "start_time": "2024-10-13T17:35:01.148Z"
   },
   {
    "duration": 63,
    "start_time": "2024-10-13T17:35:01.415Z"
   },
   {
    "duration": 8,
    "start_time": "2024-10-13T17:35:01.481Z"
   },
   {
    "duration": 10,
    "start_time": "2024-10-13T17:35:01.490Z"
   },
   {
    "duration": 24,
    "start_time": "2024-10-13T17:35:01.501Z"
   },
   {
    "duration": 5,
    "start_time": "2024-10-13T17:35:01.527Z"
   },
   {
    "duration": 8,
    "start_time": "2024-10-13T17:35:01.533Z"
   },
   {
    "duration": 8,
    "start_time": "2024-10-13T17:35:01.542Z"
   },
   {
    "duration": 7,
    "start_time": "2024-10-13T17:35:01.553Z"
   },
   {
    "duration": 14,
    "start_time": "2024-10-13T17:35:01.562Z"
   },
   {
    "duration": 52,
    "start_time": "2024-10-13T17:35:01.577Z"
   },
   {
    "duration": 6,
    "start_time": "2024-10-13T17:35:01.631Z"
   },
   {
    "duration": 234,
    "start_time": "2024-10-13T17:35:01.638Z"
   },
   {
    "duration": 0,
    "start_time": "2024-10-13T17:35:01.875Z"
   },
   {
    "duration": 0,
    "start_time": "2024-10-13T17:35:01.876Z"
   },
   {
    "duration": 0,
    "start_time": "2024-10-13T17:35:01.878Z"
   },
   {
    "duration": 0,
    "start_time": "2024-10-13T17:35:01.879Z"
   },
   {
    "duration": 0,
    "start_time": "2024-10-13T17:35:01.880Z"
   },
   {
    "duration": 0,
    "start_time": "2024-10-13T17:35:01.881Z"
   },
   {
    "duration": 0,
    "start_time": "2024-10-13T17:35:01.882Z"
   },
   {
    "duration": 0,
    "start_time": "2024-10-13T17:35:01.883Z"
   },
   {
    "duration": 0,
    "start_time": "2024-10-13T17:35:01.884Z"
   },
   {
    "duration": 0,
    "start_time": "2024-10-13T17:35:01.885Z"
   },
   {
    "duration": 0,
    "start_time": "2024-10-13T17:35:01.887Z"
   },
   {
    "duration": 0,
    "start_time": "2024-10-13T17:35:01.887Z"
   },
   {
    "duration": 0,
    "start_time": "2024-10-13T17:35:01.888Z"
   },
   {
    "duration": 0,
    "start_time": "2024-10-13T17:35:01.890Z"
   },
   {
    "duration": 0,
    "start_time": "2024-10-13T17:35:01.891Z"
   },
   {
    "duration": 0,
    "start_time": "2024-10-13T17:35:01.924Z"
   },
   {
    "duration": 0,
    "start_time": "2024-10-13T17:35:01.925Z"
   },
   {
    "duration": 0,
    "start_time": "2024-10-13T17:35:01.926Z"
   },
   {
    "duration": 0,
    "start_time": "2024-10-13T17:35:01.927Z"
   },
   {
    "duration": 0,
    "start_time": "2024-10-13T17:35:01.928Z"
   },
   {
    "duration": 0,
    "start_time": "2024-10-13T17:35:01.930Z"
   },
   {
    "duration": 0,
    "start_time": "2024-10-13T17:35:01.934Z"
   },
   {
    "duration": 0,
    "start_time": "2024-10-13T17:35:01.935Z"
   },
   {
    "duration": 0,
    "start_time": "2024-10-13T17:35:01.936Z"
   },
   {
    "duration": 0,
    "start_time": "2024-10-13T17:35:01.937Z"
   },
   {
    "duration": 0,
    "start_time": "2024-10-13T17:35:01.939Z"
   },
   {
    "duration": 0,
    "start_time": "2024-10-13T17:35:01.941Z"
   },
   {
    "duration": 25,
    "start_time": "2024-10-13T17:35:27.451Z"
   },
   {
    "duration": 336,
    "start_time": "2024-10-13T17:37:33.507Z"
   },
   {
    "duration": 40,
    "start_time": "2024-10-13T17:37:45.139Z"
   },
   {
    "duration": 37,
    "start_time": "2024-10-13T17:44:09.519Z"
   },
   {
    "duration": 131,
    "start_time": "2024-10-13T17:48:13.874Z"
   },
   {
    "duration": 121,
    "start_time": "2024-10-13T17:50:02.940Z"
   },
   {
    "duration": 42,
    "start_time": "2024-10-13T17:51:45.890Z"
   },
   {
    "duration": 40,
    "start_time": "2024-10-13T18:01:45.770Z"
   },
   {
    "duration": 756,
    "start_time": "2024-10-14T01:14:30.184Z"
   },
   {
    "duration": 158,
    "start_time": "2024-10-14T01:14:30.943Z"
   },
   {
    "duration": 64,
    "start_time": "2024-10-14T01:14:31.103Z"
   },
   {
    "duration": 8,
    "start_time": "2024-10-14T01:14:31.170Z"
   },
   {
    "duration": 25,
    "start_time": "2024-10-14T01:14:31.180Z"
   },
   {
    "duration": 4,
    "start_time": "2024-10-14T01:14:31.207Z"
   },
   {
    "duration": 5,
    "start_time": "2024-10-14T01:14:31.213Z"
   },
   {
    "duration": 9,
    "start_time": "2024-10-14T01:14:31.219Z"
   },
   {
    "duration": 8,
    "start_time": "2024-10-14T01:14:31.229Z"
   },
   {
    "duration": 8,
    "start_time": "2024-10-14T01:14:31.240Z"
   },
   {
    "duration": 55,
    "start_time": "2024-10-14T01:14:31.251Z"
   },
   {
    "duration": 17,
    "start_time": "2024-10-14T01:14:31.307Z"
   },
   {
    "duration": 7,
    "start_time": "2024-10-14T01:14:31.325Z"
   },
   {
    "duration": 32,
    "start_time": "2024-10-14T01:14:31.333Z"
   },
   {
    "duration": 68,
    "start_time": "2024-10-14T01:14:31.366Z"
   },
   {
    "duration": 12,
    "start_time": "2024-10-14T01:14:31.436Z"
   },
   {
    "duration": 6,
    "start_time": "2024-10-14T01:14:31.450Z"
   },
   {
    "duration": 20,
    "start_time": "2024-10-14T01:14:31.458Z"
   },
   {
    "duration": 31,
    "start_time": "2024-10-14T01:14:31.480Z"
   },
   {
    "duration": 13,
    "start_time": "2024-10-14T01:14:31.513Z"
   },
   {
    "duration": 6,
    "start_time": "2024-10-14T01:14:31.528Z"
   },
   {
    "duration": 25,
    "start_time": "2024-10-14T01:14:31.536Z"
   },
   {
    "duration": 43,
    "start_time": "2024-10-14T01:14:31.563Z"
   },
   {
    "duration": 7,
    "start_time": "2024-10-14T01:14:31.607Z"
   },
   {
    "duration": 27,
    "start_time": "2024-10-14T01:14:31.615Z"
   },
   {
    "duration": 15,
    "start_time": "2024-10-14T01:14:31.644Z"
   },
   {
    "duration": 15,
    "start_time": "2024-10-14T01:14:31.661Z"
   },
   {
    "duration": 16,
    "start_time": "2024-10-14T01:14:31.709Z"
   },
   {
    "duration": 18,
    "start_time": "2024-10-14T01:14:31.727Z"
   },
   {
    "duration": 13,
    "start_time": "2024-10-14T01:14:31.747Z"
   },
   {
    "duration": 53,
    "start_time": "2024-10-14T01:14:31.762Z"
   },
   {
    "duration": 391,
    "start_time": "2024-10-14T01:14:31.817Z"
   },
   {
    "duration": 0,
    "start_time": "2024-10-14T01:14:32.217Z"
   },
   {
    "duration": 0,
    "start_time": "2024-10-14T01:14:32.218Z"
   },
   {
    "duration": 0,
    "start_time": "2024-10-14T01:14:32.219Z"
   },
   {
    "duration": 0,
    "start_time": "2024-10-14T01:14:32.220Z"
   },
   {
    "duration": 0,
    "start_time": "2024-10-14T01:14:32.221Z"
   },
   {
    "duration": 1,
    "start_time": "2024-10-14T01:14:32.222Z"
   },
   {
    "duration": 0,
    "start_time": "2024-10-14T01:14:32.224Z"
   },
   {
    "duration": 0,
    "start_time": "2024-10-14T01:14:32.225Z"
   },
   {
    "duration": 0,
    "start_time": "2024-10-14T01:14:32.226Z"
   },
   {
    "duration": 781,
    "start_time": "2024-10-14T01:26:24.676Z"
   },
   {
    "duration": 181,
    "start_time": "2024-10-14T01:26:25.460Z"
   },
   {
    "duration": 87,
    "start_time": "2024-10-14T01:26:25.643Z"
   },
   {
    "duration": 10,
    "start_time": "2024-10-14T01:26:25.733Z"
   },
   {
    "duration": 12,
    "start_time": "2024-10-14T01:26:25.745Z"
   },
   {
    "duration": 6,
    "start_time": "2024-10-14T01:26:25.759Z"
   },
   {
    "duration": 5,
    "start_time": "2024-10-14T01:26:25.768Z"
   },
   {
    "duration": 39,
    "start_time": "2024-10-14T01:26:25.775Z"
   },
   {
    "duration": 9,
    "start_time": "2024-10-14T01:26:25.816Z"
   },
   {
    "duration": 11,
    "start_time": "2024-10-14T01:26:25.828Z"
   },
   {
    "duration": 14,
    "start_time": "2024-10-14T01:26:25.840Z"
   },
   {
    "duration": 15,
    "start_time": "2024-10-14T01:26:25.856Z"
   },
   {
    "duration": 7,
    "start_time": "2024-10-14T01:26:25.905Z"
   },
   {
    "duration": 36,
    "start_time": "2024-10-14T01:26:25.914Z"
   },
   {
    "duration": 73,
    "start_time": "2024-10-14T01:26:25.952Z"
   },
   {
    "duration": 16,
    "start_time": "2024-10-14T01:26:26.027Z"
   },
   {
    "duration": 6,
    "start_time": "2024-10-14T01:26:26.046Z"
   },
   {
    "duration": 23,
    "start_time": "2024-10-14T01:26:26.054Z"
   },
   {
    "duration": 31,
    "start_time": "2024-10-14T01:26:26.079Z"
   },
   {
    "duration": 14,
    "start_time": "2024-10-14T01:26:26.112Z"
   },
   {
    "duration": 7,
    "start_time": "2024-10-14T01:26:26.127Z"
   },
   {
    "duration": 25,
    "start_time": "2024-10-14T01:26:26.136Z"
   },
   {
    "duration": 43,
    "start_time": "2024-10-14T01:26:26.163Z"
   },
   {
    "duration": 7,
    "start_time": "2024-10-14T01:26:26.208Z"
   },
   {
    "duration": 28,
    "start_time": "2024-10-14T01:26:26.217Z"
   },
   {
    "duration": 16,
    "start_time": "2024-10-14T01:26:26.247Z"
   },
   {
    "duration": 44,
    "start_time": "2024-10-14T01:26:26.265Z"
   },
   {
    "duration": 273,
    "start_time": "2024-10-14T01:26:26.313Z"
   },
   {
    "duration": 0,
    "start_time": "2024-10-14T01:26:26.588Z"
   },
   {
    "duration": 0,
    "start_time": "2024-10-14T01:26:26.589Z"
   },
   {
    "duration": 0,
    "start_time": "2024-10-14T01:26:26.590Z"
   },
   {
    "duration": 0,
    "start_time": "2024-10-14T01:26:26.591Z"
   },
   {
    "duration": 0,
    "start_time": "2024-10-14T01:26:26.605Z"
   },
   {
    "duration": 0,
    "start_time": "2024-10-14T01:26:26.606Z"
   },
   {
    "duration": 0,
    "start_time": "2024-10-14T01:26:26.608Z"
   },
   {
    "duration": 1,
    "start_time": "2024-10-14T01:26:26.608Z"
   },
   {
    "duration": 0,
    "start_time": "2024-10-14T01:26:26.609Z"
   },
   {
    "duration": 0,
    "start_time": "2024-10-14T01:26:26.610Z"
   },
   {
    "duration": 0,
    "start_time": "2024-10-14T01:26:26.611Z"
   },
   {
    "duration": 0,
    "start_time": "2024-10-14T01:26:26.613Z"
   },
   {
    "duration": 12,
    "start_time": "2024-10-14T01:28:02.969Z"
   },
   {
    "duration": 782,
    "start_time": "2024-10-14T01:29:17.955Z"
   },
   {
    "duration": 157,
    "start_time": "2024-10-14T01:29:18.740Z"
   },
   {
    "duration": 64,
    "start_time": "2024-10-14T01:29:18.899Z"
   },
   {
    "duration": 7,
    "start_time": "2024-10-14T01:29:18.966Z"
   },
   {
    "duration": 9,
    "start_time": "2024-10-14T01:29:18.975Z"
   },
   {
    "duration": 20,
    "start_time": "2024-10-14T01:29:18.986Z"
   },
   {
    "duration": 4,
    "start_time": "2024-10-14T01:29:19.008Z"
   },
   {
    "duration": 9,
    "start_time": "2024-10-14T01:29:19.014Z"
   },
   {
    "duration": 8,
    "start_time": "2024-10-14T01:29:19.025Z"
   },
   {
    "duration": 9,
    "start_time": "2024-10-14T01:29:19.037Z"
   },
   {
    "duration": 13,
    "start_time": "2024-10-14T01:29:19.048Z"
   },
   {
    "duration": 55,
    "start_time": "2024-10-14T01:29:19.063Z"
   },
   {
    "duration": 7,
    "start_time": "2024-10-14T01:29:19.120Z"
   },
   {
    "duration": 31,
    "start_time": "2024-10-14T01:29:19.129Z"
   },
   {
    "duration": 68,
    "start_time": "2024-10-14T01:29:19.162Z"
   },
   {
    "duration": 11,
    "start_time": "2024-10-14T01:29:19.232Z"
   },
   {
    "duration": 6,
    "start_time": "2024-10-14T01:29:19.245Z"
   },
   {
    "duration": 21,
    "start_time": "2024-10-14T01:29:19.252Z"
   },
   {
    "duration": 35,
    "start_time": "2024-10-14T01:29:19.274Z"
   },
   {
    "duration": 13,
    "start_time": "2024-10-14T01:29:19.311Z"
   },
   {
    "duration": 7,
    "start_time": "2024-10-14T01:29:19.326Z"
   },
   {
    "duration": 25,
    "start_time": "2024-10-14T01:29:19.334Z"
   },
   {
    "duration": 13,
    "start_time": "2024-10-14T01:29:19.361Z"
   },
   {
    "duration": 8,
    "start_time": "2024-10-14T01:29:19.404Z"
   },
   {
    "duration": 26,
    "start_time": "2024-10-14T01:29:19.413Z"
   },
   {
    "duration": 297,
    "start_time": "2024-10-14T01:29:19.442Z"
   },
   {
    "duration": 0,
    "start_time": "2024-10-14T01:29:19.742Z"
   },
   {
    "duration": 0,
    "start_time": "2024-10-14T01:29:19.742Z"
   },
   {
    "duration": 0,
    "start_time": "2024-10-14T01:29:19.744Z"
   },
   {
    "duration": 0,
    "start_time": "2024-10-14T01:29:19.746Z"
   },
   {
    "duration": 0,
    "start_time": "2024-10-14T01:29:19.747Z"
   },
   {
    "duration": 0,
    "start_time": "2024-10-14T01:29:19.748Z"
   },
   {
    "duration": 0,
    "start_time": "2024-10-14T01:29:19.750Z"
   },
   {
    "duration": 0,
    "start_time": "2024-10-14T01:29:19.751Z"
   },
   {
    "duration": 0,
    "start_time": "2024-10-14T01:29:19.753Z"
   },
   {
    "duration": 0,
    "start_time": "2024-10-14T01:29:19.754Z"
   },
   {
    "duration": 0,
    "start_time": "2024-10-14T01:29:19.755Z"
   },
   {
    "duration": 0,
    "start_time": "2024-10-14T01:29:19.756Z"
   },
   {
    "duration": 0,
    "start_time": "2024-10-14T01:29:19.757Z"
   },
   {
    "duration": 0,
    "start_time": "2024-10-14T01:29:19.758Z"
   },
   {
    "duration": 21,
    "start_time": "2024-10-14T01:30:06.323Z"
   },
   {
    "duration": 13,
    "start_time": "2024-10-14T01:31:19.028Z"
   },
   {
    "duration": 15,
    "start_time": "2024-10-14T01:32:59.541Z"
   },
   {
    "duration": 17,
    "start_time": "2024-10-14T01:33:10.198Z"
   },
   {
    "duration": 812,
    "start_time": "2024-10-14T01:33:36.131Z"
   },
   {
    "duration": 159,
    "start_time": "2024-10-14T01:33:36.945Z"
   },
   {
    "duration": 64,
    "start_time": "2024-10-14T01:33:37.106Z"
   },
   {
    "duration": 7,
    "start_time": "2024-10-14T01:33:37.172Z"
   },
   {
    "duration": 23,
    "start_time": "2024-10-14T01:33:37.183Z"
   },
   {
    "duration": 5,
    "start_time": "2024-10-14T01:33:37.208Z"
   },
   {
    "duration": 5,
    "start_time": "2024-10-14T01:33:37.215Z"
   },
   {
    "duration": 8,
    "start_time": "2024-10-14T01:33:37.222Z"
   },
   {
    "duration": 9,
    "start_time": "2024-10-14T01:33:37.232Z"
   },
   {
    "duration": 8,
    "start_time": "2024-10-14T01:33:37.243Z"
   },
   {
    "duration": 58,
    "start_time": "2024-10-14T01:33:37.253Z"
   },
   {
    "duration": 16,
    "start_time": "2024-10-14T01:33:37.314Z"
   },
   {
    "duration": 7,
    "start_time": "2024-10-14T01:33:37.331Z"
   },
   {
    "duration": 31,
    "start_time": "2024-10-14T01:33:37.343Z"
   },
   {
    "duration": 69,
    "start_time": "2024-10-14T01:33:37.375Z"
   },
   {
    "duration": 12,
    "start_time": "2024-10-14T01:33:37.446Z"
   },
   {
    "duration": 6,
    "start_time": "2024-10-14T01:33:37.459Z"
   },
   {
    "duration": 40,
    "start_time": "2024-10-14T01:33:37.467Z"
   },
   {
    "duration": 11,
    "start_time": "2024-10-14T01:33:37.509Z"
   },
   {
    "duration": 13,
    "start_time": "2024-10-14T01:33:37.522Z"
   },
   {
    "duration": 8,
    "start_time": "2024-10-14T01:33:37.536Z"
   },
   {
    "duration": 26,
    "start_time": "2024-10-14T01:33:37.546Z"
   },
   {
    "duration": 41,
    "start_time": "2024-10-14T01:33:37.574Z"
   },
   {
    "duration": 7,
    "start_time": "2024-10-14T01:33:37.617Z"
   },
   {
    "duration": 25,
    "start_time": "2024-10-14T01:33:37.626Z"
   },
   {
    "duration": 16,
    "start_time": "2024-10-14T01:33:37.652Z"
   },
   {
    "duration": 298,
    "start_time": "2024-10-14T01:33:37.670Z"
   },
   {
    "duration": 0,
    "start_time": "2024-10-14T01:33:37.970Z"
   },
   {
    "duration": 0,
    "start_time": "2024-10-14T01:33:37.971Z"
   },
   {
    "duration": 0,
    "start_time": "2024-10-14T01:33:37.972Z"
   },
   {
    "duration": 0,
    "start_time": "2024-10-14T01:33:37.973Z"
   },
   {
    "duration": 0,
    "start_time": "2024-10-14T01:33:37.974Z"
   },
   {
    "duration": 0,
    "start_time": "2024-10-14T01:33:37.975Z"
   },
   {
    "duration": 0,
    "start_time": "2024-10-14T01:33:37.976Z"
   },
   {
    "duration": 0,
    "start_time": "2024-10-14T01:33:37.977Z"
   },
   {
    "duration": 0,
    "start_time": "2024-10-14T01:33:37.978Z"
   },
   {
    "duration": 0,
    "start_time": "2024-10-14T01:33:37.979Z"
   },
   {
    "duration": 0,
    "start_time": "2024-10-14T01:33:37.980Z"
   },
   {
    "duration": 0,
    "start_time": "2024-10-14T01:33:37.981Z"
   },
   {
    "duration": 0,
    "start_time": "2024-10-14T01:33:38.006Z"
   },
   {
    "duration": 16,
    "start_time": "2024-10-14T01:34:21.359Z"
   },
   {
    "duration": 19,
    "start_time": "2024-10-14T01:34:35.260Z"
   },
   {
    "duration": 22,
    "start_time": "2024-10-14T01:35:02.746Z"
   },
   {
    "duration": 21,
    "start_time": "2024-10-14T01:35:46.923Z"
   },
   {
    "duration": 22,
    "start_time": "2024-10-14T01:36:11.278Z"
   },
   {
    "duration": 22,
    "start_time": "2024-10-14T01:36:40.638Z"
   },
   {
    "duration": 771,
    "start_time": "2024-10-14T01:36:58.274Z"
   },
   {
    "duration": 160,
    "start_time": "2024-10-14T01:36:59.048Z"
   },
   {
    "duration": 64,
    "start_time": "2024-10-14T01:36:59.209Z"
   },
   {
    "duration": 8,
    "start_time": "2024-10-14T01:36:59.276Z"
   },
   {
    "duration": 25,
    "start_time": "2024-10-14T01:36:59.285Z"
   },
   {
    "duration": 4,
    "start_time": "2024-10-14T01:36:59.312Z"
   },
   {
    "duration": 5,
    "start_time": "2024-10-14T01:36:59.318Z"
   },
   {
    "duration": 8,
    "start_time": "2024-10-14T01:36:59.324Z"
   },
   {
    "duration": 8,
    "start_time": "2024-10-14T01:36:59.334Z"
   },
   {
    "duration": 8,
    "start_time": "2024-10-14T01:36:59.346Z"
   },
   {
    "duration": 50,
    "start_time": "2024-10-14T01:36:59.355Z"
   },
   {
    "duration": 16,
    "start_time": "2024-10-14T01:36:59.407Z"
   },
   {
    "duration": 7,
    "start_time": "2024-10-14T01:36:59.424Z"
   },
   {
    "duration": 31,
    "start_time": "2024-10-14T01:36:59.433Z"
   },
   {
    "duration": 71,
    "start_time": "2024-10-14T01:36:59.465Z"
   },
   {
    "duration": 12,
    "start_time": "2024-10-14T01:36:59.538Z"
   },
   {
    "duration": 6,
    "start_time": "2024-10-14T01:36:59.551Z"
   },
   {
    "duration": 21,
    "start_time": "2024-10-14T01:36:59.558Z"
   },
   {
    "duration": 33,
    "start_time": "2024-10-14T01:36:59.581Z"
   },
   {
    "duration": 15,
    "start_time": "2024-10-14T01:36:59.615Z"
   },
   {
    "duration": 6,
    "start_time": "2024-10-14T01:36:59.632Z"
   },
   {
    "duration": 25,
    "start_time": "2024-10-14T01:36:59.640Z"
   },
   {
    "duration": 41,
    "start_time": "2024-10-14T01:36:59.667Z"
   },
   {
    "duration": 7,
    "start_time": "2024-10-14T01:36:59.709Z"
   },
   {
    "duration": 25,
    "start_time": "2024-10-14T01:36:59.718Z"
   },
   {
    "duration": 16,
    "start_time": "2024-10-14T01:36:59.745Z"
   },
   {
    "duration": 43,
    "start_time": "2024-10-14T01:36:59.763Z"
   },
   {
    "duration": 22,
    "start_time": "2024-10-14T01:36:59.810Z"
   },
   {
    "duration": 4,
    "start_time": "2024-10-14T01:36:59.834Z"
   },
   {
    "duration": 0,
    "start_time": "2024-10-14T01:36:59.840Z"
   },
   {
    "duration": 0,
    "start_time": "2024-10-14T01:36:59.841Z"
   },
   {
    "duration": 0,
    "start_time": "2024-10-14T01:36:59.842Z"
   },
   {
    "duration": 0,
    "start_time": "2024-10-14T01:36:59.842Z"
   },
   {
    "duration": 0,
    "start_time": "2024-10-14T01:36:59.844Z"
   },
   {
    "duration": 0,
    "start_time": "2024-10-14T01:36:59.845Z"
   },
   {
    "duration": 0,
    "start_time": "2024-10-14T01:36:59.846Z"
   },
   {
    "duration": 0,
    "start_time": "2024-10-14T01:36:59.847Z"
   },
   {
    "duration": 0,
    "start_time": "2024-10-14T01:36:59.847Z"
   },
   {
    "duration": 0,
    "start_time": "2024-10-14T01:36:59.848Z"
   },
   {
    "duration": 0,
    "start_time": "2024-10-14T01:36:59.849Z"
   },
   {
    "duration": 266,
    "start_time": "2024-10-14T01:50:49.407Z"
   },
   {
    "duration": 24,
    "start_time": "2024-10-14T01:50:59.257Z"
   },
   {
    "duration": 43,
    "start_time": "2024-10-14T01:56:44.339Z"
   },
   {
    "duration": 39,
    "start_time": "2024-10-14T02:15:51.333Z"
   },
   {
    "duration": 770,
    "start_time": "2024-10-14T02:16:41.781Z"
   },
   {
    "duration": 161,
    "start_time": "2024-10-14T02:16:42.554Z"
   },
   {
    "duration": 65,
    "start_time": "2024-10-14T02:16:42.717Z"
   },
   {
    "duration": 8,
    "start_time": "2024-10-14T02:16:42.785Z"
   },
   {
    "duration": 24,
    "start_time": "2024-10-14T02:16:42.794Z"
   },
   {
    "duration": 5,
    "start_time": "2024-10-14T02:16:42.819Z"
   },
   {
    "duration": 5,
    "start_time": "2024-10-14T02:16:42.825Z"
   },
   {
    "duration": 7,
    "start_time": "2024-10-14T02:16:42.832Z"
   },
   {
    "duration": 8,
    "start_time": "2024-10-14T02:16:42.841Z"
   },
   {
    "duration": 8,
    "start_time": "2024-10-14T02:16:42.853Z"
   },
   {
    "duration": 55,
    "start_time": "2024-10-14T02:16:42.863Z"
   },
   {
    "duration": 19,
    "start_time": "2024-10-14T02:16:42.920Z"
   },
   {
    "duration": 7,
    "start_time": "2024-10-14T02:16:42.942Z"
   },
   {
    "duration": 33,
    "start_time": "2024-10-14T02:16:42.951Z"
   },
   {
    "duration": 66,
    "start_time": "2024-10-14T02:16:42.985Z"
   },
   {
    "duration": 11,
    "start_time": "2024-10-14T02:16:43.053Z"
   },
   {
    "duration": 6,
    "start_time": "2024-10-14T02:16:43.066Z"
   },
   {
    "duration": 49,
    "start_time": "2024-10-14T02:16:43.073Z"
   },
   {
    "duration": 11,
    "start_time": "2024-10-14T02:16:43.125Z"
   },
   {
    "duration": 13,
    "start_time": "2024-10-14T02:16:43.137Z"
   },
   {
    "duration": 7,
    "start_time": "2024-10-14T02:16:43.152Z"
   },
   {
    "duration": 51,
    "start_time": "2024-10-14T02:16:43.160Z"
   },
   {
    "duration": 13,
    "start_time": "2024-10-14T02:16:43.213Z"
   },
   {
    "duration": 6,
    "start_time": "2024-10-14T02:16:43.228Z"
   },
   {
    "duration": 27,
    "start_time": "2024-10-14T02:16:43.236Z"
   },
   {
    "duration": 42,
    "start_time": "2024-10-14T02:16:43.264Z"
   },
   {
    "duration": 17,
    "start_time": "2024-10-14T02:16:43.308Z"
   },
   {
    "duration": 22,
    "start_time": "2024-10-14T02:16:43.330Z"
   },
   {
    "duration": 22,
    "start_time": "2024-10-14T02:16:43.354Z"
   },
   {
    "duration": 61,
    "start_time": "2024-10-14T02:16:43.378Z"
   },
   {
    "duration": 245,
    "start_time": "2024-10-14T02:16:43.440Z"
   },
   {
    "duration": 195,
    "start_time": "2024-10-14T02:16:43.686Z"
   },
   {
    "duration": 8,
    "start_time": "2024-10-14T02:16:43.882Z"
   },
   {
    "duration": 129,
    "start_time": "2024-10-14T02:16:43.891Z"
   },
   {
    "duration": 220,
    "start_time": "2024-10-14T02:16:44.022Z"
   },
   {
    "duration": 179,
    "start_time": "2024-10-14T02:16:44.244Z"
   },
   {
    "duration": 187,
    "start_time": "2024-10-14T02:16:44.424Z"
   },
   {
    "duration": 11,
    "start_time": "2024-10-14T02:16:44.613Z"
   },
   {
    "duration": 175,
    "start_time": "2024-10-14T02:16:44.626Z"
   },
   {
    "duration": 6,
    "start_time": "2024-10-14T02:16:44.804Z"
   },
   {
    "duration": 138,
    "start_time": "2024-10-14T02:19:51.887Z"
   },
   {
    "duration": 141,
    "start_time": "2024-10-14T02:20:15.513Z"
   },
   {
    "duration": 139,
    "start_time": "2024-10-14T02:20:34.327Z"
   },
   {
    "duration": 145,
    "start_time": "2024-10-14T02:21:46.929Z"
   },
   {
    "duration": 239,
    "start_time": "2024-10-14T02:23:37.664Z"
   },
   {
    "duration": 5,
    "start_time": "2024-10-14T02:24:09.892Z"
   },
   {
    "duration": 186,
    "start_time": "2024-10-14T02:24:31.143Z"
   },
   {
    "duration": 172,
    "start_time": "2024-10-14T02:24:45.538Z"
   },
   {
    "duration": 5,
    "start_time": "2024-10-14T02:30:51.206Z"
   },
   {
    "duration": 790,
    "start_time": "2024-10-14T02:30:59.147Z"
   },
   {
    "duration": 159,
    "start_time": "2024-10-14T02:30:59.940Z"
   },
   {
    "duration": 65,
    "start_time": "2024-10-14T02:31:00.101Z"
   },
   {
    "duration": 8,
    "start_time": "2024-10-14T02:31:00.168Z"
   },
   {
    "duration": 27,
    "start_time": "2024-10-14T02:31:00.178Z"
   },
   {
    "duration": 4,
    "start_time": "2024-10-14T02:31:00.207Z"
   },
   {
    "duration": 4,
    "start_time": "2024-10-14T02:31:00.213Z"
   },
   {
    "duration": 8,
    "start_time": "2024-10-14T02:31:00.219Z"
   },
   {
    "duration": 8,
    "start_time": "2024-10-14T02:31:00.228Z"
   },
   {
    "duration": 9,
    "start_time": "2024-10-14T02:31:00.240Z"
   },
   {
    "duration": 14,
    "start_time": "2024-10-14T02:31:00.250Z"
   },
   {
    "duration": 15,
    "start_time": "2024-10-14T02:31:00.305Z"
   },
   {
    "duration": 8,
    "start_time": "2024-10-14T02:31:00.322Z"
   },
   {
    "duration": 32,
    "start_time": "2024-10-14T02:31:00.331Z"
   },
   {
    "duration": 68,
    "start_time": "2024-10-14T02:31:00.365Z"
   },
   {
    "duration": 12,
    "start_time": "2024-10-14T02:31:00.434Z"
   },
   {
    "duration": 6,
    "start_time": "2024-10-14T02:31:00.448Z"
   },
   {
    "duration": 21,
    "start_time": "2024-10-14T02:31:00.455Z"
   },
   {
    "duration": 35,
    "start_time": "2024-10-14T02:31:00.478Z"
   },
   {
    "duration": 14,
    "start_time": "2024-10-14T02:31:00.515Z"
   },
   {
    "duration": 7,
    "start_time": "2024-10-14T02:31:00.530Z"
   },
   {
    "duration": 25,
    "start_time": "2024-10-14T02:31:00.538Z"
   },
   {
    "duration": 12,
    "start_time": "2024-10-14T02:31:00.565Z"
   },
   {
    "duration": 7,
    "start_time": "2024-10-14T02:31:00.605Z"
   },
   {
    "duration": 30,
    "start_time": "2024-10-14T02:31:00.615Z"
   },
   {
    "duration": 16,
    "start_time": "2024-10-14T02:31:00.647Z"
   },
   {
    "duration": 41,
    "start_time": "2024-10-14T02:31:00.665Z"
   },
   {
    "duration": 23,
    "start_time": "2024-10-14T02:31:00.710Z"
   },
   {
    "duration": 22,
    "start_time": "2024-10-14T02:31:00.734Z"
   },
   {
    "duration": 55,
    "start_time": "2024-10-14T02:31:00.758Z"
   },
   {
    "duration": 247,
    "start_time": "2024-10-14T02:31:00.814Z"
   },
   {
    "duration": 196,
    "start_time": "2024-10-14T02:31:01.064Z"
   },
   {
    "duration": 11,
    "start_time": "2024-10-14T02:31:01.262Z"
   },
   {
    "duration": 130,
    "start_time": "2024-10-14T02:31:01.275Z"
   },
   {
    "duration": 212,
    "start_time": "2024-10-14T02:31:01.407Z"
   },
   {
    "duration": 184,
    "start_time": "2024-10-14T02:31:01.621Z"
   },
   {
    "duration": 182,
    "start_time": "2024-10-14T02:31:01.807Z"
   },
   {
    "duration": 15,
    "start_time": "2024-10-14T02:31:01.991Z"
   },
   {
    "duration": 174,
    "start_time": "2024-10-14T02:31:02.008Z"
   },
   {
    "duration": 6,
    "start_time": "2024-10-14T02:31:02.184Z"
   },
   {
    "duration": 6,
    "start_time": "2024-10-14T02:31:31.604Z"
   },
   {
    "duration": 29,
    "start_time": "2024-10-14T02:32:49.234Z"
   },
   {
    "duration": 31,
    "start_time": "2024-10-14T02:33:14.653Z"
   },
   {
    "duration": 7,
    "start_time": "2024-10-14T02:33:27.237Z"
   },
   {
    "duration": 8,
    "start_time": "2024-10-14T02:37:43.776Z"
   },
   {
    "duration": 3828,
    "start_time": "2024-10-14T06:22:34.515Z"
   },
   {
    "duration": 422,
    "start_time": "2024-10-14T06:22:38.346Z"
   },
   {
    "duration": 195,
    "start_time": "2024-10-14T06:22:38.770Z"
   },
   {
    "duration": 7,
    "start_time": "2024-10-14T06:22:38.967Z"
   },
   {
    "duration": 72,
    "start_time": "2024-10-14T06:22:38.977Z"
   },
   {
    "duration": 5,
    "start_time": "2024-10-14T06:22:39.051Z"
   },
   {
    "duration": 7,
    "start_time": "2024-10-14T06:22:39.058Z"
   },
   {
    "duration": 9,
    "start_time": "2024-10-14T06:22:39.067Z"
   },
   {
    "duration": 70,
    "start_time": "2024-10-14T06:22:39.077Z"
   },
   {
    "duration": 9,
    "start_time": "2024-10-14T06:22:39.149Z"
   },
   {
    "duration": 15,
    "start_time": "2024-10-14T06:22:39.162Z"
   },
   {
    "duration": 17,
    "start_time": "2024-10-14T06:22:39.243Z"
   },
   {
    "duration": 7,
    "start_time": "2024-10-14T06:22:39.262Z"
   },
   {
    "duration": 89,
    "start_time": "2024-10-14T06:22:39.273Z"
   },
   {
    "duration": 100,
    "start_time": "2024-10-14T06:22:39.365Z"
   },
   {
    "duration": 15,
    "start_time": "2024-10-14T06:22:39.467Z"
   },
   {
    "duration": 8,
    "start_time": "2024-10-14T06:22:39.545Z"
   },
   {
    "duration": 21,
    "start_time": "2024-10-14T06:22:39.555Z"
   },
   {
    "duration": 68,
    "start_time": "2024-10-14T06:22:39.578Z"
   },
   {
    "duration": 14,
    "start_time": "2024-10-14T06:22:39.648Z"
   },
   {
    "duration": 7,
    "start_time": "2024-10-14T06:22:39.664Z"
   },
   {
    "duration": 92,
    "start_time": "2024-10-14T06:22:39.672Z"
   },
   {
    "duration": 14,
    "start_time": "2024-10-14T06:22:39.766Z"
   },
   {
    "duration": 64,
    "start_time": "2024-10-14T06:22:39.782Z"
   },
   {
    "duration": 29,
    "start_time": "2024-10-14T06:22:39.849Z"
   },
   {
    "duration": 75,
    "start_time": "2024-10-14T06:22:39.880Z"
   },
   {
    "duration": 22,
    "start_time": "2024-10-14T06:22:39.957Z"
   },
   {
    "duration": 84,
    "start_time": "2024-10-14T06:22:39.981Z"
   },
   {
    "duration": 87,
    "start_time": "2024-10-14T06:22:40.067Z"
   },
   {
    "duration": 101,
    "start_time": "2024-10-14T06:22:40.156Z"
   },
   {
    "duration": 426,
    "start_time": "2024-10-14T06:22:40.259Z"
   },
   {
    "duration": 424,
    "start_time": "2024-10-14T06:22:40.743Z"
   },
   {
    "duration": 7,
    "start_time": "2024-10-14T06:22:41.170Z"
   },
   {
    "duration": 385,
    "start_time": "2024-10-14T06:22:41.180Z"
   },
   {
    "duration": 416,
    "start_time": "2024-10-14T06:22:41.567Z"
   },
   {
    "duration": 397,
    "start_time": "2024-10-14T06:22:41.985Z"
   },
   {
    "duration": 489,
    "start_time": "2024-10-14T06:22:42.384Z"
   },
   {
    "duration": 67,
    "start_time": "2024-10-14T06:22:42.875Z"
   },
   {
    "duration": 399,
    "start_time": "2024-10-14T06:22:42.944Z"
   },
   {
    "duration": 8,
    "start_time": "2024-10-14T06:22:43.346Z"
   },
   {
    "duration": 12,
    "start_time": "2024-10-14T06:22:43.360Z"
   },
   {
    "duration": 22,
    "start_time": "2024-10-14T06:24:34.698Z"
   }
  ],
  "kernelspec": {
   "display_name": "Python 3 (ipykernel)",
   "language": "python",
   "name": "python3"
  },
  "language_info": {
   "codemirror_mode": {
    "name": "ipython",
    "version": 3
   },
   "file_extension": ".py",
   "mimetype": "text/x-python",
   "name": "python",
   "nbconvert_exporter": "python",
   "pygments_lexer": "ipython3",
   "version": "3.9.19"
  },
  "toc": {
   "base_numbering": 1,
   "nav_menu": {},
   "number_sections": true,
   "sideBar": true,
   "skip_h1_title": false,
   "title_cell": "Table of Contents",
   "title_sidebar": "Contents",
   "toc_cell": false,
   "toc_position": {},
   "toc_section_display": true,
   "toc_window_display": false
  }
 },
 "nbformat": 4,
 "nbformat_minor": 2
}
